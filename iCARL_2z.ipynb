{
 "cells": [
  {
   "cell_type": "code",
   "execution_count": 353,
   "id": "5cc99106",
   "metadata": {},
   "outputs": [],
   "source": [
    "%run DL_func.ipynb"
   ]
  },
  {
   "cell_type": "code",
   "execution_count": 354,
   "id": "a0e2f62b",
   "metadata": {},
   "outputs": [],
   "source": [
    "from sklearn.metrics import r2_score"
   ]
  },
  {
   "cell_type": "markdown",
   "id": "6214671b",
   "metadata": {},
   "source": [
    "The first step consists of generating the synthetic data. The data is generated from the graph shown belown. Z denotes the unobserved latent variables, Y is the target variable which will be assumed observed (i.e. in the cow/camel classification problem 'Y' will correspond to the label 'cow' / 'camel'). X is the observed features as is generated from Z via a neural network. In the cow / camel classification problem 'X' would correspond to the actual image. Finally, an environment variable E is introduced. The environment determines the mean of the gaussian distribution the Z's are drawn from. The generative process for each of the variables is as follows:\n",
    "\n",
    "$$Z_1 = \\mathcal{N}(E, \\sigma=1)$$\n",
    "$$Z_2 = \\mathcal{N}(2E, \\sigma=2)$$\n",
    "$$Y = \\mathcal{N}(\\alpha_1 \\cdot Z_1+\\alpha_2 \\cdot Z_2, \\sigma=1)$$\n",
    "$$Y = \\mathcal{N}(\\alpha_3 \\cdot Y, \\sigma=1)$$\n",
    "$$X = g(Z_1, Z_2, Z_3)$$\n",
    "\n",
    "Where g is a randomly initialized neural network. All of the alphas are in this case set to 1."
   ]
  },
  {
   "cell_type": "markdown",
   "id": "d584fb10",
   "metadata": {},
   "source": [
    "First off, the Y's and Z's are generated from 4 different environments. 1000 samples from each environment is drawn."
   ]
  },
  {
   "cell_type": "code",
   "execution_count": 355,
   "id": "1a484abd",
   "metadata": {},
   "outputs": [],
   "source": [
    "E_choice, Env, Y, Z = generate_z_and_y(np.array([0.2, 2, 3, 5]), 4000, three_z=False)"
   ]
  },
  {
   "cell_type": "markdown",
   "id": "2b8f07c4",
   "metadata": {},
   "source": [
    "Samples from the generative process is shown in the below dataframe along with markers of which environment a sample was drawn from and the corresponding 'mean' of that environment."
   ]
  },
  {
   "cell_type": "code",
   "execution_count": 356,
   "id": "8ee84a37",
   "metadata": {},
   "outputs": [
    {
     "data": {
      "text/html": [
       "<div>\n",
       "<style scoped>\n",
       "    .dataframe tbody tr th:only-of-type {\n",
       "        vertical-align: middle;\n",
       "    }\n",
       "\n",
       "    .dataframe tbody tr th {\n",
       "        vertical-align: top;\n",
       "    }\n",
       "\n",
       "    .dataframe thead th {\n",
       "        text-align: right;\n",
       "    }\n",
       "</style>\n",
       "<table border=\"1\" class=\"dataframe\">\n",
       "  <thead>\n",
       "    <tr style=\"text-align: right;\">\n",
       "      <th></th>\n",
       "      <th>Z1</th>\n",
       "      <th>Z2</th>\n",
       "      <th>Y</th>\n",
       "      <th>Env_mean</th>\n",
       "      <th>Env</th>\n",
       "      <th>c</th>\n",
       "    </tr>\n",
       "  </thead>\n",
       "  <tbody>\n",
       "    <tr>\n",
       "      <th>0</th>\n",
       "      <td>0.16</td>\n",
       "      <td>4.03</td>\n",
       "      <td>5.19</td>\n",
       "      <td>0.2</td>\n",
       "      <td>0</td>\n",
       "      <td>red</td>\n",
       "    </tr>\n",
       "    <tr>\n",
       "      <th>1</th>\n",
       "      <td>2.12</td>\n",
       "      <td>0.54</td>\n",
       "      <td>3.34</td>\n",
       "      <td>2.0</td>\n",
       "      <td>1</td>\n",
       "      <td>blue</td>\n",
       "    </tr>\n",
       "    <tr>\n",
       "      <th>2</th>\n",
       "      <td>0.72</td>\n",
       "      <td>2.78</td>\n",
       "      <td>1.62</td>\n",
       "      <td>0.2</td>\n",
       "      <td>0</td>\n",
       "      <td>red</td>\n",
       "    </tr>\n",
       "    <tr>\n",
       "      <th>3</th>\n",
       "      <td>6.40</td>\n",
       "      <td>7.71</td>\n",
       "      <td>15.01</td>\n",
       "      <td>5.0</td>\n",
       "      <td>3</td>\n",
       "      <td>yellow</td>\n",
       "    </tr>\n",
       "    <tr>\n",
       "      <th>4</th>\n",
       "      <td>3.39</td>\n",
       "      <td>6.21</td>\n",
       "      <td>10.27</td>\n",
       "      <td>3.0</td>\n",
       "      <td>2</td>\n",
       "      <td>green</td>\n",
       "    </tr>\n",
       "    <tr>\n",
       "      <th>...</th>\n",
       "      <td>...</td>\n",
       "      <td>...</td>\n",
       "      <td>...</td>\n",
       "      <td>...</td>\n",
       "      <td>...</td>\n",
       "      <td>...</td>\n",
       "    </tr>\n",
       "    <tr>\n",
       "      <th>3995</th>\n",
       "      <td>1.80</td>\n",
       "      <td>3.14</td>\n",
       "      <td>6.35</td>\n",
       "      <td>2.0</td>\n",
       "      <td>1</td>\n",
       "      <td>blue</td>\n",
       "    </tr>\n",
       "    <tr>\n",
       "      <th>3996</th>\n",
       "      <td>-0.86</td>\n",
       "      <td>0.59</td>\n",
       "      <td>-1.58</td>\n",
       "      <td>0.2</td>\n",
       "      <td>0</td>\n",
       "      <td>red</td>\n",
       "    </tr>\n",
       "    <tr>\n",
       "      <th>3997</th>\n",
       "      <td>2.15</td>\n",
       "      <td>-0.25</td>\n",
       "      <td>2.10</td>\n",
       "      <td>2.0</td>\n",
       "      <td>1</td>\n",
       "      <td>blue</td>\n",
       "    </tr>\n",
       "    <tr>\n",
       "      <th>3998</th>\n",
       "      <td>2.08</td>\n",
       "      <td>4.25</td>\n",
       "      <td>7.96</td>\n",
       "      <td>3.0</td>\n",
       "      <td>2</td>\n",
       "      <td>green</td>\n",
       "    </tr>\n",
       "    <tr>\n",
       "      <th>3999</th>\n",
       "      <td>6.87</td>\n",
       "      <td>7.37</td>\n",
       "      <td>15.47</td>\n",
       "      <td>5.0</td>\n",
       "      <td>3</td>\n",
       "      <td>yellow</td>\n",
       "    </tr>\n",
       "  </tbody>\n",
       "</table>\n",
       "<p>4000 rows × 6 columns</p>\n",
       "</div>"
      ],
      "text/plain": [
       "        Z1    Z2      Y  Env_mean  Env       c\n",
       "0     0.16  4.03   5.19       0.2    0     red\n",
       "1     2.12  0.54   3.34       2.0    1    blue\n",
       "2     0.72  2.78   1.62       0.2    0     red\n",
       "3     6.40  7.71  15.01       5.0    3  yellow\n",
       "4     3.39  6.21  10.27       3.0    2   green\n",
       "...    ...   ...    ...       ...  ...     ...\n",
       "3995  1.80  3.14   6.35       2.0    1    blue\n",
       "3996 -0.86  0.59  -1.58       0.2    0     red\n",
       "3997  2.15 -0.25   2.10       2.0    1    blue\n",
       "3998  2.08  4.25   7.96       3.0    2   green\n",
       "3999  6.87  7.37  15.47       5.0    3  yellow\n",
       "\n",
       "[4000 rows x 6 columns]"
      ]
     },
     "execution_count": 356,
     "metadata": {},
     "output_type": "execute_result"
    }
   ],
   "source": [
    "df=pd.concat([p(Z), p(Y), p(Env), p(E_choice)],axis=1)\n",
    "df.columns = ['Z1', 'Z2', 'Y', 'Env_mean', 'Env']\n",
    "colors = {0: 'red', 1: 'blue', 2: 'green', 3: 'yellow'}\n",
    "m=df['Env'].map(colors)\n",
    "df['c']=m\n",
    "tdf=df\n",
    "df.round(2)"
   ]
  },
  {
   "cell_type": "markdown",
   "id": "069c44fd",
   "metadata": {},
   "source": [
    "Figure x shows a 3d-plot of the samples in (Z1, Z2, Z3)-space coloured by environment."
   ]
  },
  {
   "cell_type": "code",
   "execution_count": 357,
   "id": "6c4a85b9",
   "metadata": {},
   "outputs": [
    {
     "data": {
      "text/plain": [
       "Text(0, 0.5, 'Z2-axis')"
      ]
     },
     "execution_count": 357,
     "metadata": {},
     "output_type": "execute_result"
    },
    {
     "data": {
      "image/png": "[encoded data removed]",
      "text/plain": [
       "<Figure size 432x288 with 1 Axes>"
      ]
     },
     "metadata": {
      "needs_background": "light"
     },
     "output_type": "display_data"
    }
   ],
   "source": [
    "#%matplotlib qt\n",
    "#plot_latent_3d(df, m)\n",
    "fig = plt.figure()\n",
    "\n",
    "\n",
    "# creating the plot\n",
    "plt.scatter(df['Z1'], df['Z2'], c=m)\n",
    "# setting title and labels\n",
    "plt.title(\"3D plot\")\n",
    "plt.xlabel('Z1-axis')\n",
    "plt.ylabel('Z2-axis')"
   ]
  },
  {
   "cell_type": "markdown",
   "id": "b09470fb",
   "metadata": {},
   "source": [
    "Finally, the observed X-values are generated via a randomly initialized neural network with 6 hidden units and 10 output units."
   ]
  },
  {
   "cell_type": "code",
   "execution_count": 358,
   "id": "f735a497",
   "metadata": {},
   "outputs": [],
   "source": [
    "net=Net1(2, 6, 10)\n",
    "X=net(torch.from_numpy(Z.astype(\"float32\"))).detach().numpy()"
   ]
  },
  {
   "cell_type": "code",
   "execution_count": 359,
   "id": "9929b345",
   "metadata": {},
   "outputs": [],
   "source": [
    "dset = EnvDataset(X[:2000],Y[:2000],E_choice[:2000])\n",
    "train_loader = DataLoader(dset, batch_size=128, drop_last=True)\n",
    "dset = EnvDataset(X[2000:],Y[2000:],E_choice[2000:])\n",
    "test_loader = DataLoader(dset, batch_size=128, drop_last=True)\n",
    "x,y,e = next(iter(train_loader))"
   ]
  },
  {
   "cell_type": "code",
   "execution_count": 360,
   "id": "501ae5fc",
   "metadata": {},
   "outputs": [],
   "source": [
    "class NLPrior(nn.Module):\n",
    "    def __init__(self, input_size, output_size) -> None:\n",
    "        super().__init__()\n",
    "        self.function = nn.Sequential(\n",
    "            nn.Linear(in_features=input_size, out_features=6),\n",
    "            nn.ReLU(),\n",
    "            nn.Linear(in_features=6, out_features=output_size*2)\n",
    "        )\n",
    "    def forward(self, x):\n",
    "        return self.function(x).chunk(2, axis = -1)"
   ]
  },
  {
   "cell_type": "code",
   "execution_count": 361,
   "id": "8855be9b",
   "metadata": {},
   "outputs": [],
   "source": [
    "import pdb\n",
    "class iCARL(nn.Module):\n",
    "    def __init__(self, x, y, e, input_size, output_size, input_size_de, output_size_de, input_size_pr, output_size_pr, y_dim, beta=1):\n",
    "        super().__init__()\n",
    "        # Encoder\n",
    "        self.func_en = nn.Sequential(\n",
    "                nn.Linear(in_features=input_size, out_features=6),\n",
    "                nn.ReLU(),\n",
    "                nn.Linear(in_features=6, out_features=2*output_size)\n",
    "            )\n",
    "        \n",
    "                # Decoder\n",
    "        self.func_de = nn.Sequential(\n",
    "                nn.Linear(in_features=input_size_de, out_features=6),\n",
    "                nn.ReLU(),\n",
    "                nn.Linear(in_features=6, out_features=output_size_de)\n",
    "            )\n",
    "        \n",
    "        # Prior\n",
    "        self.TNN = nn.Sequential(\n",
    "            nn.Linear(in_features=input_size_de, out_features=6),\n",
    "            nn.ReLU(),\n",
    "            nn.Linear(in_features=6, out_features=y_dim*2)\n",
    "        )\n",
    "        \n",
    "        self.lambdaNN = nn.Sequential(\n",
    "            nn.Linear(in_features=ye_dim, out_features=6),\n",
    "            nn.ReLU(),\n",
    "            nn.Linear(in_features=6, out_features=y_dim*2)\n",
    "        )\n",
    "        \n",
    "        self.lambdaf = nn.Sequential(\n",
    "            nn.Linear(in_features=ye_dim, out_features=6),\n",
    "            nn.ReLU(),\n",
    "            nn.Linear(in_features=6, out_features=input_size_de*2*2)\n",
    "        )\n",
    "        \n",
    "        self.normal_dist = Normal_dist()\n",
    "        \n",
    "        \n",
    "    \n",
    "    def forward(self, x, y, e, beta=1):\n",
    "        # Format input\n",
    "        xye=torch.cat((x, y, e), 1)\n",
    "        \n",
    "        # Get encoder params\n",
    "        z_usigma = self.func_en(xye)\n",
    "        zu, zsigma = z_usigma.chunk(2, dim = -1) # Get mu and sigma\n",
    "        zsigma = zsigma.exp()\n",
    "        encoder_params = zu, zsigma\n",
    "\n",
    "        # Sample Z\n",
    "        z = self.normal_dist.sample(zu, zsigma)\n",
    "\n",
    "        # Get decoder params\n",
    "        de_u = self.func_de(z)\n",
    "        \n",
    "        # Get prior params\n",
    "        #ye = torch.cat((y, e), 1)\n",
    "        #prior_u, prior_sigma = self.func(ye).chunk(2, axis = -1)\n",
    "        #prior_sigma = prior_sigma.exp()\n",
    "        \n",
    "        return zu, zsigma, de_u, z\n",
    "    \n",
    "    def elbo(self, x, y, e, beta=1):\n",
    "        # Get encoder and decoder params\n",
    "        zu, zsigma, de_u, z = self.forward(x, y, e)\n",
    "        # Samples from distributions with the acquired parameters\n",
    "        lvar = 0.01*torch.ones(1).to('cpu')\n",
    "        log_px_z = self.normal_dist.log_pdf(x, de_u, lvar) # p(x | u, sigma)\n",
    "        log_qz_xye = self.normal_dist.log_pdf(z, zu, zsigma)\n",
    "        \n",
    "        z_temp = z.detach().requires_grad_(requires_grad = True)\n",
    "        # Get prior params\n",
    "        ye = torch.cat((y.detach(),e.detach()),1)\n",
    "        TNN_params, _ = self.TNN(z_temp).chunk(2, axis = -1)\n",
    "        lambdaNN_params, _ = self.lambdaNN(ye).chunk(2, axis = -1)\n",
    "        lambdaf_params, _ = self.lambdaf(ye).chunk(2, axis = -1)\n",
    "        \n",
    "        nn_ = (TNN_params*lambdaNN_params).sum(dim = 1)\n",
    "        z_cat = torch.cat((z_temp, z_temp.pow(2)), dim = 1)\n",
    "        f_ = (z_cat * lambdaf_params).sum(dim = 1)\n",
    "        pz_ye = nn_ + f_\n",
    "        dpz_ye = torch.autograd.grad(pz_ye.sum(), z_temp, create_graph = True, retain_graph = True)[0]\n",
    "        ddpz_ye = torch.autograd.grad(dpz_ye.sum(), z_temp, create_graph = True, retain_graph = True)[0]\n",
    "        \n",
    "        SM = (ddpz_ye + 0.5 * dpz_ye.pow(2)).sum(1)\n",
    "        \n",
    "        #log_pz_ye = self.normal_dist.log_pdf(z, prior_u, prior_sigma)\n",
    "\n",
    "        # And compute kl and elbo\n",
    "        #kl = -log_qz_xye + log_pz_ye\n",
    "\n",
    "        elbo = log_px_z - log_qz_xye + pz_ye.detach()\n",
    "\n",
    "        return elbo.mean()-SM.mean(), elbo.mean(), SM.mean()\n",
    "\n",
    "    \n",
    "    "
   ]
  },
  {
   "cell_type": "code",
   "execution_count": 362,
   "id": "a0cab8aa",
   "metadata": {},
   "outputs": [
    {
     "name": "stderr",
     "output_type": "stream",
     "text": [
      "C:\\Users\\mathi\\anaconda3\\envs\\BackDec2022\\lib\\site-packages\\torch\\distributions\\distribution.py:44: UserWarning: <class '__main__.Normal_dist'> does not define `arg_constraints`. Please set `arg_constraints = {}` or initialize the distribution with `validate_args=False` to turn off validation.\n",
      "  warnings.warn(f'{self.__class__} does not define `arg_constraints`. ' +\n"
     ]
    }
   ],
   "source": [
    "z_dim = 2\n",
    "x_y_e = 15\n",
    "x_dim = 10\n",
    "ye_dim = 5\n",
    "y_dim = 1\n",
    "net=iCARL(x.float(), y.float(), e.float(), x_y_e, z_dim, z_dim, x_dim, ye_dim, z_dim, y_dim, beta=1)"
   ]
  },
  {
   "cell_type": "code",
   "execution_count": 363,
   "id": "51b395d9",
   "metadata": {},
   "outputs": [],
   "source": [
    "x,y,e = next(iter(train_loader))\n",
    "elbo_SM, elbo, SM = net.elbo(x.float(),y.float(),e.float())"
   ]
  },
  {
   "cell_type": "code",
   "execution_count": 364,
   "id": "3ca5bc35",
   "metadata": {},
   "outputs": [
    {
     "data": {
      "text/plain": [
       "tensor(-1634.8361, grad_fn=<MeanBackward0>)"
      ]
     },
     "execution_count": 364,
     "metadata": {},
     "output_type": "execute_result"
    }
   ],
   "source": [
    "elbo"
   ]
  },
  {
   "cell_type": "code",
   "execution_count": 365,
   "id": "64bf0293",
   "metadata": {},
   "outputs": [
    {
     "name": "stdout",
     "output_type": "stream",
     "text": [
      "Epoch 20 of 200\n",
      "Train loss: tensor(9.3899)\n",
      "Epoch 40 of 200\n",
      "Train loss: tensor(-36.8486)\n",
      "Epoch 60 of 200\n",
      "Train loss: tensor(-78.3234)\n",
      "Epoch 80 of 200\n",
      "Train loss: tensor(-84.2071)\n",
      "Epoch 100 of 200\n",
      "Train loss: tensor(-78.6164)\n",
      "Epoch 120 of 200\n",
      "Train loss: tensor(-74.2791)\n",
      "Epoch 140 of 200\n",
      "Train loss: tensor(-70.3887)\n",
      "Epoch 160 of 200\n",
      "Train loss: tensor(-65.4846)\n",
      "Epoch 180 of 200\n",
      "Train loss: tensor(-56.3546)\n",
      "Epoch 200 of 200\n",
      "Train loss: tensor(-52.0209)\n"
     ]
    }
   ],
   "source": [
    "from torch.optim import Adam\n",
    "optimizer = Adam(net.parameters(), lr=1e-3)\n",
    "\n",
    "epochs = 200\n",
    "train_loss = torch.zeros(epochs)\n",
    "elbo_loss = torch.zeros(epochs)\n",
    "SM_loss = torch.zeros(epochs)\n",
    "pz_ye_loss = torch.zeros(epochs)\n",
    "\n",
    "for epoch in range(epochs):\n",
    "    epoch_loss = 0\n",
    "    if epoch < 20:\n",
    "        beta = 10\n",
    "    else:\n",
    "        beta = 10\n",
    "    for x,y,e in train_loader:\n",
    "        optimizer.zero_grad()\n",
    "        loss, elbo, SM = net.elbo(x.float(), y.float(), e.float())\n",
    "        loss.mul(-1).backward()\n",
    "        optimizer.step()\n",
    "        epoch_loss += loss.mul(-1).detach()\n",
    "        \n",
    "    if (epoch+1)%20 == 0:\n",
    "        print('Epoch', epoch+1, 'of', epochs)\n",
    "        print('Train loss:', epoch_loss/len(train_loader))\n",
    "    train_loss[epoch] = epoch_loss/len(train_loader)"
   ]
  },
  {
   "cell_type": "code",
   "execution_count": 366,
   "id": "996a6adf",
   "metadata": {},
   "outputs": [
    {
     "data": {
      "image/png": "[encoded data removed]",
      "text/plain": [
       "<Figure size 432x288 with 1 Axes>"
      ]
     },
     "metadata": {
      "needs_background": "light"
     },
     "output_type": "display_data"
    }
   ],
   "source": [
    "import matplotlib.pyplot as plt\n",
    "plt.plot(train_loss)\n",
    "plt.show()\n"
   ]
  },
  {
   "cell_type": "code",
   "execution_count": 367,
   "id": "c5f23227",
   "metadata": {},
   "outputs": [],
   "source": [
    "# get z\n",
    "loader = test_loader\n",
    "latent_variables = torch.zeros((len(train_loader)*128, 2))\n",
    "envs_samp = np.zeros((len(train_loader)*128, 4))\n",
    "i = 0\n",
    "for x,y,e in loader:\n",
    "    _, _, _, z = net.forward(x.float(), y.float(), e.float(), beta=1)\n",
    "    latent_variables[i*128:i*128+128,:] = z.detach()\n",
    "    envs_samp[i*128:i*128+128,:] = e.squeeze().numpy().astype(int)\n",
    "    i+=1"
   ]
  },
  {
   "cell_type": "code",
   "execution_count": 368,
   "id": "f0ac80df",
   "metadata": {},
   "outputs": [],
   "source": [
    "df=pd.concat([p(latent_variables.detach().numpy()), p(np.argmax(envs_samp, axis=1))],axis=1)\n",
    "df.columns = ['Z1', 'Z2', 'Env']\n",
    "colors = {0: 'red', 1: 'blue', 2: 'green', 3: 'yellow'}\n",
    "m=df['Env'].map(colors)\n",
    "df['c']=m\n",
    "#df.round(2)"
   ]
  },
  {
   "cell_type": "code",
   "execution_count": 369,
   "id": "46a5ede8",
   "metadata": {},
   "outputs": [
    {
     "data": {
      "text/plain": [
       "0          red\n",
       "1        green\n",
       "2       yellow\n",
       "3          red\n",
       "4          red\n",
       "         ...  \n",
       "1915     green\n",
       "1916       red\n",
       "1917       red\n",
       "1918       red\n",
       "1919      blue\n",
       "Name: Env, Length: 1920, dtype: object"
      ]
     },
     "execution_count": 369,
     "metadata": {},
     "output_type": "execute_result"
    }
   ],
   "source": [
    "m"
   ]
  },
  {
   "cell_type": "code",
   "execution_count": 376,
   "id": "2dc503a4",
   "metadata": {},
   "outputs": [
    {
     "data": {
      "image/png": "[encoded data removed]",
      "text/plain": [
       "<Figure size 1200x800 with 1 Axes>"
      ]
     },
     "metadata": {
      "needs_background": "light"
     },
     "output_type": "display_data"
    }
   ],
   "source": [
    "# creating the plot\n",
    "plt.figure(figsize=(6,4), dpi = 200)\n",
    "plt.scatter(df['Z1'], df['Z2'], c=m)\n",
    "# setting title and labels\n",
    "plt.title(\"iCARL\")\n",
    "plt.xlabel('Z1-axis')\n",
    "plt.ylabel('Z2-axis')\n",
    "plt.savefig('Plot_iCARL_2z.jpg')"
   ]
  },
  {
   "cell_type": "code",
   "execution_count": 371,
   "id": "fe1fd262",
   "metadata": {},
   "outputs": [
    {
     "data": {
      "text/html": [
       "<div>\n",
       "<style scoped>\n",
       "    .dataframe tbody tr th:only-of-type {\n",
       "        vertical-align: middle;\n",
       "    }\n",
       "\n",
       "    .dataframe tbody tr th {\n",
       "        vertical-align: top;\n",
       "    }\n",
       "\n",
       "    .dataframe thead th {\n",
       "        text-align: right;\n",
       "    }\n",
       "</style>\n",
       "<table border=\"1\" class=\"dataframe\">\n",
       "  <thead>\n",
       "    <tr style=\"text-align: right;\">\n",
       "      <th></th>\n",
       "      <th>Z1</th>\n",
       "      <th>Z2</th>\n",
       "      <th>pZ1</th>\n",
       "      <th>pZ2</th>\n",
       "    </tr>\n",
       "  </thead>\n",
       "  <tbody>\n",
       "    <tr>\n",
       "      <th>Z1</th>\n",
       "      <td>1.000000</td>\n",
       "      <td>0.751534</td>\n",
       "      <td>-0.924656</td>\n",
       "      <td>-0.767939</td>\n",
       "    </tr>\n",
       "    <tr>\n",
       "      <th>Z2</th>\n",
       "      <td>0.751534</td>\n",
       "      <td>1.000000</td>\n",
       "      <td>-0.938601</td>\n",
       "      <td>-0.685229</td>\n",
       "    </tr>\n",
       "    <tr>\n",
       "      <th>pZ1</th>\n",
       "      <td>-0.924656</td>\n",
       "      <td>-0.938601</td>\n",
       "      <td>1.000000</td>\n",
       "      <td>0.765596</td>\n",
       "    </tr>\n",
       "    <tr>\n",
       "      <th>pZ2</th>\n",
       "      <td>-0.767939</td>\n",
       "      <td>-0.685229</td>\n",
       "      <td>0.765596</td>\n",
       "      <td>1.000000</td>\n",
       "    </tr>\n",
       "  </tbody>\n",
       "</table>\n",
       "</div>"
      ],
      "text/plain": [
       "           Z1        Z2       pZ1       pZ2\n",
       "Z1   1.000000  0.751534 -0.924656 -0.767939\n",
       "Z2   0.751534  1.000000 -0.938601 -0.685229\n",
       "pZ1 -0.924656 -0.938601  1.000000  0.765596\n",
       "pZ2 -0.767939 -0.685229  0.765596  1.000000"
      ]
     },
     "execution_count": 371,
     "metadata": {},
     "output_type": "execute_result"
    }
   ],
   "source": [
    "pdf=df[['Z1', 'Z2']]\n",
    "pdf.columns = ['pZ1', 'pZ2']\n",
    "cdf=tdf[['Z1', 'Z2']].iloc[2000:3920,:]\n",
    "#cdf=tdf[['Z1', 'Z2', 'Z3']].iloc[:1920,:]\n",
    "cdf['pZ1']=pdf['pZ1'].values\n",
    "cdf['pZ2']=pdf['pZ2'].values\n",
    "\n",
    "#corrs=cdf.corr().iloc[:3,3:]\n",
    "#mcc=corrs.max().mean()\n",
    "#mcc_abs=np.abs(corrs.max()).mean()\n",
    "#mcc, mcc_abs\n",
    "cdf.corr()"
   ]
  },
  {
   "cell_type": "code",
   "execution_count": 372,
   "id": "5e3ccf67",
   "metadata": {},
   "outputs": [
    {
     "data": {
      "text/plain": [
       "0.8532698456709438"
      ]
     },
     "execution_count": 372,
     "metadata": {},
     "output_type": "execute_result"
    }
   ],
   "source": [
    "# MCC value\n",
    "np.abs(cdf.corr().iloc[:2,2:]).max().mean()"
   ]
  },
  {
   "cell_type": "code",
   "execution_count": 373,
   "id": "8858a37c",
   "metadata": {},
   "outputs": [],
   "source": [
    "def MCC(true_z, predicted_z):\n",
    "    \"\"\"Caluclates the Correlation Coefficient between all pairs of true \n",
    "    and recovered latent variables for one environment \n",
    "\n",
    "    Uses Pearsons Corr Coef\n",
    "\n",
    "    from paper: \n",
    "    We also compute the mean correlation coefficient (MCC) used in Khemakhem et al. (2020a), which\n",
    "    can be obtained by calculating the correlation coefficient between all pairs of true and recovered\n",
    "    latent factors and then solving a linear sum assignment problem by assigning each recovered latent\n",
    "    factor to the true latent factor with which it best correlates\n",
    "\n",
    "    Args:\n",
    "        true_z (numpy array): 2D dimensional numpy array, where columns represent variables\n",
    "        predicted_z (numpy array): _description_\n",
    "    \"\"\"\n",
    "    num_true = len(true_z[0])\n",
    "    num_predicted = len(predicted_z[0])\n",
    "    corr_matrix = np.abs(np.corrcoef(true_z, predicted_z, rowvar=False))\n",
    "    reduced_matrix = corr_matrix[\n",
    "        0:num_true, num_true : len(corr_matrix[0]) + 1\n",
    "    ]  # where rows are true and columns are predicted\n",
    "    row_ind, col_ind = linear_sum_assignment(reduced_matrix, maximize=True)\n",
    "\n",
    "    mcc = [reduced_matrix[row_ind[i], col_ind[i]] for i in range(len(row_ind))]\n",
    "    print(mcc)\n",
    "    mcc = np.sum(mcc) / (num_predicted)\n",
    "    return mcc"
   ]
  },
  {
   "cell_type": "code",
   "execution_count": 374,
   "id": "ff1ae7fd",
   "metadata": {},
   "outputs": [
    {
     "name": "stdout",
     "output_type": "stream",
     "text": [
      "[0.7679390978441951, 0.9386005934976925]\n"
     ]
    },
    {
     "data": {
      "text/plain": [
       "0.8532698456709438"
      ]
     },
     "execution_count": 374,
     "metadata": {},
     "output_type": "execute_result"
    }
   ],
   "source": [
    "MCC(cdf.iloc[:,:2].values, pdf.values)"
   ]
  },
  {
   "cell_type": "code",
   "execution_count": 375,
   "id": "c345187f",
   "metadata": {},
   "outputs": [
    {
     "ename": "KeyError",
     "evalue": "'Z3'",
     "output_type": "error",
     "traceback": [
      "\u001b[1;31m---------------------------------------------------------------------------\u001b[0m",
      "\u001b[1;31mKeyError\u001b[0m                                  Traceback (most recent call last)",
      "\u001b[1;32m~\\anaconda3\\envs\\BackDec2022\\lib\\site-packages\\pandas\\core\\indexes\\base.py\u001b[0m in \u001b[0;36mget_loc\u001b[1;34m(self, key, method, tolerance)\u001b[0m\n\u001b[0;32m   3360\u001b[0m             \u001b[1;32mtry\u001b[0m\u001b[1;33m:\u001b[0m\u001b[1;33m\u001b[0m\u001b[1;33m\u001b[0m\u001b[0m\n\u001b[1;32m-> 3361\u001b[1;33m                 \u001b[1;32mreturn\u001b[0m \u001b[0mself\u001b[0m\u001b[1;33m.\u001b[0m\u001b[0m_engine\u001b[0m\u001b[1;33m.\u001b[0m\u001b[0mget_loc\u001b[0m\u001b[1;33m(\u001b[0m\u001b[0mcasted_key\u001b[0m\u001b[1;33m)\u001b[0m\u001b[1;33m\u001b[0m\u001b[1;33m\u001b[0m\u001b[0m\n\u001b[0m\u001b[0;32m   3362\u001b[0m             \u001b[1;32mexcept\u001b[0m \u001b[0mKeyError\u001b[0m \u001b[1;32mas\u001b[0m \u001b[0merr\u001b[0m\u001b[1;33m:\u001b[0m\u001b[1;33m\u001b[0m\u001b[1;33m\u001b[0m\u001b[0m\n",
      "\u001b[1;32m~\\anaconda3\\envs\\BackDec2022\\lib\\site-packages\\pandas\\_libs\\index.pyx\u001b[0m in \u001b[0;36mpandas._libs.index.IndexEngine.get_loc\u001b[1;34m()\u001b[0m\n",
      "\u001b[1;32m~\\anaconda3\\envs\\BackDec2022\\lib\\site-packages\\pandas\\_libs\\index.pyx\u001b[0m in \u001b[0;36mpandas._libs.index.IndexEngine.get_loc\u001b[1;34m()\u001b[0m\n",
      "\u001b[1;32mpandas\\_libs\\hashtable_class_helper.pxi\u001b[0m in \u001b[0;36mpandas._libs.hashtable.PyObjectHashTable.get_item\u001b[1;34m()\u001b[0m\n",
      "\u001b[1;32mpandas\\_libs\\hashtable_class_helper.pxi\u001b[0m in \u001b[0;36mpandas._libs.hashtable.PyObjectHashTable.get_item\u001b[1;34m()\u001b[0m\n",
      "\u001b[1;31mKeyError\u001b[0m: 'Z3'",
      "\nThe above exception was the direct cause of the following exception:\n",
      "\u001b[1;31mKeyError\u001b[0m                                  Traceback (most recent call last)",
      "\u001b[1;32m~\\AppData\\Local\\Temp/ipykernel_10284/1226718129.py\u001b[0m in \u001b[0;36m<module>\u001b[1;34m\u001b[0m\n\u001b[0;32m     10\u001b[0m \u001b[0mdfc\u001b[0m\u001b[1;33m[\u001b[0m\u001b[1;34m'Z2x_2'\u001b[0m\u001b[1;33m]\u001b[0m\u001b[1;33m=\u001b[0m\u001b[0mdfc\u001b[0m\u001b[1;33m[\u001b[0m\u001b[1;34m'Z2'\u001b[0m\u001b[1;33m]\u001b[0m\u001b[1;33m*\u001b[0m\u001b[0mdfc\u001b[0m\u001b[1;33m[\u001b[0m\u001b[1;36m2\u001b[0m\u001b[1;33m]\u001b[0m\u001b[1;33m\u001b[0m\u001b[1;33m\u001b[0m\u001b[0m\n\u001b[0;32m     11\u001b[0m \u001b[0mdfc\u001b[0m\u001b[1;33m[\u001b[0m\u001b[1;34m'Z2x_3'\u001b[0m\u001b[1;33m]\u001b[0m\u001b[1;33m=\u001b[0m\u001b[0mdfc\u001b[0m\u001b[1;33m[\u001b[0m\u001b[1;34m'Z2'\u001b[0m\u001b[1;33m]\u001b[0m\u001b[1;33m*\u001b[0m\u001b[0mdfc\u001b[0m\u001b[1;33m[\u001b[0m\u001b[1;36m3\u001b[0m\u001b[1;33m]\u001b[0m\u001b[1;33m\u001b[0m\u001b[1;33m\u001b[0m\u001b[0m\n\u001b[1;32m---> 12\u001b[1;33m \u001b[0mdfc\u001b[0m\u001b[1;33m[\u001b[0m\u001b[1;34m'Z3x_1'\u001b[0m\u001b[1;33m]\u001b[0m\u001b[1;33m=\u001b[0m\u001b[0mdfc\u001b[0m\u001b[1;33m[\u001b[0m\u001b[1;34m'Z3'\u001b[0m\u001b[1;33m]\u001b[0m\u001b[1;33m*\u001b[0m\u001b[0mdfc\u001b[0m\u001b[1;33m[\u001b[0m\u001b[1;36m1\u001b[0m\u001b[1;33m]\u001b[0m\u001b[1;33m\u001b[0m\u001b[1;33m\u001b[0m\u001b[0m\n\u001b[0m\u001b[0;32m     13\u001b[0m \u001b[0mdfc\u001b[0m\u001b[1;33m[\u001b[0m\u001b[1;34m'Z3x_2'\u001b[0m\u001b[1;33m]\u001b[0m\u001b[1;33m=\u001b[0m\u001b[0mdfc\u001b[0m\u001b[1;33m[\u001b[0m\u001b[1;34m'Z3'\u001b[0m\u001b[1;33m]\u001b[0m\u001b[1;33m*\u001b[0m\u001b[0mdfc\u001b[0m\u001b[1;33m[\u001b[0m\u001b[1;36m2\u001b[0m\u001b[1;33m]\u001b[0m\u001b[1;33m\u001b[0m\u001b[1;33m\u001b[0m\u001b[0m\n\u001b[0;32m     14\u001b[0m \u001b[0mdfc\u001b[0m\u001b[1;33m[\u001b[0m\u001b[1;34m'Z3x_3'\u001b[0m\u001b[1;33m]\u001b[0m\u001b[1;33m=\u001b[0m\u001b[0mdfc\u001b[0m\u001b[1;33m[\u001b[0m\u001b[1;34m'Z3'\u001b[0m\u001b[1;33m]\u001b[0m\u001b[1;33m*\u001b[0m\u001b[0mdfc\u001b[0m\u001b[1;33m[\u001b[0m\u001b[1;36m3\u001b[0m\u001b[1;33m]\u001b[0m\u001b[1;33m\u001b[0m\u001b[1;33m\u001b[0m\u001b[0m\n",
      "\u001b[1;32m~\\anaconda3\\envs\\BackDec2022\\lib\\site-packages\\pandas\\core\\frame.py\u001b[0m in \u001b[0;36m__getitem__\u001b[1;34m(self, key)\u001b[0m\n\u001b[0;32m   3456\u001b[0m             \u001b[1;32mif\u001b[0m \u001b[0mself\u001b[0m\u001b[1;33m.\u001b[0m\u001b[0mcolumns\u001b[0m\u001b[1;33m.\u001b[0m\u001b[0mnlevels\u001b[0m \u001b[1;33m>\u001b[0m \u001b[1;36m1\u001b[0m\u001b[1;33m:\u001b[0m\u001b[1;33m\u001b[0m\u001b[1;33m\u001b[0m\u001b[0m\n\u001b[0;32m   3457\u001b[0m                 \u001b[1;32mreturn\u001b[0m \u001b[0mself\u001b[0m\u001b[1;33m.\u001b[0m\u001b[0m_getitem_multilevel\u001b[0m\u001b[1;33m(\u001b[0m\u001b[0mkey\u001b[0m\u001b[1;33m)\u001b[0m\u001b[1;33m\u001b[0m\u001b[1;33m\u001b[0m\u001b[0m\n\u001b[1;32m-> 3458\u001b[1;33m             \u001b[0mindexer\u001b[0m \u001b[1;33m=\u001b[0m \u001b[0mself\u001b[0m\u001b[1;33m.\u001b[0m\u001b[0mcolumns\u001b[0m\u001b[1;33m.\u001b[0m\u001b[0mget_loc\u001b[0m\u001b[1;33m(\u001b[0m\u001b[0mkey\u001b[0m\u001b[1;33m)\u001b[0m\u001b[1;33m\u001b[0m\u001b[1;33m\u001b[0m\u001b[0m\n\u001b[0m\u001b[0;32m   3459\u001b[0m             \u001b[1;32mif\u001b[0m \u001b[0mis_integer\u001b[0m\u001b[1;33m(\u001b[0m\u001b[0mindexer\u001b[0m\u001b[1;33m)\u001b[0m\u001b[1;33m:\u001b[0m\u001b[1;33m\u001b[0m\u001b[1;33m\u001b[0m\u001b[0m\n\u001b[0;32m   3460\u001b[0m                 \u001b[0mindexer\u001b[0m \u001b[1;33m=\u001b[0m \u001b[1;33m[\u001b[0m\u001b[0mindexer\u001b[0m\u001b[1;33m]\u001b[0m\u001b[1;33m\u001b[0m\u001b[1;33m\u001b[0m\u001b[0m\n",
      "\u001b[1;32m~\\anaconda3\\envs\\BackDec2022\\lib\\site-packages\\pandas\\core\\indexes\\base.py\u001b[0m in \u001b[0;36mget_loc\u001b[1;34m(self, key, method, tolerance)\u001b[0m\n\u001b[0;32m   3361\u001b[0m                 \u001b[1;32mreturn\u001b[0m \u001b[0mself\u001b[0m\u001b[1;33m.\u001b[0m\u001b[0m_engine\u001b[0m\u001b[1;33m.\u001b[0m\u001b[0mget_loc\u001b[0m\u001b[1;33m(\u001b[0m\u001b[0mcasted_key\u001b[0m\u001b[1;33m)\u001b[0m\u001b[1;33m\u001b[0m\u001b[1;33m\u001b[0m\u001b[0m\n\u001b[0;32m   3362\u001b[0m             \u001b[1;32mexcept\u001b[0m \u001b[0mKeyError\u001b[0m \u001b[1;32mas\u001b[0m \u001b[0merr\u001b[0m\u001b[1;33m:\u001b[0m\u001b[1;33m\u001b[0m\u001b[1;33m\u001b[0m\u001b[0m\n\u001b[1;32m-> 3363\u001b[1;33m                 \u001b[1;32mraise\u001b[0m \u001b[0mKeyError\u001b[0m\u001b[1;33m(\u001b[0m\u001b[0mkey\u001b[0m\u001b[1;33m)\u001b[0m \u001b[1;32mfrom\u001b[0m \u001b[0merr\u001b[0m\u001b[1;33m\u001b[0m\u001b[1;33m\u001b[0m\u001b[0m\n\u001b[0m\u001b[0;32m   3364\u001b[0m \u001b[1;33m\u001b[0m\u001b[0m\n\u001b[0;32m   3365\u001b[0m         \u001b[1;32mif\u001b[0m \u001b[0mis_scalar\u001b[0m\u001b[1;33m(\u001b[0m\u001b[0mkey\u001b[0m\u001b[1;33m)\u001b[0m \u001b[1;32mand\u001b[0m \u001b[0misna\u001b[0m\u001b[1;33m(\u001b[0m\u001b[0mkey\u001b[0m\u001b[1;33m)\u001b[0m \u001b[1;32mand\u001b[0m \u001b[1;32mnot\u001b[0m \u001b[0mself\u001b[0m\u001b[1;33m.\u001b[0m\u001b[0mhasnans\u001b[0m\u001b[1;33m:\u001b[0m\u001b[1;33m\u001b[0m\u001b[1;33m\u001b[0m\u001b[0m\n",
      "\u001b[1;31mKeyError\u001b[0m: 'Z3'"
     ]
    }
   ],
   "source": [
    "import pingouin as pg\n",
    "from sklearn.linear_model import LinearRegression\n",
    "df['Y']=Y[2000:3920]\n",
    "\n",
    "dfc=pd.concat([df,pd.get_dummies(df['Env'],drop_first=True)],axis=1)\n",
    "dfc['Z1x_1']=dfc['Z1']*dfc[1]\n",
    "dfc['Z1x_2']=dfc['Z1']*dfc[2]\n",
    "dfc['Z1x_3']=dfc['Z1']*dfc[3]\n",
    "dfc['Z2x_1']=dfc['Z2']*dfc[1]\n",
    "dfc['Z2x_2']=dfc['Z2']*dfc[2]\n",
    "dfc['Z2x_3']=dfc['Z2']*dfc[3]\n",
    "dfc['Z3x_1']=dfc['Z3']*dfc[1]\n",
    "dfc['Z3x_2']=dfc['Z3']*dfc[2]\n",
    "dfc['Z3x_3']=dfc['Z3']*dfc[3]\n",
    "train=dfc.iloc[:1600,:]\n",
    "test=dfc.iloc[:1600,:]"
   ]
  },
  {
   "cell_type": "code",
   "execution_count": null,
   "id": "f408daa0",
   "metadata": {},
   "outputs": [],
   "source": [
    "def predict_y(df, x_train, y_train, x_test, y_test, linear=True):\n",
    "    if linear:\n",
    "        lm = pg.linear_regression(x_train,y_train)\n",
    "        print(lm)\n",
    "        reg = LinearRegression().fit(x_train, y_train)\n",
    "        y_pred = reg.predict(x_test)\n",
    "        print(r2_score(y_pred, y_test))\n",
    "        \n",
    "        return y_pred\n",
    "    \n",
    "    "
   ]
  },
  {
   "cell_type": "code",
   "execution_count": null,
   "id": "790aa52a",
   "metadata": {},
   "outputs": [],
   "source": [
    "train=df.iloc[:1600,:]\n",
    "test=df.iloc[:1600,:]"
   ]
  },
  {
   "cell_type": "code",
   "execution_count": null,
   "id": "e8ca49c7",
   "metadata": {},
   "outputs": [],
   "source": [
    "y_pred=predict_y(dfc, train[['Z1', 'Z2', 'Z3']], train['Y'], test[['Z1', 'Z2', 'Z3']], test['Y'])\n",
    "#y_pred=predict_y(dfc, train[['Z1', 'Z2', 1, 2, 3, 'Z1x_1', 'Z1x_2', 'Z1x_3', 'Z2x_1', 'Z2x_2', 'Z2x_3']],\n",
    "#                 train['y'], test[['Z1', 'Z2', 1, 2, 3, 'Z1x_1', 'Z1x_2', 'Z1x_3', 'Z2x_1', 'Z2x_2', 'Z2x_3']],\n",
    "#                 test['y'])\n",
    "y_pred=predict_y(dfc, train[['Z1', 'Z2']], train['Y'], test[['Z1', 'Z2']], test['Y'])\n",
    "y_pred=predict_y(dfc, train[['Z3']], train['Y'], test[['Z3']], test['Y'])"
   ]
  },
  {
   "cell_type": "code",
   "execution_count": null,
   "id": "bb390856",
   "metadata": {},
   "outputs": [],
   "source": [
    "y_pred=predict_y(dfc, train[['Z1', 'Z2', 'Z3']], train['y'], test[['Z1', 'Z2', 'Z3']], test['y'])\n",
    "#y_pred=predict_y(dfc, train[['Z1', 'Z2', 1, 2, 3, 'Z1x_1', 'Z1x_2', 'Z1x_3', 'Z2x_1', 'Z2x_2', 'Z2x_3']],\n",
    "#                 train['y'], test[['Z1', 'Z2', 1, 2, 3, 'Z1x_1', 'Z1x_2', 'Z1x_3', 'Z2x_1', 'Z2x_2', 'Z2x_3']],\n",
    "#                 test['y'])\n",
    "y_pred=predict_y(dfc, train[['Z1', 'Z2']], train['y'], test[['Z1', 'Z2']], test['y'])\n",
    "y_pred=predict_y(dfc, train[['Z3']], train['y'], test[['Z3']], test['y'])"
   ]
  },
  {
   "cell_type": "markdown",
   "id": "f23fb7cc",
   "metadata": {},
   "source": [
    "## Case with just 2 latent variables ##"
   ]
  },
  {
   "cell_type": "code",
   "execution_count": null,
   "id": "6440882f",
   "metadata": {},
   "outputs": [],
   "source": [
    "E_choice, Env, Y, Z = generate_z_and_y(np.array([0.2, 2, 3, 5]), 4000, three_z=False)"
   ]
  },
  {
   "cell_type": "markdown",
   "id": "9d9d6245",
   "metadata": {},
   "source": [
    "Samples from the generative process is shown in the below dataframe along with markers of which environment a sample was drawn from and the corresponding 'mean' of that environment."
   ]
  },
  {
   "cell_type": "code",
   "execution_count": null,
   "id": "a3c90d75",
   "metadata": {},
   "outputs": [],
   "source": [
    "df=pd.concat([p(Z), p(Y), p(Env), p(E_choice)],axis=1)\n",
    "df.columns = ['Z1', 'Z2', 'Y', 'Env_mean', 'Env']\n",
    "colors = {0: 'red', 1: 'blue', 2: 'green', 3: 'yellow'}\n",
    "m=df['Env'].map(colors)\n",
    "df['c']=m\n",
    "tdf=df\n",
    "df.round(2)"
   ]
  },
  {
   "cell_type": "markdown",
   "id": "36621c2c",
   "metadata": {},
   "source": [
    "Figure x shows a 3d-plot of the samples in (Z1, Z2, Z3)-space coloured by environment."
   ]
  },
  {
   "cell_type": "code",
   "execution_count": null,
   "id": "0aefab9a",
   "metadata": {},
   "outputs": [],
   "source": [
    "# for creating a responsive plot\n",
    "#%matplotlib qt\n",
    "\n",
    "#plot_latent_3d(df, m)"
   ]
  },
  {
   "cell_type": "markdown",
   "id": "c49fa101",
   "metadata": {},
   "source": [
    "Finally, the observed X-values are generated via a randomly initialized neural network with 6 hidden units and 10 output units."
   ]
  },
  {
   "cell_type": "code",
   "execution_count": null,
   "id": "75c89fb2",
   "metadata": {},
   "outputs": [],
   "source": [
    "net=Net(2, 6, 10)\n",
    "X=net(torch.from_numpy(Z.astype(\"float32\"))).detach().numpy()"
   ]
  },
  {
   "cell_type": "code",
   "execution_count": null,
   "id": "70e341c8",
   "metadata": {},
   "outputs": [],
   "source": [
    "dset = EnvDataset(X[:2000],Y[:2000],E_choice[:2000])\n",
    "train_loader = DataLoader(dset, batch_size=128, drop_last=True)\n",
    "dset = EnvDataset(X[2000:],Y[2000:],E_choice[2000:])\n",
    "test_loader = DataLoader(dset, batch_size=128, drop_last=True)\n",
    "x,y,e = next(iter(train_loader))"
   ]
  },
  {
   "cell_type": "code",
   "execution_count": null,
   "id": "04a67092",
   "metadata": {},
   "outputs": [],
   "source": [
    "net=UglyiVAE(x.float(), y.float(), e.float(), 15, 2, 2, 10, 5, 2, beta=1)"
   ]
  },
  {
   "cell_type": "code",
   "execution_count": null,
   "id": "6b4e4ad2",
   "metadata": {},
   "outputs": [],
   "source": [
    "from torch.optim import Adam\n",
    "optimizer = Adam(net.parameters(), lr=1e-3)\n",
    "\n",
    "epochs = 200\n",
    "train_loss = torch.zeros(epochs)\n",
    "elbo_loss = torch.zeros(epochs)\n",
    "SM_loss = torch.zeros(epochs)\n",
    "pz_ye_loss = torch.zeros(epochs)\n",
    "\n",
    "for epoch in range(epochs):\n",
    "    epoch_loss = 0\n",
    "    if epoch < 20:\n",
    "        beta = 10\n",
    "    else:\n",
    "        beta = 10\n",
    "    for x,y,e in train_loader:\n",
    "        optimizer.zero_grad()\n",
    "        loss = net.elbo(x.float(), y.float(), e.float())\n",
    "        loss.mul(-1).backward()\n",
    "        optimizer.step()\n",
    "        epoch_loss += loss.mul(-1).detach()\n",
    "        \n",
    "    if (epoch+1)%20 == 0:\n",
    "        print('Epoch', epoch+1, 'of', epochs)\n",
    "        print('Train loss:', epoch_loss/len(train_loader))\n",
    "    train_loss[epoch] = epoch_loss/len(train_loader)"
   ]
  },
  {
   "cell_type": "code",
   "execution_count": null,
   "id": "942d3cee",
   "metadata": {},
   "outputs": [],
   "source": [
    "import matplotlib.pyplot as plt\n",
    "plt.plot(train_loss)\n",
    "plt.show()\n"
   ]
  },
  {
   "cell_type": "code",
   "execution_count": null,
   "id": "23f9284b",
   "metadata": {},
   "outputs": [],
   "source": [
    "# get z\n",
    "loader = test_loader\n",
    "latent_variables = torch.zeros((len(train_loader)*128, 2))\n",
    "envs_samp = np.zeros((len(train_loader)*128, 4))\n",
    "i = 0\n",
    "for x,y,e in loader:\n",
    "    _, _, _, _, _, z = net.forward(x.float(), y.float(), e.float(), beta=1)\n",
    "    latent_variables[i*128:i*128+128,:] = z.detach()\n",
    "    envs_samp[i*128:i*128+128,:] = e.squeeze().numpy().astype(int)\n",
    "    i+=1"
   ]
  },
  {
   "cell_type": "code",
   "execution_count": null,
   "id": "1c5163c5",
   "metadata": {},
   "outputs": [],
   "source": [
    "df=pd.concat([p(latent_variables.detach().numpy()), p(np.argmax(envs_samp, axis=1))],axis=1)\n",
    "df.columns = ['Z1', 'Z2', 'Env']\n",
    "colors = {0: 'red', 1: 'blue', 2: 'green', 3: 'yellow'}\n",
    "m=df['Env'].map(colors)\n",
    "df['c']=m\n",
    "#df.round(2)"
   ]
  },
  {
   "cell_type": "code",
   "execution_count": null,
   "id": "07b1d465",
   "metadata": {},
   "outputs": [],
   "source": [
    "#%matplotlib qt\n",
    "#plot_latent_3d(df, m)\n",
    "fig = plt.figure()\n",
    "\n",
    "\n",
    "# creating the plot\n",
    "plt.scatter(df['Z1'], df['Z2'], c=m)\n",
    "# setting title and labels\n",
    "plt.title(\"3D plot\")\n",
    "plt.xlabel('Z1-axis')\n",
    "plt.ylabel('Z2-axis')"
   ]
  },
  {
   "cell_type": "code",
   "execution_count": null,
   "id": "9b18f3ef",
   "metadata": {},
   "outputs": [],
   "source": [
    "pdf=df[['Z1', 'Z2']]\n",
    "pdf.columns = ['pZ1', 'pZ2']\n",
    "cdf=tdf[['Z1', 'Z2']].iloc[2000:3920,:]\n",
    "#cdf=tdf[['Z1', 'Z2', 'Z3']].iloc[:1920,:]\n",
    "cdf['pZ1']=pdf['pZ1'].values\n",
    "cdf['pZ2']=pdf['pZ2'].values\n",
    "\n",
    "corrs=cdf.corr().iloc[:2,2:]\n",
    "mcc=corrs.max().mean()\n",
    "mcc_abs=np.abs(corrs.max()).mean()\n",
    "mcc, mcc_abs"
   ]
  },
  {
   "cell_type": "code",
   "execution_count": null,
   "id": "df83e5e6",
   "metadata": {},
   "outputs": [],
   "source": [
    "import pingouin as pg\n",
    "from sklearn.linear_model import LinearRegression\n",
    "df['y']=Y[2000:3920]\n",
    "\n",
    "dfc=pd.concat([df,pd.get_dummies(df['Env'],drop_first=True)],axis=1)\n",
    "dfc['Z1x_1']=dfc['Z1']*dfc[1]\n",
    "dfc['Z1x_2']=dfc['Z1']*dfc[2]\n",
    "dfc['Z1x_3']=dfc['Z1']*dfc[3]\n",
    "dfc['Z2x_1']=dfc['Z2']*dfc[1]\n",
    "dfc['Z2x_2']=dfc['Z2']*dfc[2]\n",
    "dfc['Z2x_3']=dfc['Z2']*dfc[3]\n",
    "train=dfc.iloc[:1600,:]\n",
    "test=dfc.iloc[:1600,:]"
   ]
  },
  {
   "cell_type": "code",
   "execution_count": null,
   "id": "51fce329",
   "metadata": {},
   "outputs": [],
   "source": [
    "def predict_y(df, x_train, y_train, x_test, y_test, linear=True):\n",
    "    if linear:\n",
    "        lm = pg.linear_regression(x_train,y_train)\n",
    "        print(lm)\n",
    "        reg = LinearRegression().fit(x_train, y_train)\n",
    "        y_pred = reg.predict(x_test)\n",
    "        print(r2_score(y_pred, y_test))\n",
    "        \n",
    "        return y_pred\n",
    "    \n",
    "    "
   ]
  },
  {
   "cell_type": "code",
   "execution_count": null,
   "id": "0598ff2c",
   "metadata": {},
   "outputs": [],
   "source": [
    "y_pred=predict_y(dfc, train[['Z1', 'Z2']], train['y'], test[['Z1', 'Z2']], test['y'])\n",
    "#y_pred=predict_y(dfc, train[['Z1', 'Z2', 1, 2, 3, 'Z1x_1', 'Z1x_2', 'Z1x_3', 'Z2x_1', 'Z2x_2', 'Z2x_3']],\n",
    "#                 train['y'], test[['Z1', 'Z2', 1, 2, 3, 'Z1x_1', 'Z1x_2', 'Z1x_3', 'Z2x_1', 'Z2x_2', 'Z2x_3']],\n",
    "#                 test['y'])"
   ]
  },
  {
   "cell_type": "code",
   "execution_count": null,
   "id": "3300eaf9",
   "metadata": {},
   "outputs": [],
   "source": [
    "y_pred=predict_y(dfc, train[['Z1', 'Z2']], train['y'], test[['Z1', 'Z2']], test['y'])"
   ]
  },
  {
   "cell_type": "code",
   "execution_count": null,
   "id": "cd59751c",
   "metadata": {},
   "outputs": [],
   "source": [
    "from sklearn.metrics import mean_squared_error as MSE\n",
    "from sklearn.metrics import r2_score\n",
    "MSE(y_pred, test['y'])\n",
    "r2_score(y_pred, test['y'])"
   ]
  },
  {
   "cell_type": "code",
   "execution_count": null,
   "id": "e0fa5dfc",
   "metadata": {},
   "outputs": [],
   "source": [
    "graphdf=df[['Z1', 'Z2', 'y']]"
   ]
  },
  {
   "cell_type": "code",
   "execution_count": null,
   "id": "df1f42fb",
   "metadata": {},
   "outputs": [],
   "source": [
    "graphdf.values"
   ]
  },
  {
   "cell_type": "code",
   "execution_count": null,
   "id": "e9776964",
   "metadata": {},
   "outputs": [],
   "source": [
    "from causallearn.utils.cit import CIT\n",
    "kci_obj = CIT(graphdf.values, \"kci\") \n",
    "kci_obj(0,1, {2})\n",
    "#pE = kci_obj(0, 1, {3})\n",
    "#pYE = kci_obj(0, 1, {2, 3})"
   ]
  },
  {
   "cell_type": "code",
   "execution_count": null,
   "id": "3ff39da3",
   "metadata": {},
   "outputs": [],
   "source": [
    "from causallearn.search.ConstraintBased.PC import pc   \n",
    "cg = pc(graphdf.values, 0.25)"
   ]
  },
  {
   "cell_type": "code",
   "execution_count": null,
   "id": "643f4f17",
   "metadata": {},
   "outputs": [],
   "source": [
    "# visualization using pydot\n",
    "cg.draw_pydot_graph(labels = graphdf.columns)"
   ]
  },
  {
   "cell_type": "code",
   "execution_count": null,
   "id": "b8b54af7",
   "metadata": {},
   "outputs": [],
   "source": []
  },
  {
   "cell_type": "code",
   "execution_count": null,
   "id": "137c99c0",
   "metadata": {},
   "outputs": [],
   "source": []
  },
  {
   "cell_type": "code",
   "execution_count": null,
   "id": "14784413",
   "metadata": {},
   "outputs": [],
   "source": [
    "# Get skeleton graph\n",
    "# initialize graph lasso\n",
    "glasso = cdt.independence.graph.Glasso()\n",
    "# apply graph lasso to data\n",
    "skeleton = glasso.predict(dfc)\n",
    "# visualize network\n",
    "fig = plt.figure(figsize=(15,10))\n",
    "nx.draw_networkx(skeleton, font_size=18, font_color='r')"
   ]
  },
  {
   "cell_type": "code",
   "execution_count": null,
   "id": "b06bc575",
   "metadata": {},
   "outputs": [],
   "source": [
    "# Use causal discovery to get causal models\n",
    "# PC algorithm\n",
    "model_pc = cdt.causality.graph.PC()\n",
    "graph_pc = model_pc.predict(dfc, skeleton)\n",
    "\n",
    "# visualize network\n",
    "fig=plt.figure(figsize=(15,10))\n",
    "nx.draw_networkx(graph_pc, font_size=18, font_color='r')"
   ]
  }
 ],
 "metadata": {
  "kernelspec": {
   "display_name": "Python 3 (ipykernel)",
   "language": "python",
   "name": "python3"
  },
  "language_info": {
   "codemirror_mode": {
    "name": "ipython",
    "version": 3
   },
   "file_extension": ".py",
   "mimetype": "text/x-python",
   "name": "python",
   "nbconvert_exporter": "python",
   "pygments_lexer": "ipython3",
   "version": "3.9.7"
  }
 },
 "nbformat": 4,
 "nbformat_minor": 5
}
