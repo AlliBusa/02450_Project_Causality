{
 "cells": [
  {
   "cell_type": "code",
   "execution_count": 1,
   "id": "5cc99106",
   "metadata": {},
   "outputs": [],
   "source": [
    "%run DL_Lib.ipynb\n",
    "%run DL_func.ipynb"
   ]
  },
  {
   "cell_type": "markdown",
   "id": "6214671b",
   "metadata": {},
   "source": [
    "The first step consists of generating the synthetic data. The data is generated from the graph shown belown. Z denotes the unobserved latent variables, Y is the target variable which will be assumed observed (i.e. in the cow/camel classification problem 'Y' will correspond to the label 'cow' / 'camel'). X is the observed features as is generated from Z via a neural network. In the cow / camel classification problem 'X' would correspond to the actual image. Finally, an environment variable E is introduced. The environment determines the mean of the gaussian distribution the Z's are drawn from. The generative process for each of the variables is as follows:\n",
    "\n",
    "$$Z_1 = \\mathcal{N}(E, \\sigma=1)$$\n",
    "$$Z_2 = \\mathcal{N}(2E, \\sigma=2)$$\n",
    "$$Y = \\mathcal{N}(\\alpha_1 \\cdot Z_1+\\alpha_2 \\cdot Z_2, \\sigma=1)$$\n",
    "$$Y = \\mathcal{N}(\\alpha_3 \\cdot Y, \\sigma=1)$$\n",
    "$$X = g(Z_1, Z_2, Z_3)$$\n",
    "\n",
    "Where g is a randomly initialized neural network. All of the alphas are in this case set to 1."
   ]
  },
  {
   "cell_type": "markdown",
   "id": "d584fb10",
   "metadata": {},
   "source": [
    "First off, the Y's and Z's are generated from 4 different environments. 1000 samples from each environment is drawn."
   ]
  },
  {
   "cell_type": "code",
   "execution_count": 2,
   "id": "1a484abd",
   "metadata": {},
   "outputs": [],
   "source": [
    "E_choice, Env, Y, Z = generate_z_and_y(np.array([0.2, 2, 3, 5]), 4000)"
   ]
  },
  {
   "cell_type": "markdown",
   "id": "2b8f07c4",
   "metadata": {},
   "source": [
    "Samples from the generative process is shown in the below dataframe along with markers of which environment a sample was drawn from and the corresponding 'mean' of that environment."
   ]
  },
  {
   "cell_type": "code",
   "execution_count": 3,
   "id": "8ee84a37",
   "metadata": {},
   "outputs": [
    {
     "data": {
      "text/html": [
       "<div>\n",
       "<style scoped>\n",
       "    .dataframe tbody tr th:only-of-type {\n",
       "        vertical-align: middle;\n",
       "    }\n",
       "\n",
       "    .dataframe tbody tr th {\n",
       "        vertical-align: top;\n",
       "    }\n",
       "\n",
       "    .dataframe thead th {\n",
       "        text-align: right;\n",
       "    }\n",
       "</style>\n",
       "<table border=\"1\" class=\"dataframe\">\n",
       "  <thead>\n",
       "    <tr style=\"text-align: right;\">\n",
       "      <th></th>\n",
       "      <th>Z1</th>\n",
       "      <th>Z2</th>\n",
       "      <th>Z3</th>\n",
       "      <th>Y</th>\n",
       "      <th>Env_mean</th>\n",
       "      <th>Env</th>\n",
       "      <th>c</th>\n",
       "    </tr>\n",
       "  </thead>\n",
       "  <tbody>\n",
       "    <tr>\n",
       "      <th>0</th>\n",
       "      <td>3.66</td>\n",
       "      <td>6.46</td>\n",
       "      <td>10.25</td>\n",
       "      <td>9.89</td>\n",
       "      <td>3.0</td>\n",
       "      <td>2</td>\n",
       "      <td>green</td>\n",
       "    </tr>\n",
       "    <tr>\n",
       "      <th>1</th>\n",
       "      <td>0.25</td>\n",
       "      <td>-0.80</td>\n",
       "      <td>-1.37</td>\n",
       "      <td>-1.03</td>\n",
       "      <td>0.2</td>\n",
       "      <td>0</td>\n",
       "      <td>red</td>\n",
       "    </tr>\n",
       "    <tr>\n",
       "      <th>2</th>\n",
       "      <td>1.09</td>\n",
       "      <td>4.39</td>\n",
       "      <td>4.33</td>\n",
       "      <td>4.14</td>\n",
       "      <td>2.0</td>\n",
       "      <td>1</td>\n",
       "      <td>blue</td>\n",
       "    </tr>\n",
       "    <tr>\n",
       "      <th>3</th>\n",
       "      <td>3.36</td>\n",
       "      <td>10.04</td>\n",
       "      <td>14.06</td>\n",
       "      <td>13.49</td>\n",
       "      <td>3.0</td>\n",
       "      <td>2</td>\n",
       "      <td>green</td>\n",
       "    </tr>\n",
       "    <tr>\n",
       "      <th>4</th>\n",
       "      <td>3.99</td>\n",
       "      <td>12.99</td>\n",
       "      <td>15.80</td>\n",
       "      <td>17.19</td>\n",
       "      <td>5.0</td>\n",
       "      <td>3</td>\n",
       "      <td>yellow</td>\n",
       "    </tr>\n",
       "    <tr>\n",
       "      <th>...</th>\n",
       "      <td>...</td>\n",
       "      <td>...</td>\n",
       "      <td>...</td>\n",
       "      <td>...</td>\n",
       "      <td>...</td>\n",
       "      <td>...</td>\n",
       "      <td>...</td>\n",
       "    </tr>\n",
       "    <tr>\n",
       "      <th>3995</th>\n",
       "      <td>3.48</td>\n",
       "      <td>6.59</td>\n",
       "      <td>10.86</td>\n",
       "      <td>9.73</td>\n",
       "      <td>3.0</td>\n",
       "      <td>2</td>\n",
       "      <td>green</td>\n",
       "    </tr>\n",
       "    <tr>\n",
       "      <th>3996</th>\n",
       "      <td>3.38</td>\n",
       "      <td>12.37</td>\n",
       "      <td>14.90</td>\n",
       "      <td>15.41</td>\n",
       "      <td>5.0</td>\n",
       "      <td>3</td>\n",
       "      <td>yellow</td>\n",
       "    </tr>\n",
       "    <tr>\n",
       "      <th>3997</th>\n",
       "      <td>-0.31</td>\n",
       "      <td>1.26</td>\n",
       "      <td>0.48</td>\n",
       "      <td>0.20</td>\n",
       "      <td>0.2</td>\n",
       "      <td>0</td>\n",
       "      <td>red</td>\n",
       "    </tr>\n",
       "    <tr>\n",
       "      <th>3998</th>\n",
       "      <td>0.15</td>\n",
       "      <td>2.81</td>\n",
       "      <td>3.77</td>\n",
       "      <td>2.97</td>\n",
       "      <td>2.0</td>\n",
       "      <td>1</td>\n",
       "      <td>blue</td>\n",
       "    </tr>\n",
       "    <tr>\n",
       "      <th>3999</th>\n",
       "      <td>-1.57</td>\n",
       "      <td>0.91</td>\n",
       "      <td>-0.70</td>\n",
       "      <td>-1.12</td>\n",
       "      <td>0.2</td>\n",
       "      <td>0</td>\n",
       "      <td>red</td>\n",
       "    </tr>\n",
       "  </tbody>\n",
       "</table>\n",
       "<p>4000 rows × 7 columns</p>\n",
       "</div>"
      ],
      "text/plain": [
       "        Z1     Z2     Z3      Y  Env_mean  Env       c\n",
       "0     3.66   6.46  10.25   9.89       3.0    2   green\n",
       "1     0.25  -0.80  -1.37  -1.03       0.2    0     red\n",
       "2     1.09   4.39   4.33   4.14       2.0    1    blue\n",
       "3     3.36  10.04  14.06  13.49       3.0    2   green\n",
       "4     3.99  12.99  15.80  17.19       5.0    3  yellow\n",
       "...    ...    ...    ...    ...       ...  ...     ...\n",
       "3995  3.48   6.59  10.86   9.73       3.0    2   green\n",
       "3996  3.38  12.37  14.90  15.41       5.0    3  yellow\n",
       "3997 -0.31   1.26   0.48   0.20       0.2    0     red\n",
       "3998  0.15   2.81   3.77   2.97       2.0    1    blue\n",
       "3999 -1.57   0.91  -0.70  -1.12       0.2    0     red\n",
       "\n",
       "[4000 rows x 7 columns]"
      ]
     },
     "execution_count": 3,
     "metadata": {},
     "output_type": "execute_result"
    }
   ],
   "source": [
    "df=pd.concat([p(Z), p(Y), p(Env), p(E_choice)],axis=1)\n",
    "df.columns = ['Z1', 'Z2', 'Z3', 'Y', 'Env_mean', 'Env']\n",
    "colors = {0: 'red', 1: 'blue', 2: 'green', 3: 'yellow'}\n",
    "m=df['Env'].map(colors)\n",
    "df['c']=m\n",
    "tdf=df\n",
    "df.round(2)"
   ]
  },
  {
   "cell_type": "markdown",
   "id": "069c44fd",
   "metadata": {},
   "source": [
    "Figure x shows a 3d-plot of the samples in (Z1, Z2, Z3)-space coloured by environment."
   ]
  },
  {
   "cell_type": "code",
   "execution_count": 4,
   "id": "6c4a85b9",
   "metadata": {},
   "outputs": [
    {
     "data": {
      "text/plain": [
       "<Figure size 640x480 with 0 Axes>"
      ]
     },
     "metadata": {},
     "output_type": "display_data"
    }
   ],
   "source": [
    "# for creating a responsive plot\n",
    "#%matplotlib qt\n",
    "%matplotlib inline\n",
    "\n",
    "plot_latent_3d(df, m)"
   ]
  },
  {
   "cell_type": "markdown",
   "id": "b09470fb",
   "metadata": {},
   "source": [
    "Finally, the observed X-values are generated via a randomly initialized neural network with 6 hidden units and 10 output units."
   ]
  },
  {
   "cell_type": "code",
   "execution_count": 5,
   "id": "f735a497",
   "metadata": {},
   "outputs": [],
   "source": [
    "net=Net(3, 6, 10)\n",
    "X=net(torch.from_numpy(Z.astype(\"float32\"))).detach().numpy()"
   ]
  },
  {
   "cell_type": "code",
   "execution_count": 6,
   "id": "9929b345",
   "metadata": {},
   "outputs": [],
   "source": [
    "dset = EnvDataset(X[:2000],Y[:2000],E_choice[:2000])\n",
    "train_loader = DataLoader(dset, batch_size=128, drop_last=True)\n",
    "dset = EnvDataset(X[2000:],Y[2000:],E_choice[2000:])\n",
    "test_loader = DataLoader(dset, batch_size=128, drop_last=True)\n",
    "x,y,e = next(iter(train_loader))"
   ]
  },
  {
   "cell_type": "code",
   "execution_count": 7,
   "id": "a0cab8aa",
   "metadata": {},
   "outputs": [
    {
     "name": "stderr",
     "output_type": "stream",
     "text": [
      "C:\\Users\\mathi\\anaconda3\\envs\\DeepLearning\\lib\\site-packages\\torch\\distributions\\distribution.py:44: UserWarning: <class '__main__.Normal_dist'> does not define `arg_constraints`. Please set `arg_constraints = {}` or initialize the distribution with `validate_args=False` to turn off validation.\n",
      "  warnings.warn(f'{self.__class__} does not define `arg_constraints`. ' +\n"
     ]
    }
   ],
   "source": [
    "net=UglyiVAE(x.float(), y.float(), e.float(), 15, 3, 3, 10, 5, 3, beta=1)"
   ]
  },
  {
   "cell_type": "code",
   "execution_count": 8,
   "id": "64bf0293",
   "metadata": {},
   "outputs": [
    {
     "name": "stdout",
     "output_type": "stream",
     "text": [
      "Epoch 20 of 200\n",
      "Train loss: tensor(91.5721)\n",
      "Epoch 40 of 200\n",
      "Train loss: tensor(65.0319)\n",
      "Epoch 60 of 200\n",
      "Train loss: tensor(29.0608)\n",
      "Epoch 80 of 200\n",
      "Train loss: tensor(16.0910)\n",
      "Epoch 100 of 200\n",
      "Train loss: tensor(9.0013)\n",
      "Epoch 120 of 200\n",
      "Train loss: tensor(4.5750)\n",
      "Epoch 140 of 200\n",
      "Train loss: tensor(1.6970)\n",
      "Epoch 160 of 200\n",
      "Train loss: tensor(-0.0559)\n",
      "Epoch 180 of 200\n",
      "Train loss: tensor(-1.2221)\n",
      "Epoch 200 of 200\n",
      "Train loss: tensor(-2.0249)\n"
     ]
    }
   ],
   "source": [
    "from torch.optim import Adam\n",
    "optimizer = Adam(net.parameters(), lr=1e-3)\n",
    "\n",
    "epochs = 200\n",
    "train_loss = torch.zeros(epochs)\n",
    "elbo_loss = torch.zeros(epochs)\n",
    "SM_loss = torch.zeros(epochs)\n",
    "pz_ye_loss = torch.zeros(epochs)\n",
    "\n",
    "for epoch in range(epochs):\n",
    "    epoch_loss = 0\n",
    "    if epoch < 20:\n",
    "        beta = 10\n",
    "    else:\n",
    "        beta = 10\n",
    "    for x,y,e in train_loader:\n",
    "        optimizer.zero_grad()\n",
    "        loss = net.elbo(x.float(), y.float(), e.float())\n",
    "        loss.mul(-1).backward()\n",
    "        optimizer.step()\n",
    "        epoch_loss += loss.mul(-1).detach()\n",
    "        \n",
    "    if (epoch+1)%20 == 0:\n",
    "        print('Epoch', epoch+1, 'of', epochs)\n",
    "        print('Train loss:', epoch_loss/len(train_loader))\n",
    "    train_loss[epoch] = epoch_loss/len(train_loader)"
   ]
  },
  {
   "cell_type": "code",
   "execution_count": 9,
   "id": "996a6adf",
   "metadata": {},
   "outputs": [
    {
     "data": {
      "image/png": "[encoded data removed]",
      "text/plain": [
       "<Figure size 640x480 with 1 Axes>"
      ]
     },
     "metadata": {},
     "output_type": "display_data"
    }
   ],
   "source": [
    "import matplotlib.pyplot as plt\n",
    "plt.plot(train_loss)\n",
    "plt.show()\n"
   ]
  },
  {
   "cell_type": "code",
   "execution_count": 10,
   "id": "c5f23227",
   "metadata": {},
   "outputs": [],
   "source": [
    "# get z\n",
    "loader = test_loader\n",
    "latent_variables = torch.zeros((len(train_loader)*128, 3))\n",
    "envs_samp = np.zeros((len(train_loader)*128, 4))\n",
    "i = 0\n",
    "for x,y,e in loader:\n",
    "    _, _, _, _, _, z = net.forward(x.float(), y.float(), e.float(), beta=1)\n",
    "    latent_variables[i*128:i*128+128,:] = z.detach()\n",
    "    envs_samp[i*128:i*128+128,:] = e.squeeze().numpy().astype(int)\n",
    "    i+=1"
   ]
  },
  {
   "cell_type": "code",
   "execution_count": 11,
   "id": "f0ac80df",
   "metadata": {},
   "outputs": [],
   "source": [
    "df=pd.concat([p(latent_variables.detach().numpy()), p(np.argmax(envs_samp, axis=1))],axis=1)\n",
    "df.columns = ['Z1', 'Z2', 'Z3', 'Env']\n",
    "colors = {0: 'red', 1: 'blue', 2: 'green', 3: 'yellow'}\n",
    "m=df['Env'].map(colors)\n",
    "df['c']=m\n",
    "#df.round(2)"
   ]
  },
  {
   "cell_type": "code",
   "execution_count": 12,
   "id": "2dc503a4",
   "metadata": {},
   "outputs": [],
   "source": [
    "#%matplotlib qt\n",
    "#plot_latent_3d(df, m)"
   ]
  },
  {
   "cell_type": "code",
   "execution_count": 13,
   "id": "fe1fd262",
   "metadata": {},
   "outputs": [
    {
     "data": {
      "text/plain": [
       "(0.3785948450522583, 0.9136911311693806)"
      ]
     },
     "execution_count": 13,
     "metadata": {},
     "output_type": "execute_result"
    }
   ],
   "source": [
    "pdf=df[['Z1', 'Z2', 'Z3']]\n",
    "pdf.columns = ['pZ1', 'pZ2', 'pZ3']\n",
    "cdf=tdf[['Z1', 'Z2', 'Z3']].iloc[2000:3920,:]\n",
    "#cdf=tdf[['Z1', 'Z2', 'Z3']].iloc[:1920,:]\n",
    "cdf['pZ1']=pdf['pZ1'].values\n",
    "cdf['pZ2']=pdf['pZ2'].values\n",
    "cdf['pZ3']=pdf['pZ3'].values\n",
    "\n",
    "corrs=cdf.corr().iloc[:3,3:]\n",
    "mcc=corrs.max().mean()\n",
    "mcc_abs=np.abs(corrs.max()).mean()\n",
    "mcc, mcc_abs"
   ]
  },
  {
   "cell_type": "markdown",
   "id": "f23fb7cc",
   "metadata": {},
   "source": [
    "## Case with just 2 latent variables ##"
   ]
  },
  {
   "cell_type": "code",
   "execution_count": 14,
   "id": "6440882f",
   "metadata": {},
   "outputs": [],
   "source": [
    "E_choice, Env, Y, Z = generate_z_and_y(np.array([0.2, 2, 3, 5]), 4000, three_z=False)"
   ]
  },
  {
   "cell_type": "markdown",
   "id": "9d9d6245",
   "metadata": {},
   "source": [
    "Samples from the generative process is shown in the below dataframe along with markers of which environment a sample was drawn from and the corresponding 'mean' of that environment."
   ]
  },
  {
   "cell_type": "code",
   "execution_count": 15,
   "id": "a3c90d75",
   "metadata": {},
   "outputs": [
    {
     "data": {
      "text/html": [
       "<div>\n",
       "<style scoped>\n",
       "    .dataframe tbody tr th:only-of-type {\n",
       "        vertical-align: middle;\n",
       "    }\n",
       "\n",
       "    .dataframe tbody tr th {\n",
       "        vertical-align: top;\n",
       "    }\n",
       "\n",
       "    .dataframe thead th {\n",
       "        text-align: right;\n",
       "    }\n",
       "</style>\n",
       "<table border=\"1\" class=\"dataframe\">\n",
       "  <thead>\n",
       "    <tr style=\"text-align: right;\">\n",
       "      <th></th>\n",
       "      <th>Z1</th>\n",
       "      <th>Z2</th>\n",
       "      <th>Y</th>\n",
       "      <th>Env_mean</th>\n",
       "      <th>Env</th>\n",
       "      <th>c</th>\n",
       "    </tr>\n",
       "  </thead>\n",
       "  <tbody>\n",
       "    <tr>\n",
       "      <th>0</th>\n",
       "      <td>3.69</td>\n",
       "      <td>5.42</td>\n",
       "      <td>9.64</td>\n",
       "      <td>2.0</td>\n",
       "      <td>1</td>\n",
       "      <td>blue</td>\n",
       "    </tr>\n",
       "    <tr>\n",
       "      <th>1</th>\n",
       "      <td>1.35</td>\n",
       "      <td>1.95</td>\n",
       "      <td>3.18</td>\n",
       "      <td>0.2</td>\n",
       "      <td>0</td>\n",
       "      <td>red</td>\n",
       "    </tr>\n",
       "    <tr>\n",
       "      <th>2</th>\n",
       "      <td>4.48</td>\n",
       "      <td>9.82</td>\n",
       "      <td>13.43</td>\n",
       "      <td>5.0</td>\n",
       "      <td>3</td>\n",
       "      <td>yellow</td>\n",
       "    </tr>\n",
       "    <tr>\n",
       "      <th>3</th>\n",
       "      <td>5.79</td>\n",
       "      <td>13.00</td>\n",
       "      <td>18.48</td>\n",
       "      <td>5.0</td>\n",
       "      <td>3</td>\n",
       "      <td>yellow</td>\n",
       "    </tr>\n",
       "    <tr>\n",
       "      <th>4</th>\n",
       "      <td>4.03</td>\n",
       "      <td>4.73</td>\n",
       "      <td>8.57</td>\n",
       "      <td>3.0</td>\n",
       "      <td>2</td>\n",
       "      <td>green</td>\n",
       "    </tr>\n",
       "    <tr>\n",
       "      <th>...</th>\n",
       "      <td>...</td>\n",
       "      <td>...</td>\n",
       "      <td>...</td>\n",
       "      <td>...</td>\n",
       "      <td>...</td>\n",
       "      <td>...</td>\n",
       "    </tr>\n",
       "    <tr>\n",
       "      <th>3995</th>\n",
       "      <td>0.67</td>\n",
       "      <td>5.29</td>\n",
       "      <td>5.89</td>\n",
       "      <td>2.0</td>\n",
       "      <td>1</td>\n",
       "      <td>blue</td>\n",
       "    </tr>\n",
       "    <tr>\n",
       "      <th>3996</th>\n",
       "      <td>1.82</td>\n",
       "      <td>9.56</td>\n",
       "      <td>10.48</td>\n",
       "      <td>3.0</td>\n",
       "      <td>2</td>\n",
       "      <td>green</td>\n",
       "    </tr>\n",
       "    <tr>\n",
       "      <th>3997</th>\n",
       "      <td>4.51</td>\n",
       "      <td>6.76</td>\n",
       "      <td>12.32</td>\n",
       "      <td>5.0</td>\n",
       "      <td>3</td>\n",
       "      <td>yellow</td>\n",
       "    </tr>\n",
       "    <tr>\n",
       "      <th>3998</th>\n",
       "      <td>6.46</td>\n",
       "      <td>9.44</td>\n",
       "      <td>16.05</td>\n",
       "      <td>5.0</td>\n",
       "      <td>3</td>\n",
       "      <td>yellow</td>\n",
       "    </tr>\n",
       "    <tr>\n",
       "      <th>3999</th>\n",
       "      <td>-0.49</td>\n",
       "      <td>1.22</td>\n",
       "      <td>2.13</td>\n",
       "      <td>0.2</td>\n",
       "      <td>0</td>\n",
       "      <td>red</td>\n",
       "    </tr>\n",
       "  </tbody>\n",
       "</table>\n",
       "<p>4000 rows × 6 columns</p>\n",
       "</div>"
      ],
      "text/plain": [
       "        Z1     Z2      Y  Env_mean  Env       c\n",
       "0     3.69   5.42   9.64       2.0    1    blue\n",
       "1     1.35   1.95   3.18       0.2    0     red\n",
       "2     4.48   9.82  13.43       5.0    3  yellow\n",
       "3     5.79  13.00  18.48       5.0    3  yellow\n",
       "4     4.03   4.73   8.57       3.0    2   green\n",
       "...    ...    ...    ...       ...  ...     ...\n",
       "3995  0.67   5.29   5.89       2.0    1    blue\n",
       "3996  1.82   9.56  10.48       3.0    2   green\n",
       "3997  4.51   6.76  12.32       5.0    3  yellow\n",
       "3998  6.46   9.44  16.05       5.0    3  yellow\n",
       "3999 -0.49   1.22   2.13       0.2    0     red\n",
       "\n",
       "[4000 rows x 6 columns]"
      ]
     },
     "execution_count": 15,
     "metadata": {},
     "output_type": "execute_result"
    }
   ],
   "source": [
    "df=pd.concat([p(Z), p(Y), p(Env), p(E_choice)],axis=1)\n",
    "df.columns = ['Z1', 'Z2', 'Y', 'Env_mean', 'Env']\n",
    "colors = {0: 'red', 1: 'blue', 2: 'green', 3: 'yellow'}\n",
    "m=df['Env'].map(colors)\n",
    "df['c']=m\n",
    "tdf=df\n",
    "df.round(2)"
   ]
  },
  {
   "cell_type": "markdown",
   "id": "36621c2c",
   "metadata": {},
   "source": [
    "Figure x shows a 3d-plot of the samples in (Z1, Z2, Z3)-space coloured by environment."
   ]
  },
  {
   "cell_type": "code",
   "execution_count": 16,
   "id": "0aefab9a",
   "metadata": {},
   "outputs": [],
   "source": [
    "# for creating a responsive plot\n",
    "#%matplotlib qt\n",
    "\n",
    "#plot_latent_3d(df, m)"
   ]
  },
  {
   "cell_type": "markdown",
   "id": "c49fa101",
   "metadata": {},
   "source": [
    "Finally, the observed X-values are generated via a randomly initialized neural network with 6 hidden units and 10 output units."
   ]
  },
  {
   "cell_type": "code",
   "execution_count": 17,
   "id": "75c89fb2",
   "metadata": {},
   "outputs": [],
   "source": [
    "net=Net(2, 6, 10)\n",
    "X=net(torch.from_numpy(Z.astype(\"float32\"))).detach().numpy()"
   ]
  },
  {
   "cell_type": "code",
   "execution_count": 18,
   "id": "70e341c8",
   "metadata": {},
   "outputs": [],
   "source": [
    "dset = EnvDataset(X[:2000],Y[:2000],E_choice[:2000])\n",
    "train_loader = DataLoader(dset, batch_size=128, drop_last=True)\n",
    "dset = EnvDataset(X[2000:],Y[2000:],E_choice[2000:])\n",
    "test_loader = DataLoader(dset, batch_size=128, drop_last=True)\n",
    "x,y,e = next(iter(train_loader))"
   ]
  },
  {
   "cell_type": "code",
   "execution_count": 19,
   "id": "04a67092",
   "metadata": {},
   "outputs": [
    {
     "name": "stderr",
     "output_type": "stream",
     "text": [
      "C:\\Users\\mathi\\anaconda3\\envs\\DeepLearning\\lib\\site-packages\\torch\\distributions\\distribution.py:44: UserWarning: <class '__main__.Normal_dist'> does not define `arg_constraints`. Please set `arg_constraints = {}` or initialize the distribution with `validate_args=False` to turn off validation.\n",
      "  warnings.warn(f'{self.__class__} does not define `arg_constraints`. ' +\n"
     ]
    }
   ],
   "source": [
    "net=UglyiVAE(x.float(), y.float(), e.float(), 15, 2, 2, 10, 5, 2, beta=1)"
   ]
  },
  {
   "cell_type": "code",
   "execution_count": 20,
   "id": "6b4e4ad2",
   "metadata": {},
   "outputs": [
    {
     "name": "stdout",
     "output_type": "stream",
     "text": [
      "Epoch 20 of 200\n",
      "Train loss: tensor(17.1297)\n",
      "Epoch 40 of 200\n",
      "Train loss: tensor(5.8677)\n",
      "Epoch 60 of 200\n",
      "Train loss: tensor(1.3867)\n",
      "Epoch 80 of 200\n",
      "Train loss: tensor(-1.1664)\n",
      "Epoch 100 of 200\n",
      "Train loss: tensor(-2.1109)\n",
      "Epoch 120 of 200\n",
      "Train loss: tensor(-2.6886)\n",
      "Epoch 140 of 200\n",
      "Train loss: tensor(-3.2841)\n",
      "Epoch 160 of 200\n",
      "Train loss: tensor(-3.8423)\n",
      "Epoch 180 of 200\n",
      "Train loss: tensor(-7.8875)\n",
      "Epoch 200 of 200\n",
      "Train loss: tensor(-8.5622)\n"
     ]
    }
   ],
   "source": [
    "from torch.optim import Adam\n",
    "optimizer = Adam(net.parameters(), lr=1e-3)\n",
    "\n",
    "epochs = 200\n",
    "train_loss = torch.zeros(epochs)\n",
    "elbo_loss = torch.zeros(epochs)\n",
    "SM_loss = torch.zeros(epochs)\n",
    "pz_ye_loss = torch.zeros(epochs)\n",
    "\n",
    "for epoch in range(epochs):\n",
    "    epoch_loss = 0\n",
    "    if epoch < 20:\n",
    "        beta = 10\n",
    "    else:\n",
    "        beta = 10\n",
    "    for x,y,e in train_loader:\n",
    "        optimizer.zero_grad()\n",
    "        loss = net.elbo(x.float(), y.float(), e.float())\n",
    "        loss.mul(-1).backward()\n",
    "        optimizer.step()\n",
    "        epoch_loss += loss.mul(-1).detach()\n",
    "        \n",
    "    if (epoch+1)%20 == 0:\n",
    "        print('Epoch', epoch+1, 'of', epochs)\n",
    "        print('Train loss:', epoch_loss/len(train_loader))\n",
    "    train_loss[epoch] = epoch_loss/len(train_loader)"
   ]
  },
  {
   "cell_type": "code",
   "execution_count": 21,
   "id": "942d3cee",
   "metadata": {},
   "outputs": [
    {
     "data": {
      "image/png": "[encoded data removed]",
      "text/plain": [
       "<Figure size 640x480 with 1 Axes>"
      ]
     },
     "metadata": {},
     "output_type": "display_data"
    }
   ],
   "source": [
    "import matplotlib.pyplot as plt\n",
    "plt.plot(train_loss)\n",
    "plt.show()\n"
   ]
  },
  {
   "cell_type": "code",
   "execution_count": 22,
   "id": "23f9284b",
   "metadata": {},
   "outputs": [],
   "source": [
    "# get z\n",
    "loader = test_loader\n",
    "latent_variables = torch.zeros((len(train_loader)*128, 2))\n",
    "envs_samp = np.zeros((len(train_loader)*128, 4))\n",
    "i = 0\n",
    "for x,y,e in loader:\n",
    "    _, _, _, _, _, z = net.forward(x.float(), y.float(), e.float(), beta=1)\n",
    "    latent_variables[i*128:i*128+128,:] = z.detach()\n",
    "    envs_samp[i*128:i*128+128,:] = e.squeeze().numpy().astype(int)\n",
    "    i+=1"
   ]
  },
  {
   "cell_type": "code",
   "execution_count": 23,
   "id": "1c5163c5",
   "metadata": {},
   "outputs": [],
   "source": [
    "df=pd.concat([p(latent_variables.detach().numpy()), p(np.argmax(envs_samp, axis=1))],axis=1)\n",
    "df.columns = ['Z1', 'Z2', 'Env']\n",
    "colors = {0: 'red', 1: 'blue', 2: 'green', 3: 'yellow'}\n",
    "m=df['Env'].map(colors)\n",
    "df['c']=m\n",
    "#df.round(2)"
   ]
  },
  {
   "cell_type": "code",
   "execution_count": 24,
   "id": "07b1d465",
   "metadata": {},
   "outputs": [
    {
     "data": {
      "text/plain": [
       "Text(0, 0.5, 'Z2-axis')"
      ]
     },
     "execution_count": 24,
     "metadata": {},
     "output_type": "execute_result"
    },
    {
     "data": {
      "image/png": "[encoded data removed]",
      "text/plain": [
       "<Figure size 640x480 with 1 Axes>"
      ]
     },
     "metadata": {},
     "output_type": "display_data"
    }
   ],
   "source": [
    "#%matplotlib qt\n",
    "#plot_latent_3d(df, m)\n",
    "fig = plt.figure()\n",
    "\n",
    "\n",
    "# creating the plot\n",
    "plt.scatter(df['Z1'], df['Z2'], c=m)\n",
    "# setting title and labels\n",
    "plt.title(\"3D plot\")\n",
    "plt.xlabel('Z1-axis')\n",
    "plt.ylabel('Z2-axis')"
   ]
  },
  {
   "cell_type": "code",
   "execution_count": 25,
   "id": "9b18f3ef",
   "metadata": {},
   "outputs": [
    {
     "data": {
      "text/plain": [
       "(-0.8067424456839358, 0.8067424456839358)"
      ]
     },
     "execution_count": 25,
     "metadata": {},
     "output_type": "execute_result"
    }
   ],
   "source": [
    "pdf=df[['Z1', 'Z2']]\n",
    "pdf.columns = ['pZ1', 'pZ2']\n",
    "cdf=tdf[['Z1', 'Z2']].iloc[2000:3920,:]\n",
    "#cdf=tdf[['Z1', 'Z2', 'Z3']].iloc[:1920,:]\n",
    "cdf['pZ1']=pdf['pZ1'].values\n",
    "cdf['pZ2']=pdf['pZ2'].values\n",
    "\n",
    "corrs=cdf.corr().iloc[:2,2:]\n",
    "mcc=corrs.max().mean()\n",
    "mcc_abs=np.abs(corrs.max()).mean()\n",
    "mcc, mcc_abs"
   ]
  }
 ],
 "metadata": {
  "kernelspec": {
   "display_name": "Python 3 (ipykernel)",
   "language": "python",
   "name": "python3"
  },
  "language_info": {
   "codemirror_mode": {
    "name": "ipython",
    "version": 3
   },
   "file_extension": ".py",
   "mimetype": "text/x-python",
   "name": "python",
   "nbconvert_exporter": "python",
   "pygments_lexer": "ipython3",
   "version": "3.9.15"
  }
 },
 "nbformat": 4,
 "nbformat_minor": 5
}
