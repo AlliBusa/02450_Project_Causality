{
 "cells": [
  {
   "cell_type": "code",
   "execution_count": 1,
   "id": "5cc99106",
   "metadata": {},
   "outputs": [],
   "source": [
    "%run DL_func.ipynb"
   ]
  },
  {
   "cell_type": "markdown",
   "id": "6214671b",
   "metadata": {},
   "source": [
    "The first step consists of generating the synthetic data. The data is generated from the graph shown belown. Z denotes the unobserved latent variables, Y is the target variable which will be assumed observed (i.e. in the cow/camel classification problem 'Y' will correspond to the label 'cow' / 'camel'). X is the observed features as is generated from Z via a neural network. In the cow / camel classification problem 'X' would correspond to the actual image. Finally, an environment variable E is introduced. The environment determines the mean of the gaussian distribution the Z's are drawn from. The generative process for each of the variables is as follows:\n",
    "\n",
    "$$Z_1 = \\mathcal{N}(E, \\sigma=1)$$\n",
    "$$Z_2 = \\mathcal{N}(2E, \\sigma=2)$$\n",
    "$$Y = \\mathcal{N}(\\alpha_1 \\cdot Z_1+\\alpha_2 \\cdot Z_2, \\sigma=1)$$\n",
    "$$Y = \\mathcal{N}(\\alpha_3 \\cdot Y, \\sigma=1)$$\n",
    "$$X = g(Z_1, Z_2, Z_3)$$\n",
    "\n",
    "Where g is a randomly initialized neural network. All of the alphas are in this case set to 1."
   ]
  },
  {
   "cell_type": "markdown",
   "id": "d584fb10",
   "metadata": {},
   "source": [
    "First off, the Y's and Z's are generated from 4 different environments. 1000 samples from each environment is drawn."
   ]
  },
  {
   "cell_type": "code",
   "execution_count": 2,
   "id": "1a484abd",
   "metadata": {},
   "outputs": [],
   "source": [
    "E_choice, Env, Y, Z = generate_z_and_y(np.array([0.2, 2, 3, 5]), 4000)"
   ]
  },
  {
   "cell_type": "markdown",
   "id": "2b8f07c4",
   "metadata": {},
   "source": [
    "Samples from the generative process is shown in the below dataframe along with markers of which environment a sample was drawn from and the corresponding 'mean' of that environment."
   ]
  },
  {
   "cell_type": "code",
   "execution_count": 3,
   "id": "8ee84a37",
   "metadata": {},
   "outputs": [
    {
     "data": {
      "text/html": [
       "<div>\n",
       "<style scoped>\n",
       "    .dataframe tbody tr th:only-of-type {\n",
       "        vertical-align: middle;\n",
       "    }\n",
       "\n",
       "    .dataframe tbody tr th {\n",
       "        vertical-align: top;\n",
       "    }\n",
       "\n",
       "    .dataframe thead th {\n",
       "        text-align: right;\n",
       "    }\n",
       "</style>\n",
       "<table border=\"1\" class=\"dataframe\">\n",
       "  <thead>\n",
       "    <tr style=\"text-align: right;\">\n",
       "      <th></th>\n",
       "      <th>Z1</th>\n",
       "      <th>Z2</th>\n",
       "      <th>Z3</th>\n",
       "      <th>Y</th>\n",
       "      <th>Env_mean</th>\n",
       "      <th>Env</th>\n",
       "      <th>c</th>\n",
       "    </tr>\n",
       "  </thead>\n",
       "  <tbody>\n",
       "    <tr>\n",
       "      <th>0</th>\n",
       "      <td>0.44</td>\n",
       "      <td>6.12</td>\n",
       "      <td>9.43</td>\n",
       "      <td>8.85</td>\n",
       "      <td>2.0</td>\n",
       "      <td>1</td>\n",
       "      <td>blue</td>\n",
       "    </tr>\n",
       "    <tr>\n",
       "      <th>1</th>\n",
       "      <td>2.53</td>\n",
       "      <td>1.56</td>\n",
       "      <td>1.39</td>\n",
       "      <td>2.75</td>\n",
       "      <td>0.2</td>\n",
       "      <td>0</td>\n",
       "      <td>red</td>\n",
       "    </tr>\n",
       "    <tr>\n",
       "      <th>2</th>\n",
       "      <td>6.44</td>\n",
       "      <td>12.64</td>\n",
       "      <td>21.06</td>\n",
       "      <td>18.80</td>\n",
       "      <td>5.0</td>\n",
       "      <td>3</td>\n",
       "      <td>yellow</td>\n",
       "    </tr>\n",
       "    <tr>\n",
       "      <th>3</th>\n",
       "      <td>1.50</td>\n",
       "      <td>-0.69</td>\n",
       "      <td>0.81</td>\n",
       "      <td>0.90</td>\n",
       "      <td>0.2</td>\n",
       "      <td>0</td>\n",
       "      <td>red</td>\n",
       "    </tr>\n",
       "    <tr>\n",
       "      <th>4</th>\n",
       "      <td>6.58</td>\n",
       "      <td>8.68</td>\n",
       "      <td>15.90</td>\n",
       "      <td>15.61</td>\n",
       "      <td>5.0</td>\n",
       "      <td>3</td>\n",
       "      <td>yellow</td>\n",
       "    </tr>\n",
       "    <tr>\n",
       "      <th>...</th>\n",
       "      <td>...</td>\n",
       "      <td>...</td>\n",
       "      <td>...</td>\n",
       "      <td>...</td>\n",
       "      <td>...</td>\n",
       "      <td>...</td>\n",
       "      <td>...</td>\n",
       "    </tr>\n",
       "    <tr>\n",
       "      <th>3995</th>\n",
       "      <td>0.21</td>\n",
       "      <td>1.77</td>\n",
       "      <td>0.60</td>\n",
       "      <td>1.40</td>\n",
       "      <td>0.2</td>\n",
       "      <td>0</td>\n",
       "      <td>red</td>\n",
       "    </tr>\n",
       "    <tr>\n",
       "      <th>3996</th>\n",
       "      <td>2.74</td>\n",
       "      <td>-3.86</td>\n",
       "      <td>-0.13</td>\n",
       "      <td>0.77</td>\n",
       "      <td>0.2</td>\n",
       "      <td>0</td>\n",
       "      <td>red</td>\n",
       "    </tr>\n",
       "    <tr>\n",
       "      <th>3997</th>\n",
       "      <td>1.00</td>\n",
       "      <td>8.19</td>\n",
       "      <td>7.85</td>\n",
       "      <td>7.76</td>\n",
       "      <td>3.0</td>\n",
       "      <td>2</td>\n",
       "      <td>green</td>\n",
       "    </tr>\n",
       "    <tr>\n",
       "      <th>3998</th>\n",
       "      <td>5.09</td>\n",
       "      <td>10.59</td>\n",
       "      <td>18.57</td>\n",
       "      <td>16.88</td>\n",
       "      <td>5.0</td>\n",
       "      <td>3</td>\n",
       "      <td>yellow</td>\n",
       "    </tr>\n",
       "    <tr>\n",
       "      <th>3999</th>\n",
       "      <td>0.66</td>\n",
       "      <td>5.87</td>\n",
       "      <td>5.85</td>\n",
       "      <td>5.75</td>\n",
       "      <td>2.0</td>\n",
       "      <td>1</td>\n",
       "      <td>blue</td>\n",
       "    </tr>\n",
       "  </tbody>\n",
       "</table>\n",
       "<p>4000 rows × 7 columns</p>\n",
       "</div>"
      ],
      "text/plain": [
       "        Z1     Z2     Z3      Y  Env_mean  Env       c\n",
       "0     0.44   6.12   9.43   8.85       2.0    1    blue\n",
       "1     2.53   1.56   1.39   2.75       0.2    0     red\n",
       "2     6.44  12.64  21.06  18.80       5.0    3  yellow\n",
       "3     1.50  -0.69   0.81   0.90       0.2    0     red\n",
       "4     6.58   8.68  15.90  15.61       5.0    3  yellow\n",
       "...    ...    ...    ...    ...       ...  ...     ...\n",
       "3995  0.21   1.77   0.60   1.40       0.2    0     red\n",
       "3996  2.74  -3.86  -0.13   0.77       0.2    0     red\n",
       "3997  1.00   8.19   7.85   7.76       3.0    2   green\n",
       "3998  5.09  10.59  18.57  16.88       5.0    3  yellow\n",
       "3999  0.66   5.87   5.85   5.75       2.0    1    blue\n",
       "\n",
       "[4000 rows x 7 columns]"
      ]
     },
     "execution_count": 3,
     "metadata": {},
     "output_type": "execute_result"
    }
   ],
   "source": [
    "df=pd.concat([p(Z), p(Y), p(Env), p(E_choice)],axis=1)\n",
    "df.columns = ['Z1', 'Z2', 'Z3', 'Y', 'Env_mean', 'Env']\n",
    "colors = {0: 'red', 1: 'blue', 2: 'green', 3: 'yellow'}\n",
    "m=df['Env'].map(colors)\n",
    "df['c']=m\n",
    "tdf=df\n",
    "df.round(2)"
   ]
  },
  {
   "cell_type": "markdown",
   "id": "069c44fd",
   "metadata": {},
   "source": [
    "Figure x shows a 3d-plot of the samples in (Z1, Z2, Z3)-space coloured by environment."
   ]
  },
  {
   "cell_type": "code",
   "execution_count": 6,
   "id": "6c4a85b9",
   "metadata": {},
   "outputs": [],
   "source": [
    "# for creating a responsive plot\n",
    "#%matplotlib qt\n",
    "%matplotlib inline\n",
    "\n",
    "#plot_latent_3d(df, m)"
   ]
  },
  {
   "cell_type": "markdown",
   "id": "b09470fb",
   "metadata": {},
   "source": [
    "Finally, the observed X-values are generated via a randomly initialized neural network with 6 hidden units and 10 output units."
   ]
  },
  {
   "cell_type": "code",
   "execution_count": 7,
   "id": "f735a497",
   "metadata": {},
   "outputs": [],
   "source": [
    "net=Net(3, 6, 10)\n",
    "X=net(torch.from_numpy(Z.astype(\"float32\"))).detach().numpy()"
   ]
  },
  {
   "cell_type": "code",
   "execution_count": 8,
   "id": "9929b345",
   "metadata": {},
   "outputs": [],
   "source": [
    "dset = EnvDataset(X[:2000],Y[:2000],E_choice[:2000])\n",
    "train_loader = DataLoader(dset, batch_size=128, drop_last=True)\n",
    "dset = EnvDataset(X[2000:],Y[2000:],E_choice[2000:])\n",
    "test_loader = DataLoader(dset, batch_size=128, drop_last=True)\n",
    "x,y,e = next(iter(train_loader))"
   ]
  },
  {
   "cell_type": "code",
   "execution_count": 9,
   "id": "a0cab8aa",
   "metadata": {},
   "outputs": [
    {
     "name": "stderr",
     "output_type": "stream",
     "text": [
      "C:\\Users\\mathi\\anaconda3\\envs\\BackDec2022\\lib\\site-packages\\torch\\distributions\\distribution.py:44: UserWarning: <class '__main__.Normal_dist'> does not define `arg_constraints`. Please set `arg_constraints = {}` or initialize the distribution with `validate_args=False` to turn off validation.\n",
      "  warnings.warn(f'{self.__class__} does not define `arg_constraints`. ' +\n"
     ]
    }
   ],
   "source": [
    "z_dim=3\n",
    "net=UglyVAE(x.float(), y.float(), e.float(), 15, z_dim, z_dim, 10, 5, z_dim, beta=1)"
   ]
  },
  {
   "cell_type": "code",
   "execution_count": 10,
   "id": "256a8734",
   "metadata": {},
   "outputs": [
    {
     "data": {
      "text/plain": [
       "tensor(-2312.0090, grad_fn=<MeanBackward0>)"
      ]
     },
     "execution_count": 10,
     "metadata": {},
     "output_type": "execute_result"
    }
   ],
   "source": [
    "net.elbo(x.float(), y.float(), e.float())"
   ]
  },
  {
   "cell_type": "code",
   "execution_count": 11,
   "id": "64bf0293",
   "metadata": {},
   "outputs": [
    {
     "name": "stdout",
     "output_type": "stream",
     "text": [
      "Epoch 20 of 200\n",
      "Train loss: tensor(66.0744)\n",
      "Epoch 40 of 200\n",
      "Train loss: tensor(34.3511)\n",
      "Epoch 60 of 200\n",
      "Train loss: tensor(28.2915)\n",
      "Epoch 80 of 200\n",
      "Train loss: tensor(24.6395)\n",
      "Epoch 100 of 200\n",
      "Train loss: tensor(18.4711)\n",
      "Epoch 120 of 200\n",
      "Train loss: tensor(15.4665)\n",
      "Epoch 140 of 200\n",
      "Train loss: tensor(12.5689)\n",
      "Epoch 160 of 200\n",
      "Train loss: tensor(6.0773)\n",
      "Epoch 180 of 200\n",
      "Train loss: tensor(-1.0910)\n",
      "Epoch 200 of 200\n",
      "Train loss: tensor(-2.6541)\n"
     ]
    }
   ],
   "source": [
    "from torch.optim import Adam\n",
    "optimizer = Adam(net.parameters(), lr=1e-3)\n",
    "\n",
    "epochs = 200\n",
    "train_loss = torch.zeros(epochs)\n",
    "elbo_loss = torch.zeros(epochs)\n",
    "SM_loss = torch.zeros(epochs)\n",
    "pz_ye_loss = torch.zeros(epochs)\n",
    "\n",
    "for epoch in range(epochs):\n",
    "    epoch_loss = 0\n",
    "    if epoch < 20:\n",
    "        beta = 10\n",
    "    else:\n",
    "        beta = 10\n",
    "    for x,y,e in train_loader:\n",
    "        optimizer.zero_grad()\n",
    "        loss = net.elbo(x.float(), y.float(), e.float())\n",
    "        loss.mul(-1).backward()\n",
    "        optimizer.step()\n",
    "        epoch_loss += loss.mul(-1).detach()\n",
    "        \n",
    "    if (epoch+1)%20 == 0:\n",
    "        print('Epoch', epoch+1, 'of', epochs)\n",
    "        print('Train loss:', epoch_loss/len(train_loader))\n",
    "    train_loss[epoch] = epoch_loss/len(train_loader)"
   ]
  },
  {
   "cell_type": "code",
   "execution_count": 12,
   "id": "996a6adf",
   "metadata": {},
   "outputs": [
    {
     "data": {
      "image/png": "[encoded data removed]",
      "text/plain": [
       "<Figure size 432x288 with 1 Axes>"
      ]
     },
     "metadata": {
      "needs_background": "light"
     },
     "output_type": "display_data"
    }
   ],
   "source": [
    "import matplotlib.pyplot as plt\n",
    "plt.plot(train_loss)\n",
    "plt.show()\n"
   ]
  },
  {
   "cell_type": "code",
   "execution_count": 13,
   "id": "c5f23227",
   "metadata": {},
   "outputs": [],
   "source": [
    "# get z\n",
    "loader = test_loader\n",
    "latent_variables = torch.zeros((len(train_loader)*128, 3))\n",
    "envs_samp = np.zeros((len(train_loader)*128, 4))\n",
    "i = 0\n",
    "for x,y,e in loader:\n",
    "    #_, _, _, _, _, z = net.forward(x.float(), y.float(), e.float(), beta=1)\n",
    "    zu, zsigma, de_u, z, prior_params = net.forward(x.float(), y.float(), e.float(), beta=1)\n",
    "    latent_variables[i*128:i*128+128,:] = z.detach()\n",
    "    envs_samp[i*128:i*128+128,:] = e.squeeze().numpy().astype(int)\n",
    "    i+=1"
   ]
  },
  {
   "cell_type": "code",
   "execution_count": 14,
   "id": "f0ac80df",
   "metadata": {},
   "outputs": [],
   "source": [
    "df=pd.concat([p(latent_variables.detach().numpy()), p(np.argmax(envs_samp, axis=1))],axis=1)\n",
    "df.columns = ['Z1', 'Z2', 'Z3', 'Env']\n",
    "colors = {0: 'red', 1: 'blue', 2: 'green', 3: 'yellow'}\n",
    "m=df['Env'].map(colors)\n",
    "df['c']=m\n",
    "#df.round(2)"
   ]
  },
  {
   "cell_type": "code",
   "execution_count": 16,
   "id": "2dc503a4",
   "metadata": {},
   "outputs": [
    {
     "name": "stderr",
     "output_type": "stream",
     "text": [
      "C:\\Users\\mathi\\AppData\\Local\\Temp/ipykernel_7540/3887001011.py:8: MatplotlibDeprecationWarning: Axes3D(fig) adding itself to the figure is deprecated since 3.4. Pass the keyword argument auto_add_to_figure=False and use fig.add_axes(ax) to suppress this warning. The default value of auto_add_to_figure will change to False in mpl3.5 and True values will no longer work in 3.6.  This is consistent with other Axes classes.\n",
      "  ax = Axes3D(fig)\n"
     ]
    }
   ],
   "source": [
    "%matplotlib qt\n",
    "plot_latent_3d(df, m)\n",
    "#fig = plt.figure()\n",
    "\n",
    "\n",
    "# creating the plot\n",
    "#plt.scatter(df['Z1'], df['Z2'], c=m)\n",
    "# setting title and labels\n",
    "#plt.title(\"3D plot\")\n",
    "#plt.xlabel('Z1-axis')\n",
    "#plt.ylabel('Z2-axis')"
   ]
  },
  {
   "cell_type": "code",
   "execution_count": 23,
   "id": "fe1fd262",
   "metadata": {},
   "outputs": [
    {
     "data": {
      "text/html": [
       "<div>\n",
       "<style scoped>\n",
       "    .dataframe tbody tr th:only-of-type {\n",
       "        vertical-align: middle;\n",
       "    }\n",
       "\n",
       "    .dataframe tbody tr th {\n",
       "        vertical-align: top;\n",
       "    }\n",
       "\n",
       "    .dataframe thead th {\n",
       "        text-align: right;\n",
       "    }\n",
       "</style>\n",
       "<table border=\"1\" class=\"dataframe\">\n",
       "  <thead>\n",
       "    <tr style=\"text-align: right;\">\n",
       "      <th></th>\n",
       "      <th>pZ1</th>\n",
       "      <th>pZ2</th>\n",
       "      <th>pZ3</th>\n",
       "    </tr>\n",
       "  </thead>\n",
       "  <tbody>\n",
       "    <tr>\n",
       "      <th>Z1</th>\n",
       "      <td>0.419635</td>\n",
       "      <td>0.816490</td>\n",
       "      <td>-0.833475</td>\n",
       "    </tr>\n",
       "    <tr>\n",
       "      <th>Z2</th>\n",
       "      <td>0.659593</td>\n",
       "      <td>0.865753</td>\n",
       "      <td>-0.960295</td>\n",
       "    </tr>\n",
       "    <tr>\n",
       "      <th>Z3</th>\n",
       "      <td>0.441980</td>\n",
       "      <td>0.977381</td>\n",
       "      <td>-0.992086</td>\n",
       "    </tr>\n",
       "  </tbody>\n",
       "</table>\n",
       "</div>"
      ],
      "text/plain": [
       "         pZ1       pZ2       pZ3\n",
       "Z1  0.419635  0.816490 -0.833475\n",
       "Z2  0.659593  0.865753 -0.960295\n",
       "Z3  0.441980  0.977381 -0.992086"
      ]
     },
     "execution_count": 23,
     "metadata": {},
     "output_type": "execute_result"
    }
   ],
   "source": [
    "pdf=df[['Z1', 'Z2', 'Z3']]\n",
    "pdf.columns = ['pZ1', 'pZ2', 'pZ3']\n",
    "cdf=tdf[['Z1', 'Z2', 'Z3']].iloc[2000:3920,:]\n",
    "#cdf=tdf[['Z1', 'Z2', 'Z3']].iloc[:1920,:]\n",
    "cdf['pZ1']=pdf['pZ1'].values\n",
    "cdf['pZ2']=pdf['pZ2'].values\n",
    "cdf['pZ3']=pdf['pZ3'].values\n",
    "\n",
    "corrs=cdf.corr().iloc[:3,3:]\n",
    "mcc=corrs.max().mean()\n",
    "mcc_abs=np.abs(corrs.max()).mean()\n",
    "mcc, mcc_abs\n",
    "corrs"
   ]
  },
  {
   "cell_type": "markdown",
   "id": "59f50c05",
   "metadata": {},
   "source": [
    "## Case with just 2 latent variables ##"
   ]
  },
  {
   "cell_type": "code",
   "execution_count": 27,
   "id": "1d083d14",
   "metadata": {},
   "outputs": [],
   "source": [
    "E_choice, Env, Y, Z = generate_z_and_y(np.array([0.2, 2, 3, 5]), 4000, three_z=False)"
   ]
  },
  {
   "cell_type": "markdown",
   "id": "edbeb82e",
   "metadata": {},
   "source": [
    "Samples from the generative process is shown in the below dataframe along with markers of which environment a sample was drawn from and the corresponding 'mean' of that environment."
   ]
  },
  {
   "cell_type": "code",
   "execution_count": 28,
   "id": "477d936d",
   "metadata": {},
   "outputs": [
    {
     "data": {
      "text/html": [
       "<div>\n",
       "<style scoped>\n",
       "    .dataframe tbody tr th:only-of-type {\n",
       "        vertical-align: middle;\n",
       "    }\n",
       "\n",
       "    .dataframe tbody tr th {\n",
       "        vertical-align: top;\n",
       "    }\n",
       "\n",
       "    .dataframe thead th {\n",
       "        text-align: right;\n",
       "    }\n",
       "</style>\n",
       "<table border=\"1\" class=\"dataframe\">\n",
       "  <thead>\n",
       "    <tr style=\"text-align: right;\">\n",
       "      <th></th>\n",
       "      <th>Z1</th>\n",
       "      <th>Z2</th>\n",
       "      <th>Y</th>\n",
       "      <th>Env_mean</th>\n",
       "      <th>Env</th>\n",
       "      <th>c</th>\n",
       "    </tr>\n",
       "  </thead>\n",
       "  <tbody>\n",
       "    <tr>\n",
       "      <th>0</th>\n",
       "      <td>4.23</td>\n",
       "      <td>8.32</td>\n",
       "      <td>12.85</td>\n",
       "      <td>3.0</td>\n",
       "      <td>2</td>\n",
       "      <td>green</td>\n",
       "    </tr>\n",
       "    <tr>\n",
       "      <th>1</th>\n",
       "      <td>0.71</td>\n",
       "      <td>-1.15</td>\n",
       "      <td>0.34</td>\n",
       "      <td>0.2</td>\n",
       "      <td>0</td>\n",
       "      <td>red</td>\n",
       "    </tr>\n",
       "    <tr>\n",
       "      <th>2</th>\n",
       "      <td>4.78</td>\n",
       "      <td>10.64</td>\n",
       "      <td>16.97</td>\n",
       "      <td>5.0</td>\n",
       "      <td>3</td>\n",
       "      <td>yellow</td>\n",
       "    </tr>\n",
       "    <tr>\n",
       "      <th>3</th>\n",
       "      <td>3.94</td>\n",
       "      <td>12.24</td>\n",
       "      <td>16.88</td>\n",
       "      <td>5.0</td>\n",
       "      <td>3</td>\n",
       "      <td>yellow</td>\n",
       "    </tr>\n",
       "    <tr>\n",
       "      <th>4</th>\n",
       "      <td>2.73</td>\n",
       "      <td>3.53</td>\n",
       "      <td>6.08</td>\n",
       "      <td>3.0</td>\n",
       "      <td>2</td>\n",
       "      <td>green</td>\n",
       "    </tr>\n",
       "    <tr>\n",
       "      <th>...</th>\n",
       "      <td>...</td>\n",
       "      <td>...</td>\n",
       "      <td>...</td>\n",
       "      <td>...</td>\n",
       "      <td>...</td>\n",
       "      <td>...</td>\n",
       "    </tr>\n",
       "    <tr>\n",
       "      <th>3995</th>\n",
       "      <td>-0.22</td>\n",
       "      <td>2.54</td>\n",
       "      <td>2.21</td>\n",
       "      <td>0.2</td>\n",
       "      <td>0</td>\n",
       "      <td>red</td>\n",
       "    </tr>\n",
       "    <tr>\n",
       "      <th>3996</th>\n",
       "      <td>1.09</td>\n",
       "      <td>1.23</td>\n",
       "      <td>0.34</td>\n",
       "      <td>0.2</td>\n",
       "      <td>0</td>\n",
       "      <td>red</td>\n",
       "    </tr>\n",
       "    <tr>\n",
       "      <th>3997</th>\n",
       "      <td>-0.36</td>\n",
       "      <td>3.61</td>\n",
       "      <td>1.78</td>\n",
       "      <td>0.2</td>\n",
       "      <td>0</td>\n",
       "      <td>red</td>\n",
       "    </tr>\n",
       "    <tr>\n",
       "      <th>3998</th>\n",
       "      <td>4.66</td>\n",
       "      <td>8.36</td>\n",
       "      <td>12.75</td>\n",
       "      <td>5.0</td>\n",
       "      <td>3</td>\n",
       "      <td>yellow</td>\n",
       "    </tr>\n",
       "    <tr>\n",
       "      <th>3999</th>\n",
       "      <td>1.73</td>\n",
       "      <td>4.33</td>\n",
       "      <td>5.00</td>\n",
       "      <td>2.0</td>\n",
       "      <td>1</td>\n",
       "      <td>blue</td>\n",
       "    </tr>\n",
       "  </tbody>\n",
       "</table>\n",
       "<p>4000 rows × 6 columns</p>\n",
       "</div>"
      ],
      "text/plain": [
       "        Z1     Z2      Y  Env_mean  Env       c\n",
       "0     4.23   8.32  12.85       3.0    2   green\n",
       "1     0.71  -1.15   0.34       0.2    0     red\n",
       "2     4.78  10.64  16.97       5.0    3  yellow\n",
       "3     3.94  12.24  16.88       5.0    3  yellow\n",
       "4     2.73   3.53   6.08       3.0    2   green\n",
       "...    ...    ...    ...       ...  ...     ...\n",
       "3995 -0.22   2.54   2.21       0.2    0     red\n",
       "3996  1.09   1.23   0.34       0.2    0     red\n",
       "3997 -0.36   3.61   1.78       0.2    0     red\n",
       "3998  4.66   8.36  12.75       5.0    3  yellow\n",
       "3999  1.73   4.33   5.00       2.0    1    blue\n",
       "\n",
       "[4000 rows x 6 columns]"
      ]
     },
     "execution_count": 28,
     "metadata": {},
     "output_type": "execute_result"
    }
   ],
   "source": [
    "df=pd.concat([p(Z), p(Y), p(Env), p(E_choice)],axis=1)\n",
    "df.columns = ['Z1', 'Z2', 'Y', 'Env_mean', 'Env']\n",
    "colors = {0: 'red', 1: 'blue', 2: 'green', 3: 'yellow'}\n",
    "m=df['Env'].map(colors)\n",
    "df['c']=m\n",
    "tdf=df\n",
    "df.round(2)"
   ]
  },
  {
   "cell_type": "markdown",
   "id": "69f25a7e",
   "metadata": {},
   "source": [
    "Figure x shows a 3d-plot of the samples in (Z1, Z2, Z3)-space coloured by environment."
   ]
  },
  {
   "cell_type": "code",
   "execution_count": 29,
   "id": "706fad68",
   "metadata": {},
   "outputs": [],
   "source": [
    "# for creating a responsive plot\n",
    "#%matplotlib qt\n",
    "\n",
    "#plot_latent_3d(df, m)"
   ]
  },
  {
   "cell_type": "markdown",
   "id": "11f1b1dd",
   "metadata": {},
   "source": [
    "Finally, the observed X-values are generated via a randomly initialized neural network with 6 hidden units and 10 output units."
   ]
  },
  {
   "cell_type": "code",
   "execution_count": 30,
   "id": "78c4d984",
   "metadata": {},
   "outputs": [],
   "source": [
    "net=Net(2, 6, 10)\n",
    "X=net(torch.from_numpy(Z.astype(\"float32\"))).detach().numpy()"
   ]
  },
  {
   "cell_type": "code",
   "execution_count": 31,
   "id": "4334f511",
   "metadata": {},
   "outputs": [],
   "source": [
    "dset = EnvDataset(X[:2000],Y[:2000],E_choice[:2000])\n",
    "train_loader = DataLoader(dset, batch_size=128, drop_last=True)\n",
    "dset = EnvDataset(X[2000:],Y[2000:],E_choice[2000:])\n",
    "test_loader = DataLoader(dset, batch_size=128, drop_last=True)\n",
    "x,y,e = next(iter(train_loader))"
   ]
  },
  {
   "cell_type": "code",
   "execution_count": 32,
   "id": "d3d8ed16",
   "metadata": {},
   "outputs": [
    {
     "name": "stderr",
     "output_type": "stream",
     "text": [
      "C:\\Users\\mathi\\anaconda3\\envs\\DeepLearning\\lib\\site-packages\\torch\\distributions\\distribution.py:44: UserWarning: <class '__main__.Normal_dist'> does not define `arg_constraints`. Please set `arg_constraints = {}` or initialize the distribution with `validate_args=False` to turn off validation.\n",
      "  warnings.warn(f'{self.__class__} does not define `arg_constraints`. ' +\n"
     ]
    }
   ],
   "source": [
    "z_dim=2\n",
    "net=UglyVAE(x.float(), y.float(), e.float(), 15, z_dim, z_dim, 10, 5, z_dim, beta=1)"
   ]
  },
  {
   "cell_type": "code",
   "execution_count": 33,
   "id": "8dd91e80",
   "metadata": {},
   "outputs": [
    {
     "name": "stdout",
     "output_type": "stream",
     "text": [
      "Epoch 20 of 200\n",
      "Train loss: tensor(48.4440)\n",
      "Epoch 40 of 200\n",
      "Train loss: tensor(4.9020)\n",
      "Epoch 60 of 200\n",
      "Train loss: tensor(2.0572)\n",
      "Epoch 80 of 200\n",
      "Train loss: tensor(0.3587)\n",
      "Epoch 100 of 200\n",
      "Train loss: tensor(-2.1632)\n",
      "Epoch 120 of 200\n",
      "Train loss: tensor(-3.5099)\n",
      "Epoch 140 of 200\n",
      "Train loss: tensor(-4.3617)\n",
      "Epoch 160 of 200\n",
      "Train loss: tensor(-4.8525)\n",
      "Epoch 180 of 200\n",
      "Train loss: tensor(-5.3298)\n",
      "Epoch 200 of 200\n",
      "Train loss: tensor(-5.8364)\n"
     ]
    }
   ],
   "source": [
    "from torch.optim import Adam\n",
    "optimizer = Adam(net.parameters(), lr=1e-3)\n",
    "\n",
    "epochs = 200\n",
    "train_loss = torch.zeros(epochs)\n",
    "elbo_loss = torch.zeros(epochs)\n",
    "SM_loss = torch.zeros(epochs)\n",
    "pz_ye_loss = torch.zeros(epochs)\n",
    "\n",
    "for epoch in range(epochs):\n",
    "    epoch_loss = 0\n",
    "    if epoch < 20:\n",
    "        beta = 10\n",
    "    else:\n",
    "        beta = 10\n",
    "    for x,y,e in train_loader:\n",
    "        optimizer.zero_grad()\n",
    "        loss = net.elbo(x.float(), y.float(), e.float())\n",
    "        loss.mul(-1).backward()\n",
    "        optimizer.step()\n",
    "        epoch_loss += loss.mul(-1).detach()\n",
    "        \n",
    "    if (epoch+1)%20 == 0:\n",
    "        print('Epoch', epoch+1, 'of', epochs)\n",
    "        print('Train loss:', epoch_loss/len(train_loader))\n",
    "    train_loss[epoch] = epoch_loss/len(train_loader)"
   ]
  },
  {
   "cell_type": "code",
   "execution_count": 34,
   "id": "13673b6e",
   "metadata": {},
   "outputs": [
    {
     "data": {
      "image/png": "[encoded data removed]",
      "text/plain": [
       "<Figure size 640x480 with 1 Axes>"
      ]
     },
     "metadata": {},
     "output_type": "display_data"
    }
   ],
   "source": [
    "import matplotlib.pyplot as plt\n",
    "plt.plot(train_loss)\n",
    "plt.show()\n"
   ]
  },
  {
   "cell_type": "code",
   "execution_count": 35,
   "id": "aaf175fc",
   "metadata": {},
   "outputs": [],
   "source": [
    "# get z\n",
    "loader = test_loader\n",
    "latent_variables = torch.zeros((len(train_loader)*128, 2))\n",
    "envs_samp = np.zeros((len(train_loader)*128, 4))\n",
    "i = 0\n",
    "for x,y,e in loader:\n",
    "    #_, _, _, _, _, z = net.forward(x.float(), y.float(), e.float(), beta=1)\n",
    "    zu, zsigma, de_u, z, prior_params = net.forward(x.float(), y.float(), e.float(), beta=1)\n",
    "    latent_variables[i*128:i*128+128,:] = z.detach()\n",
    "    envs_samp[i*128:i*128+128,:] = e.squeeze().numpy().astype(int)\n",
    "    i+=1"
   ]
  },
  {
   "cell_type": "code",
   "execution_count": 38,
   "id": "df8a2ac0",
   "metadata": {},
   "outputs": [],
   "source": [
    "df=pd.concat([p(latent_variables.detach().numpy()), p(np.argmax(envs_samp, axis=1))],axis=1)\n",
    "df.columns = ['Z1', 'Z2', 'Env']\n",
    "colors = {0: 'red', 1: 'blue', 2: 'green', 3: 'yellow'}\n",
    "m=df['Env'].map(colors)\n",
    "df['c']=m\n",
    "#df.round(2)"
   ]
  },
  {
   "cell_type": "code",
   "execution_count": 40,
   "id": "7a88e52a",
   "metadata": {},
   "outputs": [],
   "source": [
    "df=pd.concat([p(latent_variables.detach().numpy()), p(np.argmax(envs_samp, axis=1))],axis=1)\n",
    "df.columns = ['Z1', 'Z2', 'Env']\n",
    "colors = {0: 'red', 1: 'blue', 2: 'green', 3: 'yellow'}\n",
    "m=df['Env'].map(colors)\n",
    "df['c']=m\n",
    "#df.round(2)"
   ]
  },
  {
   "cell_type": "code",
   "execution_count": 41,
   "id": "7c54cfe7",
   "metadata": {},
   "outputs": [
    {
     "data": {
      "text/plain": [
       "Text(0, 0.5, 'Z2-axis')"
      ]
     },
     "execution_count": 41,
     "metadata": {},
     "output_type": "execute_result"
    },
    {
     "data": {
      "image/png": "[encoded data removed]",
      "text/plain": [
       "<Figure size 640x480 with 1 Axes>"
      ]
     },
     "metadata": {},
     "output_type": "display_data"
    }
   ],
   "source": [
    "#%matplotlib qt\n",
    "#plot_latent_3d(df, m)\n",
    "fig = plt.figure()\n",
    "\n",
    "\n",
    "# creating the plot\n",
    "plt.scatter(df['Z1'], df['Z2'], c=m)\n",
    "# setting title and labels\n",
    "plt.title(\"3D plot\")\n",
    "plt.xlabel('Z1-axis')\n",
    "plt.ylabel('Z2-axis')"
   ]
  },
  {
   "cell_type": "code",
   "execution_count": 42,
   "id": "06425d00",
   "metadata": {},
   "outputs": [
    {
     "data": {
      "text/plain": [
       "(-0.4431525739419821, 0.48362665200557325)"
      ]
     },
     "execution_count": 42,
     "metadata": {},
     "output_type": "execute_result"
    }
   ],
   "source": [
    "pdf=df[['Z1', 'Z2']]\n",
    "pdf.columns = ['pZ1', 'pZ2']\n",
    "cdf=tdf[['Z1', 'Z2']].iloc[2000:3920,:]\n",
    "#cdf=tdf[['Z1', 'Z2', 'Z3']].iloc[:1920,:]\n",
    "cdf['pZ1']=pdf['pZ1'].values\n",
    "cdf['pZ2']=pdf['pZ2'].values\n",
    "\n",
    "corrs=cdf.corr().iloc[:2,2:]\n",
    "mcc=corrs.max().mean()\n",
    "mcc_abs=np.abs(corrs.max()).mean()\n",
    "mcc, mcc_abs"
   ]
  }
 ],
 "metadata": {
  "kernelspec": {
   "display_name": "Python 3 (ipykernel)",
   "language": "python",
   "name": "python3"
  },
  "language_info": {
   "codemirror_mode": {
    "name": "ipython",
    "version": 3
   },
   "file_extension": ".py",
   "mimetype": "text/x-python",
   "name": "python",
   "nbconvert_exporter": "python",
   "pygments_lexer": "ipython3",
   "version": "3.9.7"
  }
 },
 "nbformat": 4,
 "nbformat_minor": 5
}
