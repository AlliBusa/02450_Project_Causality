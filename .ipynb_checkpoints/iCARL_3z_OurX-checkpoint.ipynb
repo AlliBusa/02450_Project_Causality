{
 "cells": [
  {
   "cell_type": "code",
   "execution_count": 1,
   "id": "5cc99106",
   "metadata": {},
   "outputs": [],
   "source": [
    "%run DL_func.ipynb"
   ]
  },
  {
   "cell_type": "code",
   "execution_count": 2,
   "id": "3eec9472",
   "metadata": {},
   "outputs": [],
   "source": [
    "from sklearn.metrics import r2_score"
   ]
  },
  {
   "cell_type": "markdown",
   "id": "6214671b",
   "metadata": {},
   "source": [
    "The first step consists of generating the synthetic data. The data is generated from the graph shown belown. Z denotes the unobserved latent variables, Y is the target variable which will be assumed observed (i.e. in the cow/camel classification problem 'Y' will correspond to the label 'cow' / 'camel'). X is the observed features as is generated from Z via a neural network. In the cow / camel classification problem 'X' would correspond to the actual image. Finally, an environment variable E is introduced. The environment determines the mean of the gaussian distribution the Z's are drawn from. The generative process for each of the variables is as follows:\n",
    "\n",
    "$$Z_1 = \\mathcal{N}(E, \\sigma=1)$$\n",
    "$$Z_2 = \\mathcal{N}(2E, \\sigma=2)$$\n",
    "$$Y = \\mathcal{N}(\\alpha_1 \\cdot Z_1+\\alpha_2 \\cdot Z_2, \\sigma=1)$$\n",
    "$$Y = \\mathcal{N}(\\alpha_3 \\cdot Y, \\sigma=1)$$\n",
    "$$X = g(Z_1, Z_2, Z_3)$$\n",
    "\n",
    "Where g is a randomly initialized neural network. All of the alphas are in this case set to 1."
   ]
  },
  {
   "cell_type": "markdown",
   "id": "d584fb10",
   "metadata": {},
   "source": [
    "First off, the Y's and Z's are generated from 4 different environments. 1000 samples from each environment is drawn."
   ]
  },
  {
   "cell_type": "code",
   "execution_count": 3,
   "id": "1a484abd",
   "metadata": {},
   "outputs": [],
   "source": [
    "E_choice, Env, Y, Z = generate_z_and_y(np.array([0.2, 2, 3, 5]), 8000)"
   ]
  },
  {
   "cell_type": "markdown",
   "id": "2b8f07c4",
   "metadata": {},
   "source": [
    "Samples from the generative process is shown in the below dataframe along with markers of which environment a sample was drawn from and the corresponding 'mean' of that environment."
   ]
  },
  {
   "cell_type": "code",
   "execution_count": 4,
   "id": "8ee84a37",
   "metadata": {},
   "outputs": [
    {
     "data": {
      "text/html": [
       "<div>\n",
       "<style scoped>\n",
       "    .dataframe tbody tr th:only-of-type {\n",
       "        vertical-align: middle;\n",
       "    }\n",
       "\n",
       "    .dataframe tbody tr th {\n",
       "        vertical-align: top;\n",
       "    }\n",
       "\n",
       "    .dataframe thead th {\n",
       "        text-align: right;\n",
       "    }\n",
       "</style>\n",
       "<table border=\"1\" class=\"dataframe\">\n",
       "  <thead>\n",
       "    <tr style=\"text-align: right;\">\n",
       "      <th></th>\n",
       "      <th>Z1</th>\n",
       "      <th>Z2</th>\n",
       "      <th>Z3</th>\n",
       "      <th>Y</th>\n",
       "      <th>Env_mean</th>\n",
       "      <th>Env</th>\n",
       "      <th>c</th>\n",
       "    </tr>\n",
       "  </thead>\n",
       "  <tbody>\n",
       "    <tr>\n",
       "      <th>0</th>\n",
       "      <td>0.21</td>\n",
       "      <td>7.51</td>\n",
       "      <td>7.49</td>\n",
       "      <td>7.66</td>\n",
       "      <td>3.0</td>\n",
       "      <td>2</td>\n",
       "      <td>green</td>\n",
       "    </tr>\n",
       "    <tr>\n",
       "      <th>1</th>\n",
       "      <td>0.54</td>\n",
       "      <td>7.88</td>\n",
       "      <td>6.64</td>\n",
       "      <td>7.65</td>\n",
       "      <td>2.0</td>\n",
       "      <td>1</td>\n",
       "      <td>blue</td>\n",
       "    </tr>\n",
       "    <tr>\n",
       "      <th>2</th>\n",
       "      <td>0.81</td>\n",
       "      <td>0.23</td>\n",
       "      <td>1.14</td>\n",
       "      <td>1.39</td>\n",
       "      <td>0.2</td>\n",
       "      <td>0</td>\n",
       "      <td>red</td>\n",
       "    </tr>\n",
       "    <tr>\n",
       "      <th>3</th>\n",
       "      <td>3.04</td>\n",
       "      <td>7.01</td>\n",
       "      <td>11.51</td>\n",
       "      <td>10.49</td>\n",
       "      <td>3.0</td>\n",
       "      <td>2</td>\n",
       "      <td>green</td>\n",
       "    </tr>\n",
       "    <tr>\n",
       "      <th>4</th>\n",
       "      <td>3.54</td>\n",
       "      <td>5.12</td>\n",
       "      <td>6.61</td>\n",
       "      <td>7.34</td>\n",
       "      <td>3.0</td>\n",
       "      <td>2</td>\n",
       "      <td>green</td>\n",
       "    </tr>\n",
       "    <tr>\n",
       "      <th>...</th>\n",
       "      <td>...</td>\n",
       "      <td>...</td>\n",
       "      <td>...</td>\n",
       "      <td>...</td>\n",
       "      <td>...</td>\n",
       "      <td>...</td>\n",
       "      <td>...</td>\n",
       "    </tr>\n",
       "    <tr>\n",
       "      <th>7995</th>\n",
       "      <td>4.71</td>\n",
       "      <td>11.15</td>\n",
       "      <td>15.19</td>\n",
       "      <td>15.65</td>\n",
       "      <td>5.0</td>\n",
       "      <td>3</td>\n",
       "      <td>yellow</td>\n",
       "    </tr>\n",
       "    <tr>\n",
       "      <th>7996</th>\n",
       "      <td>5.53</td>\n",
       "      <td>5.04</td>\n",
       "      <td>9.66</td>\n",
       "      <td>10.57</td>\n",
       "      <td>5.0</td>\n",
       "      <td>3</td>\n",
       "      <td>yellow</td>\n",
       "    </tr>\n",
       "    <tr>\n",
       "      <th>7997</th>\n",
       "      <td>3.64</td>\n",
       "      <td>1.55</td>\n",
       "      <td>3.11</td>\n",
       "      <td>4.20</td>\n",
       "      <td>3.0</td>\n",
       "      <td>2</td>\n",
       "      <td>green</td>\n",
       "    </tr>\n",
       "    <tr>\n",
       "      <th>7998</th>\n",
       "      <td>0.75</td>\n",
       "      <td>2.90</td>\n",
       "      <td>3.19</td>\n",
       "      <td>3.83</td>\n",
       "      <td>3.0</td>\n",
       "      <td>2</td>\n",
       "      <td>green</td>\n",
       "    </tr>\n",
       "    <tr>\n",
       "      <th>7999</th>\n",
       "      <td>0.51</td>\n",
       "      <td>1.61</td>\n",
       "      <td>0.15</td>\n",
       "      <td>2.39</td>\n",
       "      <td>0.2</td>\n",
       "      <td>0</td>\n",
       "      <td>red</td>\n",
       "    </tr>\n",
       "  </tbody>\n",
       "</table>\n",
       "<p>8000 rows × 7 columns</p>\n",
       "</div>"
      ],
      "text/plain": [
       "        Z1     Z2     Z3      Y  Env_mean  Env       c\n",
       "0     0.21   7.51   7.49   7.66       3.0    2   green\n",
       "1     0.54   7.88   6.64   7.65       2.0    1    blue\n",
       "2     0.81   0.23   1.14   1.39       0.2    0     red\n",
       "3     3.04   7.01  11.51  10.49       3.0    2   green\n",
       "4     3.54   5.12   6.61   7.34       3.0    2   green\n",
       "...    ...    ...    ...    ...       ...  ...     ...\n",
       "7995  4.71  11.15  15.19  15.65       5.0    3  yellow\n",
       "7996  5.53   5.04   9.66  10.57       5.0    3  yellow\n",
       "7997  3.64   1.55   3.11   4.20       3.0    2   green\n",
       "7998  0.75   2.90   3.19   3.83       3.0    2   green\n",
       "7999  0.51   1.61   0.15   2.39       0.2    0     red\n",
       "\n",
       "[8000 rows x 7 columns]"
      ]
     },
     "execution_count": 4,
     "metadata": {},
     "output_type": "execute_result"
    }
   ],
   "source": [
    "df=pd.concat([p(Z), p(Y), p(Env), p(E_choice)],axis=1)\n",
    "df.columns = ['Z1', 'Z2', 'Z3', 'Y', 'Env_mean', 'Env']\n",
    "colors = {0: 'red', 1: 'blue', 2: 'green', 3: 'yellow'}\n",
    "m=df['Env'].map(colors)\n",
    "df['c']=m\n",
    "tdf=df\n",
    "df.round(2)"
   ]
  },
  {
   "cell_type": "markdown",
   "id": "069c44fd",
   "metadata": {},
   "source": [
    "Figure x shows a 3d-plot of the samples in (Z1, Z2, Z3)-space coloured by environment."
   ]
  },
  {
   "cell_type": "code",
   "execution_count": 5,
   "id": "6c4a85b9",
   "metadata": {},
   "outputs": [
    {
     "name": "stderr",
     "output_type": "stream",
     "text": [
      "C:\\Users\\mathi\\AppData\\Local\\Temp/ipykernel_19424/3887001011.py:8: MatplotlibDeprecationWarning: Axes3D(fig) adding itself to the figure is deprecated since 3.4. Pass the keyword argument auto_add_to_figure=False and use fig.add_axes(ax) to suppress this warning. The default value of auto_add_to_figure will change to False in mpl3.5 and True values will no longer work in 3.6.  This is consistent with other Axes classes.\n",
      "  ax = Axes3D(fig)\n"
     ]
    },
    {
     "data": {
      "image/png": "[encoded data removed]",
      "text/plain": [
       "<Figure size 432x288 with 1 Axes>"
      ]
     },
     "metadata": {
      "needs_background": "light"
     },
     "output_type": "display_data"
    }
   ],
   "source": [
    "# for creating a responsive plot\n",
    "#%matplotlib qt\n",
    "%matplotlib inline\n",
    "\n",
    "plot_latent_3d(df, m)"
   ]
  },
  {
   "cell_type": "markdown",
   "id": "b09470fb",
   "metadata": {},
   "source": [
    "Finally, the observed X-values are generated via a randomly initialized neural network with 6 hidden units and 10 output units."
   ]
  },
  {
   "cell_type": "code",
   "execution_count": 6,
   "id": "f735a497",
   "metadata": {},
   "outputs": [],
   "source": [
    "net=Net1(3, 6, 10)\n",
    "X=net(torch.from_numpy(Z.astype(\"float32\"))).detach().numpy()"
   ]
  },
  {
   "cell_type": "code",
   "execution_count": 7,
   "id": "9929b345",
   "metadata": {},
   "outputs": [],
   "source": [
    "dset = EnvDataset(X[:4000],Y[:4000],E_choice[:4000])\n",
    "train_loader = DataLoader(dset, batch_size=128, drop_last=True)\n",
    "dset = EnvDataset(X[4000:],Y[4000:],E_choice[4000:])\n",
    "test_loader = DataLoader(dset, batch_size=128, drop_last=True)\n",
    "x,y,e = next(iter(train_loader))"
   ]
  },
  {
   "cell_type": "code",
   "execution_count": 8,
   "id": "5d4d865a",
   "metadata": {},
   "outputs": [],
   "source": [
    "import pdb\n",
    "class iCARL(nn.Module):\n",
    "    def __init__(self, x, y, e, input_size, output_size, input_size_de, output_size_de, input_size_pr, output_size_pr, y_dim, beta=1):\n",
    "        super().__init__()\n",
    "        # Encoder\n",
    "        self.func_en = nn.Sequential(\n",
    "                nn.Linear(in_features=input_size, out_features=6),\n",
    "                nn.ReLU(),\n",
    "                nn.Linear(in_features=6, out_features=2*output_size)\n",
    "            )\n",
    "        \n",
    "                # Decoder\n",
    "        self.func_de = nn.Sequential(\n",
    "                nn.Linear(in_features=input_size_de, out_features=6),\n",
    "                nn.ReLU(),\n",
    "                nn.Linear(in_features=6, out_features=output_size_de)\n",
    "            )\n",
    "        \n",
    "        # Prior\n",
    "        self.TNN = nn.Sequential(\n",
    "            nn.Linear(in_features=input_size_de, out_features=6),\n",
    "            nn.ReLU(),\n",
    "            nn.Linear(in_features=6, out_features=y_dim*2)\n",
    "        )\n",
    "        \n",
    "        self.lambdaNN = nn.Sequential(\n",
    "            nn.Linear(in_features=ye_dim, out_features=6),\n",
    "            nn.ReLU(),\n",
    "            nn.Linear(in_features=6, out_features=y_dim*2)\n",
    "        )\n",
    "        \n",
    "        self.lambdaf = nn.Sequential(\n",
    "            nn.Linear(in_features=ye_dim, out_features=6),\n",
    "            nn.ReLU(),\n",
    "            nn.Linear(in_features=6, out_features=input_size_de*2*2)\n",
    "        )\n",
    "        \n",
    "        self.normal_dist = Normal_dist()\n",
    "        \n",
    "        \n",
    "    \n",
    "    def forward(self, x, y, e, beta=1):\n",
    "        # Format input\n",
    "        xye=torch.cat((x, y, e), 1)\n",
    "        \n",
    "        # Get encoder params\n",
    "        z_usigma = self.func_en(xye)\n",
    "        zu, zsigma = z_usigma.chunk(2, dim = -1) # Get mu and sigma\n",
    "        zsigma = zsigma.exp()\n",
    "        encoder_params = zu, zsigma\n",
    "\n",
    "        # Sample Z\n",
    "        z = self.normal_dist.sample(zu, zsigma)\n",
    "\n",
    "        # Get decoder params\n",
    "        de_u = self.func_de(z)\n",
    "        \n",
    "        # Get prior params\n",
    "        #ye = torch.cat((y, e), 1)\n",
    "        #prior_u, prior_sigma = self.func(ye).chunk(2, axis = -1)\n",
    "        #prior_sigma = prior_sigma.exp()\n",
    "        \n",
    "        return zu, zsigma, de_u, z\n",
    "    \n",
    "    def elbo(self, x, y, e, beta=1):\n",
    "        # Get encoder and decoder params\n",
    "        zu, zsigma, de_u, z = self.forward(x, y, e)\n",
    "        \n",
    "        # Samples from distributions with the acquired parameters\n",
    "        lvar = 0.01*torch.ones(1).to('cpu')\n",
    "        log_px_z = self.normal_dist.log_pdf(x, de_u, lvar) # p(x | u, sigma)\n",
    "        log_qz_xye = self.normal_dist.log_pdf(z, zu, zsigma)\n",
    "        \n",
    "        z_temp = z.detach().requires_grad_(requires_grad = True)\n",
    "        \n",
    "        # Get prior params\n",
    "        ye = torch.cat((y.detach(),e.detach()),1)\n",
    "        \n",
    "        TNN_params, _ = self.TNN(z_temp).chunk(2, axis = -1)\n",
    "        lambdaNN_params, _ = self.lambdaNN(ye).chunk(2, axis = -1)\n",
    "        lambdaf_params, _ = self.lambdaf(ye).chunk(2, axis = -1)\n",
    "        \n",
    "        nn_ = (TNN_params*lambdaNN_params).sum(dim = 1)\n",
    "        z_cat = torch.cat((z_temp, z_temp.pow(2)), dim = 1)\n",
    "        f_ = (z_cat * lambdaf_params).sum(dim = 1)\n",
    "        pz_ye = nn_ + f_\n",
    "        \n",
    "        dpz_ye = torch.autograd.grad(pz_ye.sum(), z_temp, create_graph = True, retain_graph = True)[0]\n",
    "        ddpz_ye = torch.autograd.grad(dpz_ye.sum(), z_temp, create_graph = True, retain_graph = True)[0]\n",
    "        \n",
    "        SM = (ddpz_ye + 0.5 * dpz_ye.pow(2)).sum(1)\n",
    "\n",
    "        elbo = log_px_z - log_qz_xye + pz_ye.detach()\n",
    "\n",
    "        return elbo.mean()-SM.mean(), elbo.mean(), SM.mean()\n",
    "\n",
    "    \n",
    "    "
   ]
  },
  {
   "cell_type": "code",
   "execution_count": 9,
   "id": "a0cab8aa",
   "metadata": {},
   "outputs": [
    {
     "name": "stderr",
     "output_type": "stream",
     "text": [
      "C:\\Users\\mathi\\anaconda3\\envs\\BackDec2022\\lib\\site-packages\\torch\\distributions\\distribution.py:44: UserWarning: <class '__main__.Normal_dist'> does not define `arg_constraints`. Please set `arg_constraints = {}` or initialize the distribution with `validate_args=False` to turn off validation.\n",
      "  warnings.warn(f'{self.__class__} does not define `arg_constraints`. ' +\n"
     ]
    }
   ],
   "source": [
    "z_dim = 3\n",
    "x_y_e = 15\n",
    "x_dim = 10\n",
    "ye_dim = 5\n",
    "y_dim = 1\n",
    "net=iCARL(x.float(), y.float(), e.float(), x_y_e, z_dim, z_dim, x_dim, ye_dim, z_dim, y_dim, beta=1)"
   ]
  },
  {
   "cell_type": "code",
   "execution_count": 10,
   "id": "4c11c04c",
   "metadata": {},
   "outputs": [],
   "source": [
    "x,y,e = next(iter(train_loader))\n",
    "elbo_SM, elbo, SM = net.elbo(x.float(),y.float(),e.float())"
   ]
  },
  {
   "cell_type": "code",
   "execution_count": 11,
   "id": "8dbbe14f",
   "metadata": {},
   "outputs": [
    {
     "data": {
      "text/plain": [
       "(tensor(-8310.2090, grad_fn=<SubBackward0>),\n",
       " tensor(-8298.0391, grad_fn=<MeanBackward0>),\n",
       " tensor(12.1699, grad_fn=<MeanBackward0>))"
      ]
     },
     "execution_count": 11,
     "metadata": {},
     "output_type": "execute_result"
    }
   ],
   "source": [
    "elbo_SM, elbo, SM"
   ]
  },
  {
   "cell_type": "code",
   "execution_count": null,
   "id": "64bf0293",
   "metadata": {},
   "outputs": [
    {
     "name": "stdout",
     "output_type": "stream",
     "text": [
      "Epoch 20 of 400\n",
      "Train loss: tensor(41.9726)\n",
      "Epoch 40 of 400\n",
      "Train loss: tensor(-27.0842)\n",
      "Epoch 60 of 400\n",
      "Train loss: tensor(-45.6713)\n",
      "Epoch 80 of 400\n",
      "Train loss: tensor(-58.2030)\n",
      "Epoch 100 of 400\n",
      "Train loss: tensor(-65.0894)\n",
      "Epoch 120 of 400\n",
      "Train loss: tensor(-69.2750)\n",
      "Epoch 140 of 400\n",
      "Train loss: tensor(-75.7425)\n"
     ]
    }
   ],
   "source": [
    "from torch.optim import Adam\n",
    "optimizer = Adam(net.parameters(), lr=1e-3)\n",
    "\n",
    "epochs = 400\n",
    "train_loss = torch.zeros(epochs)\n",
    "elbo_loss = torch.zeros(epochs)\n",
    "SM_loss = torch.zeros(epochs)\n",
    "pz_ye_loss = torch.zeros(epochs)\n",
    "\n",
    "for epoch in range(epochs):\n",
    "    epoch_loss = 0\n",
    "    if epoch < 20:\n",
    "        beta = 10\n",
    "    else:\n",
    "        beta = 10\n",
    "    for x,y,e in train_loader:\n",
    "        optimizer.zero_grad()\n",
    "        loss, elbo, SM = net.elbo(x.float(), y.float(), e.float())\n",
    "        loss.mul(-1).backward()\n",
    "        optimizer.step()\n",
    "        epoch_loss += loss.mul(-1).detach()\n",
    "        \n",
    "    if (epoch+1)%20 == 0:\n",
    "        print('Epoch', epoch+1, 'of', epochs)\n",
    "        print('Train loss:', epoch_loss/len(train_loader))\n",
    "    train_loss[epoch] = epoch_loss/len(train_loader)"
   ]
  },
  {
   "cell_type": "code",
   "execution_count": null,
   "id": "996a6adf",
   "metadata": {},
   "outputs": [],
   "source": [
    "import matplotlib.pyplot as plt\n",
    "%matplotlib inline\n",
    "plt.plot(train_loss)\n",
    "plt.show()"
   ]
  },
  {
   "cell_type": "code",
   "execution_count": null,
   "id": "c5f23227",
   "metadata": {},
   "outputs": [],
   "source": [
    "# get z\n",
    "loader = test_loader\n",
    "latent_variables = torch.zeros((len(train_loader)*128, 3))\n",
    "envs_samp = np.zeros((len(train_loader)*128, 4))\n",
    "i = 0\n",
    "for x,y,e in loader:\n",
    "    _, _, _, z = net.forward(x.float(), y.float(), e.float(), beta=1)\n",
    "    latent_variables[i*128:i*128+128,:] = z.detach()\n",
    "    envs_samp[i*128:i*128+128,:] = e.squeeze().numpy().astype(int)\n",
    "    i+=1"
   ]
  },
  {
   "cell_type": "code",
   "execution_count": null,
   "id": "f0ac80df",
   "metadata": {},
   "outputs": [],
   "source": [
    "df=pd.concat([p(latent_variables.detach().numpy()), p(np.argmax(envs_samp, axis=1))],axis=1)\n",
    "df.columns = ['Z1', 'Z2', 'Z3', 'Env']\n",
    "colors = {0: 'red', 1: 'blue', 2: 'green', 3: 'yellow'}\n",
    "m=df['Env'].map(colors)\n",
    "df['c']=m\n",
    "#df.round(2)"
   ]
  },
  {
   "cell_type": "code",
   "execution_count": null,
   "id": "47c00417",
   "metadata": {},
   "outputs": [],
   "source": [
    "df"
   ]
  },
  {
   "cell_type": "code",
   "execution_count": null,
   "id": "2dc503a4",
   "metadata": {},
   "outputs": [],
   "source": [
    "%matplotlib qt\n",
    "plot_latent_3d(df, m)"
   ]
  },
  {
   "cell_type": "code",
   "execution_count": null,
   "id": "5dd9e974",
   "metadata": {},
   "outputs": [],
   "source": [
    "pdf.shape"
   ]
  },
  {
   "cell_type": "code",
   "execution_count": null,
   "id": "fe1fd262",
   "metadata": {},
   "outputs": [],
   "source": [
    "pdf=df[['Z1', 'Z2', 'Z3']]\n",
    "pdf.columns = ['pZ1', 'pZ2', 'pZ3']\n",
    "cdf=tdf[['Z1', 'Z2', 'Z3']].iloc[4000:7968,:]\n",
    "#cdf=tdf[['Z1', 'Z2', 'Z3']].iloc[:1920,:]\n",
    "cdf['pZ1']=pdf['pZ1'].values\n",
    "cdf['pZ2']=pdf['pZ2'].values\n",
    "cdf['pZ3']=pdf['pZ3'].values\n",
    "\n",
    "corrs=cdf.corr().iloc[:3,3:]\n",
    "mcc=corrs.max().mean()\n",
    "mcc_abs=np.abs(corrs.max()).mean()\n",
    "mcc, mcc_abs"
   ]
  },
  {
   "cell_type": "code",
   "execution_count": null,
   "id": "e1233dba",
   "metadata": {},
   "outputs": [],
   "source": [
    "corrs"
   ]
  },
  {
   "cell_type": "code",
   "execution_count": null,
   "id": "c345187f",
   "metadata": {},
   "outputs": [],
   "source": [
    "import pingouin as pg\n",
    "from sklearn.linear_model import LinearRegression\n",
    "df['Y']=Y[4000:7968]\n",
    "\n",
    "dfc=pd.concat([df,pd.get_dummies(df['Env'],drop_first=True)],axis=1)\n",
    "dfc['Z1x_1']=dfc['Z1']*dfc[1]\n",
    "dfc['Z1x_2']=dfc['Z1']*dfc[2]\n",
    "dfc['Z1x_3']=dfc['Z1']*dfc[3]\n",
    "dfc['Z2x_1']=dfc['Z2']*dfc[1]\n",
    "dfc['Z2x_2']=dfc['Z2']*dfc[2]\n",
    "dfc['Z2x_3']=dfc['Z2']*dfc[3]\n",
    "dfc['Z3x_1']=dfc['Z3']*dfc[1]\n",
    "dfc['Z3x_2']=dfc['Z3']*dfc[2]\n",
    "dfc['Z3x_3']=dfc['Z3']*dfc[3]\n",
    "train=dfc.iloc[:1600,:]\n",
    "test=dfc.iloc[:1600,:]"
   ]
  },
  {
   "cell_type": "code",
   "execution_count": null,
   "id": "f408daa0",
   "metadata": {},
   "outputs": [],
   "source": [
    "def predict_y(df, x_train, y_train, x_test, y_test, linear=True):\n",
    "    if linear:\n",
    "        lm = pg.linear_regression(x_train,y_train)#, add_intercept=False)\n",
    "        print(lm)\n",
    "        reg = LinearRegression().fit(x_train, y_train)\n",
    "        y_pred = reg.predict(x_test)\n",
    "        print(r2_score(y_pred, y_test))\n",
    "        \n",
    "        return y_pred\n",
    "    \n",
    "    "
   ]
  },
  {
   "cell_type": "code",
   "execution_count": null,
   "id": "790aa52a",
   "metadata": {},
   "outputs": [],
   "source": [
    "train=df.iloc[:4000,:]\n",
    "test=df.iloc[:4000,:]"
   ]
  },
  {
   "cell_type": "code",
   "execution_count": null,
   "id": "e8ca49c7",
   "metadata": {},
   "outputs": [],
   "source": [
    "y_pred=predict_y(dfc, train[['Z1', 'Z2', 'Z3']], train['Y'], test[['Z1', 'Z2', 'Z3']], test['Y'])\n",
    "#y_pred=predict_y(dfc, train[['Z1', 'Z2', 1, 2, 3, 'Z1x_1', 'Z1x_2', 'Z1x_3', 'Z2x_1', 'Z2x_2', 'Z2x_3']],\n",
    "#                 train['y'], test[['Z1', 'Z2', 1, 2, 3, 'Z1x_1', 'Z1x_2', 'Z1x_3', 'Z2x_1', 'Z2x_2', 'Z2x_3']],\n",
    "#                 test['y'])\n",
    "y_pred=predict_y(dfc, train[['Z1', 'Z2']], train['Y'], test[['Z1', 'Z2']], test['Y'])\n",
    "y_pred=predict_y(dfc, train[['Z3']], train['Y'], test[['Z3']], test['Y'])"
   ]
  },
  {
   "cell_type": "code",
   "execution_count": null,
   "id": "bb390856",
   "metadata": {},
   "outputs": [],
   "source": [
    "y_pred=predict_y(dfc, train[['Z1', 'Z2', 'Z3']], train['Y'], test[['Z1', 'Z2', 'Z3']], test['Y'])\n",
    "#y_pred=predict_y(dfc, train[['Z1', 'Z2', 1, 2, 3, 'Z1x_1', 'Z1x_2', 'Z1x_3', 'Z2x_1', 'Z2x_2', 'Z2x_3']],\n",
    "#                 train['y'], test[['Z1', 'Z2', 1, 2, 3, 'Z1x_1', 'Z1x_2', 'Z1x_3', 'Z2x_1', 'Z2x_2', 'Z2x_3']],\n",
    "#                 test['y'])\n",
    "y_pred=predict_y(dfc, train[['Z1', 'Z2']], train['Y'], test[['Z1', 'Z2']], test['Y'])\n",
    "y_pred=predict_y(dfc, train[['Z3']], train['Y'], test[['Z3']], test['Y'])"
   ]
  },
  {
   "cell_type": "code",
   "execution_count": null,
   "id": "a01b6459",
   "metadata": {},
   "outputs": [],
   "source": [
    "graphdf=df[['Z1', 'Z2', 'Z3', 'Y']]"
   ]
  },
  {
   "cell_type": "code",
   "execution_count": null,
   "id": "88bb0bc7",
   "metadata": {},
   "outputs": [],
   "source": [
    "graphdf.values"
   ]
  },
  {
   "cell_type": "code",
   "execution_count": null,
   "id": "60066470",
   "metadata": {},
   "outputs": [],
   "source": [
    "from causallearn.utils.cit import CIT\n",
    "kci_obj = CIT(graphdf.values, \"kci\") \n",
    "kci_obj(0,1, {2})\n",
    "#pE = kci_obj(0, 1, {3})\n",
    "#pYE = kci_obj(0, 1, {2, 3})"
   ]
  },
  {
   "cell_type": "code",
   "execution_count": null,
   "id": "1ed0e66e",
   "metadata": {},
   "outputs": [],
   "source": [
    "%matplotlib inline\n",
    "from causallearn.search.ConstraintBased.PC import pc   \n",
    "cg = pc(graphdf.values, 0.05)\n",
    "# visualization using pydot\n",
    "cg.draw_pydot_graph(labels = graphdf.columns)"
   ]
  },
  {
   "cell_type": "code",
   "execution_count": null,
   "id": "a2c20983",
   "metadata": {},
   "outputs": [],
   "source": []
  }
 ],
 "metadata": {
  "kernelspec": {
   "display_name": "Python 3 (ipykernel)",
   "language": "python",
   "name": "python3"
  },
  "language_info": {
   "codemirror_mode": {
    "name": "ipython",
    "version": 3
   },
   "file_extension": ".py",
   "mimetype": "text/x-python",
   "name": "python",
   "nbconvert_exporter": "python",
   "pygments_lexer": "ipython3",
   "version": "3.9.7"
  }
 },
 "nbformat": 4,
 "nbformat_minor": 5
}
