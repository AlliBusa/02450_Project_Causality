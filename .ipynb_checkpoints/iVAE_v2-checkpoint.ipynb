{
 "cells": [
  {
   "cell_type": "code",
   "execution_count": 5,
   "id": "5cc99106",
   "metadata": {},
   "outputs": [],
   "source": [
    "%run DL_func.ipynb"
   ]
  },
  {
   "cell_type": "markdown",
   "id": "6214671b",
   "metadata": {},
   "source": [
    "The first step consists of generating the synthetic data. The data is generated from the graph shown belown. Z denotes the unobserved latent variables, Y is the target variable which will be assumed observed (i.e. in the cow/camel classification problem 'Y' will correspond to the label 'cow' / 'camel'). X is the observed features as is generated from Z via a neural network. In the cow / camel classification problem 'X' would correspond to the actual image. Finally, an environment variable E is introduced. The environment determines the mean of the gaussian distribution the Z's are drawn from. The generative process for each of the variables is as follows:\n",
    "\n",
    "$$Z_1 = \\mathcal{N}(E, \\sigma=1)$$\n",
    "$$Z_2 = \\mathcal{N}(2E, \\sigma=2)$$\n",
    "$$Y = \\mathcal{N}(\\alpha_1 \\cdot Z_1+\\alpha_2 \\cdot Z_2, \\sigma=1)$$\n",
    "$$Y = \\mathcal{N}(\\alpha_3 \\cdot Y, \\sigma=1)$$\n",
    "$$X = g(Z_1, Z_2, Z_3)$$\n",
    "\n",
    "Where g is a randomly initialized neural network. All of the alphas are in this case set to 1."
   ]
  },
  {
   "cell_type": "markdown",
   "id": "d584fb10",
   "metadata": {},
   "source": [
    "First off, the Y's and Z's are generated from 4 different environments. 1000 samples from each environment is drawn."
   ]
  },
  {
   "cell_type": "code",
   "execution_count": 6,
   "id": "1a484abd",
   "metadata": {},
   "outputs": [],
   "source": [
    "E_choice, Env, Y, Z = generate_z_and_y(np.array([0.2, 2, 3, 5]), 4000)"
   ]
  },
  {
   "cell_type": "markdown",
   "id": "2b8f07c4",
   "metadata": {},
   "source": [
    "Samples from the generative process is shown in the below dataframe along with markers of which environment a sample was drawn from and the corresponding 'mean' of that environment."
   ]
  },
  {
   "cell_type": "code",
   "execution_count": 7,
   "id": "8ee84a37",
   "metadata": {},
   "outputs": [
    {
     "data": {
      "text/html": [
       "<div>\n",
       "<style scoped>\n",
       "    .dataframe tbody tr th:only-of-type {\n",
       "        vertical-align: middle;\n",
       "    }\n",
       "\n",
       "    .dataframe tbody tr th {\n",
       "        vertical-align: top;\n",
       "    }\n",
       "\n",
       "    .dataframe thead th {\n",
       "        text-align: right;\n",
       "    }\n",
       "</style>\n",
       "<table border=\"1\" class=\"dataframe\">\n",
       "  <thead>\n",
       "    <tr style=\"text-align: right;\">\n",
       "      <th></th>\n",
       "      <th>Z1</th>\n",
       "      <th>Z2</th>\n",
       "      <th>Z3</th>\n",
       "      <th>Y</th>\n",
       "      <th>Env_mean</th>\n",
       "      <th>Env</th>\n",
       "      <th>c</th>\n",
       "    </tr>\n",
       "  </thead>\n",
       "  <tbody>\n",
       "    <tr>\n",
       "      <th>0</th>\n",
       "      <td>2.80</td>\n",
       "      <td>3.82</td>\n",
       "      <td>6.37</td>\n",
       "      <td>6.51</td>\n",
       "      <td>2.0</td>\n",
       "      <td>1</td>\n",
       "      <td>blue</td>\n",
       "    </tr>\n",
       "    <tr>\n",
       "      <th>1</th>\n",
       "      <td>3.05</td>\n",
       "      <td>1.84</td>\n",
       "      <td>6.81</td>\n",
       "      <td>6.37</td>\n",
       "      <td>2.0</td>\n",
       "      <td>1</td>\n",
       "      <td>blue</td>\n",
       "    </tr>\n",
       "    <tr>\n",
       "      <th>2</th>\n",
       "      <td>4.86</td>\n",
       "      <td>14.06</td>\n",
       "      <td>16.25</td>\n",
       "      <td>17.10</td>\n",
       "      <td>5.0</td>\n",
       "      <td>3</td>\n",
       "      <td>yellow</td>\n",
       "    </tr>\n",
       "    <tr>\n",
       "      <th>3</th>\n",
       "      <td>1.42</td>\n",
       "      <td>9.81</td>\n",
       "      <td>13.73</td>\n",
       "      <td>11.49</td>\n",
       "      <td>3.0</td>\n",
       "      <td>2</td>\n",
       "      <td>green</td>\n",
       "    </tr>\n",
       "    <tr>\n",
       "      <th>4</th>\n",
       "      <td>2.14</td>\n",
       "      <td>0.79</td>\n",
       "      <td>2.51</td>\n",
       "      <td>3.35</td>\n",
       "      <td>2.0</td>\n",
       "      <td>1</td>\n",
       "      <td>blue</td>\n",
       "    </tr>\n",
       "    <tr>\n",
       "      <th>...</th>\n",
       "      <td>...</td>\n",
       "      <td>...</td>\n",
       "      <td>...</td>\n",
       "      <td>...</td>\n",
       "      <td>...</td>\n",
       "      <td>...</td>\n",
       "      <td>...</td>\n",
       "    </tr>\n",
       "    <tr>\n",
       "      <th>3995</th>\n",
       "      <td>5.49</td>\n",
       "      <td>10.40</td>\n",
       "      <td>16.84</td>\n",
       "      <td>16.35</td>\n",
       "      <td>5.0</td>\n",
       "      <td>3</td>\n",
       "      <td>yellow</td>\n",
       "    </tr>\n",
       "    <tr>\n",
       "      <th>3996</th>\n",
       "      <td>3.59</td>\n",
       "      <td>7.13</td>\n",
       "      <td>10.28</td>\n",
       "      <td>9.85</td>\n",
       "      <td>2.0</td>\n",
       "      <td>1</td>\n",
       "      <td>blue</td>\n",
       "    </tr>\n",
       "    <tr>\n",
       "      <th>3997</th>\n",
       "      <td>-1.36</td>\n",
       "      <td>-0.51</td>\n",
       "      <td>-2.96</td>\n",
       "      <td>-1.80</td>\n",
       "      <td>0.2</td>\n",
       "      <td>0</td>\n",
       "      <td>red</td>\n",
       "    </tr>\n",
       "    <tr>\n",
       "      <th>3998</th>\n",
       "      <td>3.63</td>\n",
       "      <td>9.15</td>\n",
       "      <td>12.31</td>\n",
       "      <td>11.54</td>\n",
       "      <td>3.0</td>\n",
       "      <td>2</td>\n",
       "      <td>green</td>\n",
       "    </tr>\n",
       "    <tr>\n",
       "      <th>3999</th>\n",
       "      <td>0.94</td>\n",
       "      <td>0.84</td>\n",
       "      <td>2.41</td>\n",
       "      <td>2.13</td>\n",
       "      <td>0.2</td>\n",
       "      <td>0</td>\n",
       "      <td>red</td>\n",
       "    </tr>\n",
       "  </tbody>\n",
       "</table>\n",
       "<p>4000 rows × 7 columns</p>\n",
       "</div>"
      ],
      "text/plain": [
       "        Z1     Z2     Z3      Y  Env_mean  Env       c\n",
       "0     2.80   3.82   6.37   6.51       2.0    1    blue\n",
       "1     3.05   1.84   6.81   6.37       2.0    1    blue\n",
       "2     4.86  14.06  16.25  17.10       5.0    3  yellow\n",
       "3     1.42   9.81  13.73  11.49       3.0    2   green\n",
       "4     2.14   0.79   2.51   3.35       2.0    1    blue\n",
       "...    ...    ...    ...    ...       ...  ...     ...\n",
       "3995  5.49  10.40  16.84  16.35       5.0    3  yellow\n",
       "3996  3.59   7.13  10.28   9.85       2.0    1    blue\n",
       "3997 -1.36  -0.51  -2.96  -1.80       0.2    0     red\n",
       "3998  3.63   9.15  12.31  11.54       3.0    2   green\n",
       "3999  0.94   0.84   2.41   2.13       0.2    0     red\n",
       "\n",
       "[4000 rows x 7 columns]"
      ]
     },
     "execution_count": 7,
     "metadata": {},
     "output_type": "execute_result"
    }
   ],
   "source": [
    "df=pd.concat([p(Z), p(Y), p(Env), p(E_choice)],axis=1)\n",
    "df.columns = ['Z1', 'Z2', 'Z3', 'Y', 'Env_mean', 'Env']\n",
    "colors = {0: 'red', 1: 'blue', 2: 'green', 3: 'yellow'}\n",
    "m=df['Env'].map(colors)\n",
    "df['c']=m\n",
    "tdf=df\n",
    "df.round(2)"
   ]
  },
  {
   "cell_type": "markdown",
   "id": "069c44fd",
   "metadata": {},
   "source": [
    "Figure x shows a 3d-plot of the samples in (Z1, Z2, Z3)-space coloured by environment."
   ]
  },
  {
   "cell_type": "code",
   "execution_count": 8,
   "id": "6c4a85b9",
   "metadata": {},
   "outputs": [
    {
     "name": "stderr",
     "output_type": "stream",
     "text": [
      "Axes3D(fig) adding itself to the figure is deprecated since 3.4. Pass the keyword argument auto_add_to_figure=False and use fig.add_axes(ax) to suppress this warning. The default value of auto_add_to_figure will change to False in mpl3.5 and True values will no longer work in 3.6.  This is consistent with other Axes classes.\n"
     ]
    },
    {
     "data": {
      "image/png": "[encoded data removed]",
      "text/plain": [
       "<Figure size 432x288 with 1 Axes>"
      ]
     },
     "metadata": {
      "needs_background": "light"
     },
     "output_type": "display_data"
    }
   ],
   "source": [
    "# for creating a responsive plot\n",
    "#%matplotlib qt\n",
    "%matplotlib inline\n",
    "\n",
    "plot_latent_3d(df, m)"
   ]
  },
  {
   "cell_type": "markdown",
   "id": "b09470fb",
   "metadata": {},
   "source": [
    "Finally, the observed X-values are generated via a randomly initialized neural network with 6 hidden units and 10 output units."
   ]
  },
  {
   "cell_type": "code",
   "execution_count": 9,
   "id": "f735a497",
   "metadata": {},
   "outputs": [],
   "source": [
    "net=Net(3, 6, 10)\n",
    "X=net(torch.from_numpy(Z.astype(\"float32\"))).detach().numpy()"
   ]
  },
  {
   "cell_type": "code",
   "execution_count": 10,
   "id": "9929b345",
   "metadata": {},
   "outputs": [],
   "source": [
    "dset = EnvDataset(X[:2000],Y[:2000],E_choice[:2000])\n",
    "train_loader = DataLoader(dset, batch_size=128, drop_last=True)\n",
    "dset = EnvDataset(X[2000:],Y[2000:],E_choice[2000:])\n",
    "test_loader = DataLoader(dset, batch_size=128, drop_last=True)\n",
    "x,y,e = next(iter(train_loader))"
   ]
  },
  {
   "cell_type": "code",
   "execution_count": 11,
   "id": "a0cab8aa",
   "metadata": {},
   "outputs": [
    {
     "name": "stderr",
     "output_type": "stream",
     "text": [
      "<class '__main__.Normal_dist'> does not define `arg_constraints`. Please set `arg_constraints = {}` or initialize the distribution with `validate_args=False` to turn off validation.\n"
     ]
    }
   ],
   "source": [
    "net=UglyiVAE(x.float(), y.float(), e.float(), 15, 3, 3, 10, 5, 3, beta=1)"
   ]
  },
  {
   "cell_type": "code",
   "execution_count": 12,
   "id": "64bf0293",
   "metadata": {},
   "outputs": [
    {
     "name": "stdout",
     "output_type": "stream",
     "text": [
      "Epoch 20 of 200\n",
      "Train loss: tensor(95.6104)\n",
      "Epoch 40 of 200\n",
      "Train loss: tensor(66.8602)\n",
      "Epoch 60 of 200\n",
      "Train loss: tensor(27.1538)\n",
      "Epoch 80 of 200\n",
      "Train loss: tensor(14.4189)\n",
      "Epoch 100 of 200\n",
      "Train loss: tensor(7.7263)\n",
      "Epoch 120 of 200\n",
      "Train loss: tensor(3.6507)\n",
      "Epoch 140 of 200\n",
      "Train loss: tensor(1.1285)\n",
      "Epoch 160 of 200\n",
      "Train loss: tensor(-0.2409)\n",
      "Epoch 180 of 200\n",
      "Train loss: tensor(-1.2058)\n",
      "Epoch 200 of 200\n",
      "Train loss: tensor(-1.7643)\n"
     ]
    }
   ],
   "source": [
    "from torch.optim import Adam\n",
    "optimizer = Adam(net.parameters(), lr=1e-3)\n",
    "\n",
    "epochs = 200\n",
    "train_loss = torch.zeros(epochs)\n",
    "elbo_loss = torch.zeros(epochs)\n",
    "SM_loss = torch.zeros(epochs)\n",
    "pz_ye_loss = torch.zeros(epochs)\n",
    "\n",
    "for epoch in range(epochs):\n",
    "    epoch_loss = 0\n",
    "    if epoch < 20:\n",
    "        beta = 10\n",
    "    else:\n",
    "        beta = 10\n",
    "    for x,y,e in train_loader:\n",
    "        optimizer.zero_grad()\n",
    "        loss = net.elbo(x.float(), y.float(), e.float())\n",
    "        loss.mul(-1).backward()\n",
    "        optimizer.step()\n",
    "        epoch_loss += loss.mul(-1).detach()\n",
    "        \n",
    "    if (epoch+1)%20 == 0:\n",
    "        print('Epoch', epoch+1, 'of', epochs)\n",
    "        print('Train loss:', epoch_loss/len(train_loader))\n",
    "    train_loss[epoch] = epoch_loss/len(train_loader)"
   ]
  },
  {
   "cell_type": "code",
   "execution_count": 13,
   "id": "996a6adf",
   "metadata": {},
   "outputs": [
    {
     "data": {
      "image/png": "[encoded data removed]",
      "text/plain": [
       "<Figure size 432x288 with 1 Axes>"
      ]
     },
     "metadata": {
      "needs_background": "light"
     },
     "output_type": "display_data"
    }
   ],
   "source": [
    "import matplotlib.pyplot as plt\n",
    "plt.plot(train_loss)\n",
    "plt.show()\n"
   ]
  },
  {
   "cell_type": "code",
   "execution_count": 14,
   "id": "c5f23227",
   "metadata": {},
   "outputs": [],
   "source": [
    "# get z\n",
    "loader = test_loader\n",
    "latent_variables = torch.zeros((len(train_loader)*128, 3))\n",
    "envs_samp = np.zeros((len(train_loader)*128, 4))\n",
    "i = 0\n",
    "for x,y,e in loader:\n",
    "    _, _, _, _, _, z = net.forward(x.float(), y.float(), e.float(), beta=1)\n",
    "    latent_variables[i*128:i*128+128,:] = z.detach()\n",
    "    envs_samp[i*128:i*128+128,:] = e.squeeze().numpy().astype(int)\n",
    "    i+=1"
   ]
  },
  {
   "cell_type": "code",
   "execution_count": 15,
   "id": "f0ac80df",
   "metadata": {},
   "outputs": [],
   "source": [
    "df=pd.concat([p(latent_variables.detach().numpy()), p(np.argmax(envs_samp, axis=1))],axis=1)\n",
    "df.columns = ['Z1', 'Z2', 'Z3', 'Env']\n",
    "colors = {0: 'red', 1: 'blue', 2: 'green', 3: 'yellow'}\n",
    "m=df['Env'].map(colors)\n",
    "df['c']=m\n",
    "#df.round(2)"
   ]
  },
  {
   "cell_type": "code",
   "execution_count": 16,
   "id": "2dc503a4",
   "metadata": {},
   "outputs": [],
   "source": [
    "#%matplotlib qt\n",
    "#plot_latent_3d(df, m)"
   ]
  },
  {
   "cell_type": "code",
   "execution_count": 17,
   "id": "fe1fd262",
   "metadata": {},
   "outputs": [
    {
     "data": {
      "text/plain": [
       "(0.3752910146183041, 0.9170430046329244)"
      ]
     },
     "execution_count": 17,
     "metadata": {},
     "output_type": "execute_result"
    }
   ],
   "source": [
    "pdf=df[['Z1', 'Z2', 'Z3']]\n",
    "pdf.columns = ['pZ1', 'pZ2', 'pZ3']\n",
    "cdf=tdf[['Z1', 'Z2', 'Z3']].iloc[2000:3920,:]\n",
    "#cdf=tdf[['Z1', 'Z2', 'Z3']].iloc[:1920,:]\n",
    "cdf['pZ1']=pdf['pZ1'].values\n",
    "cdf['pZ2']=pdf['pZ2'].values\n",
    "cdf['pZ3']=pdf['pZ3'].values\n",
    "\n",
    "corrs=cdf.corr().iloc[:3,3:]\n",
    "mcc=corrs.max().mean()\n",
    "mcc_abs=np.abs(corrs.max()).mean()\n",
    "mcc, mcc_abs"
   ]
  },
  {
   "cell_type": "markdown",
   "id": "f23fb7cc",
   "metadata": {},
   "source": [
    "## Case with just 2 latent variables ##"
   ]
  },
  {
   "cell_type": "code",
   "execution_count": 18,
   "id": "6440882f",
   "metadata": {},
   "outputs": [],
   "source": [
    "E_choice, Env, Y, Z = generate_z_and_y(np.array([0.2, 2, 3, 5]), 4000, three_z=False)"
   ]
  },
  {
   "cell_type": "markdown",
   "id": "9d9d6245",
   "metadata": {},
   "source": [
    "Samples from the generative process is shown in the below dataframe along with markers of which environment a sample was drawn from and the corresponding 'mean' of that environment."
   ]
  },
  {
   "cell_type": "code",
   "execution_count": 19,
   "id": "a3c90d75",
   "metadata": {},
   "outputs": [
    {
     "data": {
      "text/html": [
       "<div>\n",
       "<style scoped>\n",
       "    .dataframe tbody tr th:only-of-type {\n",
       "        vertical-align: middle;\n",
       "    }\n",
       "\n",
       "    .dataframe tbody tr th {\n",
       "        vertical-align: top;\n",
       "    }\n",
       "\n",
       "    .dataframe thead th {\n",
       "        text-align: right;\n",
       "    }\n",
       "</style>\n",
       "<table border=\"1\" class=\"dataframe\">\n",
       "  <thead>\n",
       "    <tr style=\"text-align: right;\">\n",
       "      <th></th>\n",
       "      <th>Z1</th>\n",
       "      <th>Z2</th>\n",
       "      <th>Y</th>\n",
       "      <th>Env_mean</th>\n",
       "      <th>Env</th>\n",
       "      <th>c</th>\n",
       "    </tr>\n",
       "  </thead>\n",
       "  <tbody>\n",
       "    <tr>\n",
       "      <th>0</th>\n",
       "      <td>5.14</td>\n",
       "      <td>8.30</td>\n",
       "      <td>12.12</td>\n",
       "      <td>5.0</td>\n",
       "      <td>3</td>\n",
       "      <td>yellow</td>\n",
       "    </tr>\n",
       "    <tr>\n",
       "      <th>1</th>\n",
       "      <td>3.47</td>\n",
       "      <td>3.72</td>\n",
       "      <td>7.90</td>\n",
       "      <td>2.0</td>\n",
       "      <td>1</td>\n",
       "      <td>blue</td>\n",
       "    </tr>\n",
       "    <tr>\n",
       "      <th>2</th>\n",
       "      <td>4.87</td>\n",
       "      <td>8.17</td>\n",
       "      <td>12.86</td>\n",
       "      <td>3.0</td>\n",
       "      <td>2</td>\n",
       "      <td>green</td>\n",
       "    </tr>\n",
       "    <tr>\n",
       "      <th>3</th>\n",
       "      <td>1.65</td>\n",
       "      <td>3.33</td>\n",
       "      <td>5.84</td>\n",
       "      <td>3.0</td>\n",
       "      <td>2</td>\n",
       "      <td>green</td>\n",
       "    </tr>\n",
       "    <tr>\n",
       "      <th>4</th>\n",
       "      <td>0.51</td>\n",
       "      <td>2.85</td>\n",
       "      <td>4.26</td>\n",
       "      <td>0.2</td>\n",
       "      <td>0</td>\n",
       "      <td>red</td>\n",
       "    </tr>\n",
       "    <tr>\n",
       "      <th>...</th>\n",
       "      <td>...</td>\n",
       "      <td>...</td>\n",
       "      <td>...</td>\n",
       "      <td>...</td>\n",
       "      <td>...</td>\n",
       "      <td>...</td>\n",
       "    </tr>\n",
       "    <tr>\n",
       "      <th>3995</th>\n",
       "      <td>4.07</td>\n",
       "      <td>4.35</td>\n",
       "      <td>7.12</td>\n",
       "      <td>2.0</td>\n",
       "      <td>1</td>\n",
       "      <td>blue</td>\n",
       "    </tr>\n",
       "    <tr>\n",
       "      <th>3996</th>\n",
       "      <td>0.69</td>\n",
       "      <td>3.88</td>\n",
       "      <td>4.54</td>\n",
       "      <td>2.0</td>\n",
       "      <td>1</td>\n",
       "      <td>blue</td>\n",
       "    </tr>\n",
       "    <tr>\n",
       "      <th>3997</th>\n",
       "      <td>4.16</td>\n",
       "      <td>4.30</td>\n",
       "      <td>6.82</td>\n",
       "      <td>3.0</td>\n",
       "      <td>2</td>\n",
       "      <td>green</td>\n",
       "    </tr>\n",
       "    <tr>\n",
       "      <th>3998</th>\n",
       "      <td>-2.01</td>\n",
       "      <td>4.26</td>\n",
       "      <td>2.51</td>\n",
       "      <td>0.2</td>\n",
       "      <td>0</td>\n",
       "      <td>red</td>\n",
       "    </tr>\n",
       "    <tr>\n",
       "      <th>3999</th>\n",
       "      <td>0.04</td>\n",
       "      <td>2.49</td>\n",
       "      <td>2.73</td>\n",
       "      <td>0.2</td>\n",
       "      <td>0</td>\n",
       "      <td>red</td>\n",
       "    </tr>\n",
       "  </tbody>\n",
       "</table>\n",
       "<p>4000 rows × 6 columns</p>\n",
       "</div>"
      ],
      "text/plain": [
       "        Z1    Z2      Y  Env_mean  Env       c\n",
       "0     5.14  8.30  12.12       5.0    3  yellow\n",
       "1     3.47  3.72   7.90       2.0    1    blue\n",
       "2     4.87  8.17  12.86       3.0    2   green\n",
       "3     1.65  3.33   5.84       3.0    2   green\n",
       "4     0.51  2.85   4.26       0.2    0     red\n",
       "...    ...   ...    ...       ...  ...     ...\n",
       "3995  4.07  4.35   7.12       2.0    1    blue\n",
       "3996  0.69  3.88   4.54       2.0    1    blue\n",
       "3997  4.16  4.30   6.82       3.0    2   green\n",
       "3998 -2.01  4.26   2.51       0.2    0     red\n",
       "3999  0.04  2.49   2.73       0.2    0     red\n",
       "\n",
       "[4000 rows x 6 columns]"
      ]
     },
     "execution_count": 19,
     "metadata": {},
     "output_type": "execute_result"
    }
   ],
   "source": [
    "df=pd.concat([p(Z), p(Y), p(Env), p(E_choice)],axis=1)\n",
    "df.columns = ['Z1', 'Z2', 'Y', 'Env_mean', 'Env']\n",
    "colors = {0: 'red', 1: 'blue', 2: 'green', 3: 'yellow'}\n",
    "m=df['Env'].map(colors)\n",
    "df['c']=m\n",
    "tdf=df\n",
    "df.round(2)"
   ]
  },
  {
   "cell_type": "markdown",
   "id": "36621c2c",
   "metadata": {},
   "source": [
    "Figure x shows a 3d-plot of the samples in (Z1, Z2, Z3)-space coloured by environment."
   ]
  },
  {
   "cell_type": "code",
   "execution_count": 20,
   "id": "0aefab9a",
   "metadata": {},
   "outputs": [],
   "source": [
    "# for creating a responsive plot\n",
    "#%matplotlib qt\n",
    "\n",
    "#plot_latent_3d(df, m)"
   ]
  },
  {
   "cell_type": "markdown",
   "id": "c49fa101",
   "metadata": {},
   "source": [
    "Finally, the observed X-values are generated via a randomly initialized neural network with 6 hidden units and 10 output units."
   ]
  },
  {
   "cell_type": "code",
   "execution_count": 21,
   "id": "75c89fb2",
   "metadata": {},
   "outputs": [],
   "source": [
    "net=Net(2, 6, 10)\n",
    "X=net(torch.from_numpy(Z.astype(\"float32\"))).detach().numpy()"
   ]
  },
  {
   "cell_type": "code",
   "execution_count": 22,
   "id": "70e341c8",
   "metadata": {},
   "outputs": [],
   "source": [
    "dset = EnvDataset(X[:2000],Y[:2000],E_choice[:2000])\n",
    "train_loader = DataLoader(dset, batch_size=128, drop_last=True)\n",
    "dset = EnvDataset(X[2000:],Y[2000:],E_choice[2000:])\n",
    "test_loader = DataLoader(dset, batch_size=128, drop_last=True)\n",
    "x,y,e = next(iter(train_loader))"
   ]
  },
  {
   "cell_type": "code",
   "execution_count": 23,
   "id": "04a67092",
   "metadata": {},
   "outputs": [
    {
     "name": "stderr",
     "output_type": "stream",
     "text": [
      "<class '__main__.Normal_dist'> does not define `arg_constraints`. Please set `arg_constraints = {}` or initialize the distribution with `validate_args=False` to turn off validation.\n"
     ]
    }
   ],
   "source": [
    "net=UglyiVAE(x.float(), y.float(), e.float(), 15, 2, 2, 10, 5, 2, beta=1)"
   ]
  },
  {
   "cell_type": "code",
   "execution_count": 24,
   "id": "6b4e4ad2",
   "metadata": {},
   "outputs": [
    {
     "name": "stdout",
     "output_type": "stream",
     "text": [
      "Epoch 20 of 200\n",
      "Train loss: tensor(15.7192)\n",
      "Epoch 40 of 200\n",
      "Train loss: tensor(4.7553)\n",
      "Epoch 60 of 200\n",
      "Train loss: tensor(-0.0764)\n",
      "Epoch 80 of 200\n",
      "Train loss: tensor(-2.1163)\n",
      "Epoch 100 of 200\n",
      "Train loss: tensor(-2.8605)\n",
      "Epoch 120 of 200\n",
      "Train loss: tensor(-3.2478)\n",
      "Epoch 140 of 200\n",
      "Train loss: tensor(-3.5309)\n",
      "Epoch 160 of 200\n",
      "Train loss: tensor(-3.7129)\n",
      "Epoch 180 of 200\n",
      "Train loss: tensor(-4.0509)\n",
      "Epoch 200 of 200\n",
      "Train loss: tensor(-4.4524)\n"
     ]
    }
   ],
   "source": [
    "from torch.optim import Adam\n",
    "optimizer = Adam(net.parameters(), lr=1e-3)\n",
    "\n",
    "epochs = 200\n",
    "train_loss = torch.zeros(epochs)\n",
    "elbo_loss = torch.zeros(epochs)\n",
    "SM_loss = torch.zeros(epochs)\n",
    "pz_ye_loss = torch.zeros(epochs)\n",
    "\n",
    "for epoch in range(epochs):\n",
    "    epoch_loss = 0\n",
    "    if epoch < 20:\n",
    "        beta = 10\n",
    "    else:\n",
    "        beta = 10\n",
    "    for x,y,e in train_loader:\n",
    "        optimizer.zero_grad()\n",
    "        loss = net.elbo(x.float(), y.float(), e.float())\n",
    "        loss.mul(-1).backward()\n",
    "        optimizer.step()\n",
    "        epoch_loss += loss.mul(-1).detach()\n",
    "        \n",
    "    if (epoch+1)%20 == 0:\n",
    "        print('Epoch', epoch+1, 'of', epochs)\n",
    "        print('Train loss:', epoch_loss/len(train_loader))\n",
    "    train_loss[epoch] = epoch_loss/len(train_loader)"
   ]
  },
  {
   "cell_type": "code",
   "execution_count": 25,
   "id": "942d3cee",
   "metadata": {},
   "outputs": [
    {
     "data": {
      "image/png": "[encoded data removed]",
      "text/plain": [
       "<Figure size 432x288 with 1 Axes>"
      ]
     },
     "metadata": {
      "needs_background": "light"
     },
     "output_type": "display_data"
    }
   ],
   "source": [
    "import matplotlib.pyplot as plt\n",
    "plt.plot(train_loss)\n",
    "plt.show()\n"
   ]
  },
  {
   "cell_type": "code",
   "execution_count": 26,
   "id": "23f9284b",
   "metadata": {},
   "outputs": [],
   "source": [
    "# get z\n",
    "loader = test_loader\n",
    "latent_variables = torch.zeros((len(train_loader)*128, 2))\n",
    "envs_samp = np.zeros((len(train_loader)*128, 4))\n",
    "i = 0\n",
    "for x,y,e in loader:\n",
    "    _, _, _, _, _, z = net.forward(x.float(), y.float(), e.float(), beta=1)\n",
    "    latent_variables[i*128:i*128+128,:] = z.detach()\n",
    "    envs_samp[i*128:i*128+128,:] = e.squeeze().numpy().astype(int)\n",
    "    i+=1"
   ]
  },
  {
   "cell_type": "code",
   "execution_count": 27,
   "id": "1c5163c5",
   "metadata": {},
   "outputs": [],
   "source": [
    "df=pd.concat([p(latent_variables.detach().numpy()), p(np.argmax(envs_samp, axis=1))],axis=1)\n",
    "df.columns = ['Z1', 'Z2', 'Env']\n",
    "colors = {0: 'red', 1: 'blue', 2: 'green', 3: 'yellow'}\n",
    "m=df['Env'].map(colors)\n",
    "df['c']=m\n",
    "#df.round(2)"
   ]
  },
  {
   "cell_type": "code",
   "execution_count": 28,
   "id": "07b1d465",
   "metadata": {},
   "outputs": [
    {
     "data": {
      "text/plain": [
       "Text(0, 0.5, 'Z2-axis')"
      ]
     },
     "execution_count": 28,
     "metadata": {},
     "output_type": "execute_result"
    },
    {
     "data": {
      "image/png": "[encoded data removed]",
      "text/plain": [
       "<Figure size 432x288 with 1 Axes>"
      ]
     },
     "metadata": {
      "needs_background": "light"
     },
     "output_type": "display_data"
    }
   ],
   "source": [
    "#%matplotlib qt\n",
    "#plot_latent_3d(df, m)\n",
    "fig = plt.figure()\n",
    "\n",
    "\n",
    "# creating the plot\n",
    "plt.scatter(df['Z1'], df['Z2'], c=m)\n",
    "# setting title and labels\n",
    "plt.title(\"3D plot\")\n",
    "plt.xlabel('Z1-axis')\n",
    "plt.ylabel('Z2-axis')"
   ]
  },
  {
   "cell_type": "code",
   "execution_count": 29,
   "id": "9b18f3ef",
   "metadata": {},
   "outputs": [
    {
     "data": {
      "text/plain": [
       "(-0.8353084726969288, 0.8353084726969288)"
      ]
     },
     "execution_count": 29,
     "metadata": {},
     "output_type": "execute_result"
    }
   ],
   "source": [
    "pdf=df[['Z1', 'Z2']]\n",
    "pdf.columns = ['pZ1', 'pZ2']\n",
    "cdf=tdf[['Z1', 'Z2']].iloc[2000:3920,:]\n",
    "#cdf=tdf[['Z1', 'Z2', 'Z3']].iloc[:1920,:]\n",
    "cdf['pZ1']=pdf['pZ1'].values\n",
    "cdf['pZ2']=pdf['pZ2'].values\n",
    "\n",
    "corrs=cdf.corr().iloc[:2,2:]\n",
    "mcc=corrs.max().mean()\n",
    "mcc_abs=np.abs(corrs.max()).mean()\n",
    "mcc, mcc_abs"
   ]
  },
  {
   "cell_type": "code",
   "execution_count": 59,
   "id": "6703654f",
   "metadata": {},
   "outputs": [],
   "source": [
    "import pingouin as pg\n",
    "from sklearn.linear_model import LinearRegression\n",
    "df['y']=Y[2000:3920]"
   ]
  },
  {
   "cell_type": "code",
   "execution_count": 78,
   "id": "9f4c7972",
   "metadata": {},
   "outputs": [],
   "source": [
    "import pingouin as pg\n",
    "from sklearn.linear_model import LinearRegression\n",
    "df['y']=Y[2000:3920]\n",
    "\n",
    "dfc=pd.concat([df,pd.get_dummies(df['Env'],drop_first=True)],axis=1)\n",
    "dfc['Z1x_1']=dfc['Z1']*dfc[1]\n",
    "dfc['Z1x_2']=dfc['Z1']*dfc[2]\n",
    "dfc['Z1x_3']=dfc['Z1']*dfc[3]\n",
    "dfc['Z2x_1']=dfc['Z2']*dfc[1]\n",
    "dfc['Z2x_2']=dfc['Z2']*dfc[2]\n",
    "dfc['Z2x_3']=dfc['Z2']*dfc[3]\n",
    "train=dfc.iloc[:1600,:]\n",
    "test=dfc.iloc[:1600,:]"
   ]
  },
  {
   "cell_type": "code",
   "execution_count": 79,
   "id": "7b8ebb8b",
   "metadata": {},
   "outputs": [],
   "source": [
    "def predict_y(df, x_train, y_train, x_test, y_test, linear=True):\n",
    "    if linear:\n",
    "        lm = pg.linear_regression(x_train,y_train)\n",
    "        print(lm)\n",
    "        reg = LinearRegression().fit(x_train, y_train)\n",
    "        y_pred = reg.predict(x_test)\n",
    "        print(r2_score(y_pred, y_test))\n",
    "        \n",
    "        return y_pred\n",
    "    \n",
    "    "
   ]
  },
  {
   "cell_type": "code",
   "execution_count": 82,
   "id": "2ba48295",
   "metadata": {},
   "outputs": [
    {
     "name": "stdout",
     "output_type": "stream",
     "text": [
      "       names      coef        se          T      pval        r2    adj_r2  \\\n",
      "0  Intercept -0.070643  0.126173  -0.559890  0.575633  0.948108  0.948043   \n",
      "1         Z1 -1.046245  0.011171 -93.655900  0.000000  0.948108  0.948043   \n",
      "2         Z2 -0.142326  0.068904  -2.065574  0.039030  0.948108  0.948043   \n",
      "\n",
      "   CI[2.5%]  CI[97.5%]  \n",
      "0 -0.318125   0.176839  \n",
      "1 -1.068156  -1.024333  \n",
      "2 -0.277477  -0.007175  \n",
      "0.945267381614653\n"
     ]
    }
   ],
   "source": [
    "y_pred=predict_y(dfc, train[['Z1', 'Z2']], train['y'], test[['Z1', 'Z2']], test['y'])\n",
    "#y_pred=predict_y(dfc, train[['Z1', 'Z2', 1, 2, 3, 'Z1x_1', 'Z1x_2', 'Z1x_3', 'Z2x_1', 'Z2x_2', 'Z2x_3']],\n",
    "#                 train['y'], test[['Z1', 'Z2', 1, 2, 3, 'Z1x_1', 'Z1x_2', 'Z1x_3', 'Z2x_1', 'Z2x_2', 'Z2x_3']],\n",
    "#                 test['y'])"
   ]
  },
  {
   "cell_type": "code",
   "execution_count": 67,
   "id": "e1ef092a",
   "metadata": {},
   "outputs": [
    {
     "data": {
      "text/html": [
       "<div>\n",
       "<style scoped>\n",
       "    .dataframe tbody tr th:only-of-type {\n",
       "        vertical-align: middle;\n",
       "    }\n",
       "\n",
       "    .dataframe tbody tr th {\n",
       "        vertical-align: top;\n",
       "    }\n",
       "\n",
       "    .dataframe thead th {\n",
       "        text-align: right;\n",
       "    }\n",
       "</style>\n",
       "<table border=\"1\" class=\"dataframe\">\n",
       "  <thead>\n",
       "    <tr style=\"text-align: right;\">\n",
       "      <th></th>\n",
       "      <th>Z1</th>\n",
       "      <th>Z2</th>\n",
       "      <th>Env</th>\n",
       "      <th>c</th>\n",
       "      <th>y</th>\n",
       "      <th>1</th>\n",
       "      <th>2</th>\n",
       "      <th>3</th>\n",
       "    </tr>\n",
       "  </thead>\n",
       "  <tbody>\n",
       "    <tr>\n",
       "      <th>0</th>\n",
       "      <td>-0.700918</td>\n",
       "      <td>-1.545036</td>\n",
       "      <td>1</td>\n",
       "      <td>blue</td>\n",
       "      <td>2.105738</td>\n",
       "      <td>1</td>\n",
       "      <td>0</td>\n",
       "      <td>0</td>\n",
       "    </tr>\n",
       "    <tr>\n",
       "      <th>1</th>\n",
       "      <td>-17.146027</td>\n",
       "      <td>-4.123699</td>\n",
       "      <td>3</td>\n",
       "      <td>yellow</td>\n",
       "      <td>19.571413</td>\n",
       "      <td>0</td>\n",
       "      <td>0</td>\n",
       "      <td>1</td>\n",
       "    </tr>\n",
       "    <tr>\n",
       "      <th>2</th>\n",
       "      <td>-8.084637</td>\n",
       "      <td>-2.973162</td>\n",
       "      <td>1</td>\n",
       "      <td>blue</td>\n",
       "      <td>9.739190</td>\n",
       "      <td>1</td>\n",
       "      <td>0</td>\n",
       "      <td>0</td>\n",
       "    </tr>\n",
       "    <tr>\n",
       "      <th>3</th>\n",
       "      <td>-12.386584</td>\n",
       "      <td>-3.752536</td>\n",
       "      <td>2</td>\n",
       "      <td>green</td>\n",
       "      <td>11.431297</td>\n",
       "      <td>0</td>\n",
       "      <td>1</td>\n",
       "      <td>0</td>\n",
       "    </tr>\n",
       "    <tr>\n",
       "      <th>4</th>\n",
       "      <td>0.086597</td>\n",
       "      <td>-2.032686</td>\n",
       "      <td>0</td>\n",
       "      <td>red</td>\n",
       "      <td>0.221168</td>\n",
       "      <td>0</td>\n",
       "      <td>0</td>\n",
       "      <td>0</td>\n",
       "    </tr>\n",
       "    <tr>\n",
       "      <th>...</th>\n",
       "      <td>...</td>\n",
       "      <td>...</td>\n",
       "      <td>...</td>\n",
       "      <td>...</td>\n",
       "      <td>...</td>\n",
       "      <td>...</td>\n",
       "      <td>...</td>\n",
       "      <td>...</td>\n",
       "    </tr>\n",
       "    <tr>\n",
       "      <th>1915</th>\n",
       "      <td>-12.783726</td>\n",
       "      <td>-3.196717</td>\n",
       "      <td>3</td>\n",
       "      <td>yellow</td>\n",
       "      <td>11.749545</td>\n",
       "      <td>0</td>\n",
       "      <td>0</td>\n",
       "      <td>1</td>\n",
       "    </tr>\n",
       "    <tr>\n",
       "      <th>1916</th>\n",
       "      <td>1.146295</td>\n",
       "      <td>-1.351288</td>\n",
       "      <td>0</td>\n",
       "      <td>red</td>\n",
       "      <td>-0.620404</td>\n",
       "      <td>0</td>\n",
       "      <td>0</td>\n",
       "      <td>0</td>\n",
       "    </tr>\n",
       "    <tr>\n",
       "      <th>1917</th>\n",
       "      <td>-5.732380</td>\n",
       "      <td>-2.472147</td>\n",
       "      <td>1</td>\n",
       "      <td>blue</td>\n",
       "      <td>6.677883</td>\n",
       "      <td>1</td>\n",
       "      <td>0</td>\n",
       "      <td>0</td>\n",
       "    </tr>\n",
       "    <tr>\n",
       "      <th>1918</th>\n",
       "      <td>-14.272531</td>\n",
       "      <td>-3.386412</td>\n",
       "      <td>3</td>\n",
       "      <td>yellow</td>\n",
       "      <td>16.315628</td>\n",
       "      <td>0</td>\n",
       "      <td>0</td>\n",
       "      <td>1</td>\n",
       "    </tr>\n",
       "    <tr>\n",
       "      <th>1919</th>\n",
       "      <td>-5.241296</td>\n",
       "      <td>-2.535105</td>\n",
       "      <td>1</td>\n",
       "      <td>blue</td>\n",
       "      <td>5.713707</td>\n",
       "      <td>1</td>\n",
       "      <td>0</td>\n",
       "      <td>0</td>\n",
       "    </tr>\n",
       "  </tbody>\n",
       "</table>\n",
       "<p>1920 rows × 8 columns</p>\n",
       "</div>"
      ],
      "text/plain": [
       "             Z1        Z2  Env       c          y  1  2  3\n",
       "0     -0.700918 -1.545036    1    blue   2.105738  1  0  0\n",
       "1    -17.146027 -4.123699    3  yellow  19.571413  0  0  1\n",
       "2     -8.084637 -2.973162    1    blue   9.739190  1  0  0\n",
       "3    -12.386584 -3.752536    2   green  11.431297  0  1  0\n",
       "4      0.086597 -2.032686    0     red   0.221168  0  0  0\n",
       "...         ...       ...  ...     ...        ... .. .. ..\n",
       "1915 -12.783726 -3.196717    3  yellow  11.749545  0  0  1\n",
       "1916   1.146295 -1.351288    0     red  -0.620404  0  0  0\n",
       "1917  -5.732380 -2.472147    1    blue   6.677883  1  0  0\n",
       "1918 -14.272531 -3.386412    3  yellow  16.315628  0  0  1\n",
       "1919  -5.241296 -2.535105    1    blue   5.713707  1  0  0\n",
       "\n",
       "[1920 rows x 8 columns]"
      ]
     },
     "execution_count": 67,
     "metadata": {},
     "output_type": "execute_result"
    }
   ],
   "source": [
    "dfc"
   ]
  },
  {
   "cell_type": "code",
   "execution_count": 53,
   "id": "bcab7bfe",
   "metadata": {},
   "outputs": [
    {
     "name": "stdout",
     "output_type": "stream",
     "text": [
      "       names      coef        se          T      pval        r2    adj_r2  \\\n",
      "0  Intercept -0.070643  0.126173  -0.559890  0.575633  0.948108  0.948043   \n",
      "1         Z1 -1.046245  0.011171 -93.655900  0.000000  0.948108  0.948043   \n",
      "2         Z2 -0.142326  0.068904  -2.065574  0.039030  0.948108  0.948043   \n",
      "\n",
      "   CI[2.5%]  CI[97.5%]  \n",
      "0 -0.318125   0.176839  \n",
      "1 -1.068156  -1.024333  \n",
      "2 -0.277477  -0.007175  \n"
     ]
    }
   ],
   "source": [
    "y_pred=predict_y(dfc, train[['Z1', 'Z2']], train['y'], test[['Z1', 'Z2']], test['y'])"
   ]
  },
  {
   "cell_type": "code",
   "execution_count": 55,
   "id": "b1e501a5",
   "metadata": {},
   "outputs": [
    {
     "data": {
      "text/plain": [
       "0.945267381614653"
      ]
     },
     "execution_count": 55,
     "metadata": {},
     "output_type": "execute_result"
    }
   ],
   "source": [
    "from sklearn.metrics import mean_squared_error as MSE\n",
    "from sklearn.metrics import r2_score\n",
    "MSE(y_pred, test['y'])\n",
    "r2_score(y_pred, test['y'])"
   ]
  },
  {
   "cell_type": "code",
   "execution_count": 37,
   "id": "e1b9cada",
   "metadata": {},
   "outputs": [
    {
     "data": {
      "image/png": "[encoded data removed]",
      "text/plain": [
       "<Figure size 1080x720 with 1 Axes>"
      ]
     },
     "metadata": {},
     "output_type": "display_data"
    }
   ],
   "source": [
    "# Get skeleton graph\n",
    "# initialize graph lasso\n",
    "glasso = cdt.independence.graph.Glasso()\n",
    "# apply graph lasso to data\n",
    "skeleton = glasso.predict(dfc)\n",
    "# visualize network\n",
    "fig = plt.figure(figsize=(15,10))\n",
    "nx.draw_networkx(skeleton, font_size=18, font_color='r')"
   ]
  },
  {
   "cell_type": "code",
   "execution_count": 38,
   "id": "0988b0a7",
   "metadata": {},
   "outputs": [
    {
     "name": "stdout",
     "output_type": "stream",
     "text": [
      "R Call errored, is R available ?\n"
     ]
    },
    {
     "ename": "FileNotFoundError",
     "evalue": "[WinError 2] The system cannot find the file specified",
     "output_type": "error",
     "traceback": [
      "\u001b[1;31m---------------------------------------------------------------------------\u001b[0m",
      "\u001b[1;31mFileNotFoundError\u001b[0m                         Traceback (most recent call last)",
      "\u001b[1;32m~\\AppData\\Local\\Temp/ipykernel_22316/1609288032.py\u001b[0m in \u001b[0;36m<module>\u001b[1;34m\u001b[0m\n\u001b[0;32m      1\u001b[0m \u001b[1;31m# Use causal discovery to get causal models\u001b[0m\u001b[1;33m\u001b[0m\u001b[1;33m\u001b[0m\u001b[0m\n\u001b[0;32m      2\u001b[0m \u001b[1;31m# PC algorithm\u001b[0m\u001b[1;33m\u001b[0m\u001b[1;33m\u001b[0m\u001b[0m\n\u001b[1;32m----> 3\u001b[1;33m \u001b[0mmodel_pc\u001b[0m \u001b[1;33m=\u001b[0m \u001b[0mcdt\u001b[0m\u001b[1;33m.\u001b[0m\u001b[0mcausality\u001b[0m\u001b[1;33m.\u001b[0m\u001b[0mgraph\u001b[0m\u001b[1;33m.\u001b[0m\u001b[0mPC\u001b[0m\u001b[1;33m(\u001b[0m\u001b[1;33m)\u001b[0m\u001b[1;33m\u001b[0m\u001b[1;33m\u001b[0m\u001b[0m\n\u001b[0m\u001b[0;32m      4\u001b[0m \u001b[0mgraph_pc\u001b[0m \u001b[1;33m=\u001b[0m \u001b[0mmodel_pc\u001b[0m\u001b[1;33m.\u001b[0m\u001b[0mpredict\u001b[0m\u001b[1;33m(\u001b[0m\u001b[0mdfc\u001b[0m\u001b[1;33m,\u001b[0m \u001b[0mskeleton\u001b[0m\u001b[1;33m)\u001b[0m\u001b[1;33m\u001b[0m\u001b[1;33m\u001b[0m\u001b[0m\n\u001b[0;32m      5\u001b[0m \u001b[1;33m\u001b[0m\u001b[0m\n",
      "\u001b[1;32m~\\anaconda3\\envs\\BackDec2022\\lib\\site-packages\\cdt\\causality\\graph\\PC.py\u001b[0m in \u001b[0;36m__init__\u001b[1;34m(self, CItest, method_indep, alpha, njobs, verbose)\u001b[0m\n\u001b[0;32m    173\u001b[0m                  njobs=None, verbose=None):\n\u001b[0;32m    174\u001b[0m         \u001b[1;34m\"\"\"Init the model and its available arguments.\"\"\"\u001b[0m\u001b[1;33m\u001b[0m\u001b[1;33m\u001b[0m\u001b[0m\n\u001b[1;32m--> 175\u001b[1;33m         \u001b[1;32mif\u001b[0m \u001b[1;32mnot\u001b[0m \u001b[1;33m(\u001b[0m\u001b[0mRPackages\u001b[0m\u001b[1;33m.\u001b[0m\u001b[0mpcalg\u001b[0m \u001b[1;32mand\u001b[0m \u001b[0mRPackages\u001b[0m\u001b[1;33m.\u001b[0m\u001b[0mkpcalg\u001b[0m \u001b[1;32mand\u001b[0m \u001b[0mRPackages\u001b[0m\u001b[1;33m.\u001b[0m\u001b[0mRCIT\u001b[0m\u001b[1;33m)\u001b[0m\u001b[1;33m:\u001b[0m\u001b[1;33m\u001b[0m\u001b[1;33m\u001b[0m\u001b[0m\n\u001b[0m\u001b[0;32m    176\u001b[0m             raise ImportError(\"R Package (k)pcalg/RCIT is not available. \"\n\u001b[0;32m    177\u001b[0m                               \u001b[1;34m\"RCIT has to be installed from \"\u001b[0m\u001b[1;33m\u001b[0m\u001b[1;33m\u001b[0m\u001b[0m\n",
      "\u001b[1;32m~\\anaconda3\\envs\\BackDec2022\\lib\\site-packages\\cdt\\utils\\R.py\u001b[0m in \u001b[0;36m__getattribute__\u001b[1;34m(self, name)\u001b[0m\n\u001b[0;32m    130\u001b[0m         \u001b[0mout\u001b[0m \u001b[1;33m=\u001b[0m \u001b[0mobject\u001b[0m\u001b[1;33m.\u001b[0m\u001b[0m__getattribute__\u001b[0m\u001b[1;33m(\u001b[0m\u001b[0mself\u001b[0m\u001b[1;33m,\u001b[0m \u001b[0mname\u001b[0m\u001b[1;33m)\u001b[0m\u001b[1;33m\u001b[0m\u001b[1;33m\u001b[0m\u001b[0m\n\u001b[0;32m    131\u001b[0m         \u001b[1;32mif\u001b[0m \u001b[0mout\u001b[0m \u001b[1;32mis\u001b[0m \u001b[1;32mNone\u001b[0m \u001b[1;32mand\u001b[0m \u001b[1;32mnot\u001b[0m \u001b[0mobject\u001b[0m\u001b[1;33m.\u001b[0m\u001b[0m__getattribute__\u001b[0m\u001b[1;33m(\u001b[0m\u001b[0mself\u001b[0m\u001b[1;33m,\u001b[0m \u001b[1;34m'init'\u001b[0m\u001b[1;33m)\u001b[0m\u001b[1;33m:\u001b[0m\u001b[1;33m\u001b[0m\u001b[1;33m\u001b[0m\u001b[0m\n\u001b[1;32m--> 132\u001b[1;33m             \u001b[0mavailability\u001b[0m \u001b[1;33m=\u001b[0m \u001b[0mself\u001b[0m\u001b[1;33m.\u001b[0m\u001b[0mcheck_R_package\u001b[0m\u001b[1;33m(\u001b[0m\u001b[0mname\u001b[0m\u001b[1;33m)\u001b[0m\u001b[1;33m\u001b[0m\u001b[1;33m\u001b[0m\u001b[0m\n\u001b[0m\u001b[0;32m    133\u001b[0m             \u001b[0msetattr\u001b[0m\u001b[1;33m(\u001b[0m\u001b[0mself\u001b[0m\u001b[1;33m,\u001b[0m \u001b[0mname\u001b[0m\u001b[1;33m,\u001b[0m \u001b[0mavailability\u001b[0m\u001b[1;33m)\u001b[0m\u001b[1;33m\u001b[0m\u001b[1;33m\u001b[0m\u001b[0m\n\u001b[0;32m    134\u001b[0m             \u001b[1;32mreturn\u001b[0m \u001b[0mavailability\u001b[0m\u001b[1;33m\u001b[0m\u001b[1;33m\u001b[0m\u001b[0m\n",
      "\u001b[1;32m~\\anaconda3\\envs\\BackDec2022\\lib\\site-packages\\cdt\\utils\\R.py\u001b[0m in \u001b[0;36mcheck_R_package\u001b[1;34m(self, package)\u001b[0m\n\u001b[0;32m    144\u001b[0m             \u001b[0mbool\u001b[0m\u001b[1;33m:\u001b[0m\u001b[0;31m \u001b[0m\u001b[0;31m`\u001b[0m\u001b[1;32mTrue\u001b[0m\u001b[0;31m`\u001b[0m \u001b[1;32mif\u001b[0m \u001b[0mthe\u001b[0m \u001b[0mpackage\u001b[0m \u001b[1;32mis\u001b[0m \u001b[0mavailable\u001b[0m\u001b[1;33m,\u001b[0m\u001b[0;31m \u001b[0m\u001b[0;31m`\u001b[0m\u001b[1;32mFalse\u001b[0m\u001b[0;31m`\u001b[0m \u001b[0motherwise\u001b[0m\u001b[1;33m\u001b[0m\u001b[1;33m\u001b[0m\u001b[0m\n\u001b[0;32m    145\u001b[0m         \"\"\"\n\u001b[1;32m--> 146\u001b[1;33m         test_package = not bool(launch_R_script(Path(\"{}/R_templates/test_import.R\".format(os.path.dirname(os.path.realpath(__file__)))),\n\u001b[0m\u001b[0;32m    147\u001b[0m                                                      {\"{package}\": package}, verbose=True))\n\u001b[0;32m    148\u001b[0m         \u001b[1;32mreturn\u001b[0m \u001b[0mtest_package\u001b[0m\u001b[1;33m\u001b[0m\u001b[1;33m\u001b[0m\u001b[0m\n",
      "\u001b[1;32m~\\anaconda3\\envs\\BackDec2022\\lib\\site-packages\\cdt\\utils\\R.py\u001b[0m in \u001b[0;36mlaunch_R_script\u001b[1;34m(template, arguments, output_function, verbose, debug)\u001b[0m\n\u001b[0;32m    195\u001b[0m         \u001b[1;32mexcept\u001b[0m \u001b[0mException\u001b[0m \u001b[1;32mas\u001b[0m \u001b[0me\u001b[0m\u001b[1;33m:\u001b[0m\u001b[1;33m\u001b[0m\u001b[1;33m\u001b[0m\u001b[0m\n\u001b[0;32m    196\u001b[0m             \u001b[0mprint\u001b[0m\u001b[1;33m(\u001b[0m\u001b[1;34m\"R Call errored, is R available ?\"\u001b[0m\u001b[1;33m)\u001b[0m\u001b[1;33m\u001b[0m\u001b[1;33m\u001b[0m\u001b[0m\n\u001b[1;32m--> 197\u001b[1;33m             \u001b[1;32mraise\u001b[0m \u001b[0me\u001b[0m\u001b[1;33m\u001b[0m\u001b[1;33m\u001b[0m\u001b[0m\n\u001b[0m\u001b[0;32m    198\u001b[0m \u001b[1;33m\u001b[0m\u001b[0m\n\u001b[0;32m    199\u001b[0m     \u001b[1;32melse\u001b[0m\u001b[1;33m:\u001b[0m\u001b[1;33m\u001b[0m\u001b[1;33m\u001b[0m\u001b[0m\n",
      "\u001b[1;32m~\\anaconda3\\envs\\BackDec2022\\lib\\site-packages\\cdt\\utils\\R.py\u001b[0m in \u001b[0;36mlaunch_R_script\u001b[1;34m(template, arguments, output_function, verbose, debug)\u001b[0m\n\u001b[0;32m    190\u001b[0m     \u001b[1;32mif\u001b[0m \u001b[0moutput_function\u001b[0m \u001b[1;32mis\u001b[0m \u001b[1;32mNone\u001b[0m\u001b[1;33m:\u001b[0m\u001b[1;33m\u001b[0m\u001b[1;33m\u001b[0m\u001b[0m\n\u001b[0;32m    191\u001b[0m         \u001b[1;32mtry\u001b[0m\u001b[1;33m:\u001b[0m\u001b[1;33m\u001b[0m\u001b[1;33m\u001b[0m\u001b[0m\n\u001b[1;32m--> 192\u001b[1;33m             output = subprocess.call([str(rpath), \"--no-restore --no-save --no-site-file\", str(scriptpath)],\n\u001b[0m\u001b[0;32m    193\u001b[0m                                     \u001b[0mstdout\u001b[0m\u001b[1;33m=\u001b[0m\u001b[0msubprocess\u001b[0m\u001b[1;33m.\u001b[0m\u001b[0mDEVNULL\u001b[0m\u001b[1;33m,\u001b[0m\u001b[1;33m\u001b[0m\u001b[1;33m\u001b[0m\u001b[0m\n\u001b[0;32m    194\u001b[0m                                     stderr=subprocess.DEVNULL)\n",
      "\u001b[1;32m~\\anaconda3\\envs\\BackDec2022\\lib\\subprocess.py\u001b[0m in \u001b[0;36mcall\u001b[1;34m(timeout, *popenargs, **kwargs)\u001b[0m\n\u001b[0;32m    347\u001b[0m     \u001b[0mretcode\u001b[0m \u001b[1;33m=\u001b[0m \u001b[0mcall\u001b[0m\u001b[1;33m(\u001b[0m\u001b[1;33m[\u001b[0m\u001b[1;34m\"ls\"\u001b[0m\u001b[1;33m,\u001b[0m \u001b[1;34m\"-l\"\u001b[0m\u001b[1;33m]\u001b[0m\u001b[1;33m)\u001b[0m\u001b[1;33m\u001b[0m\u001b[1;33m\u001b[0m\u001b[0m\n\u001b[0;32m    348\u001b[0m     \"\"\"\n\u001b[1;32m--> 349\u001b[1;33m     \u001b[1;32mwith\u001b[0m \u001b[0mPopen\u001b[0m\u001b[1;33m(\u001b[0m\u001b[1;33m*\u001b[0m\u001b[0mpopenargs\u001b[0m\u001b[1;33m,\u001b[0m \u001b[1;33m**\u001b[0m\u001b[0mkwargs\u001b[0m\u001b[1;33m)\u001b[0m \u001b[1;32mas\u001b[0m \u001b[0mp\u001b[0m\u001b[1;33m:\u001b[0m\u001b[1;33m\u001b[0m\u001b[1;33m\u001b[0m\u001b[0m\n\u001b[0m\u001b[0;32m    350\u001b[0m         \u001b[1;32mtry\u001b[0m\u001b[1;33m:\u001b[0m\u001b[1;33m\u001b[0m\u001b[1;33m\u001b[0m\u001b[0m\n\u001b[0;32m    351\u001b[0m             \u001b[1;32mreturn\u001b[0m \u001b[0mp\u001b[0m\u001b[1;33m.\u001b[0m\u001b[0mwait\u001b[0m\u001b[1;33m(\u001b[0m\u001b[0mtimeout\u001b[0m\u001b[1;33m=\u001b[0m\u001b[0mtimeout\u001b[0m\u001b[1;33m)\u001b[0m\u001b[1;33m\u001b[0m\u001b[1;33m\u001b[0m\u001b[0m\n",
      "\u001b[1;32m~\\anaconda3\\envs\\BackDec2022\\lib\\subprocess.py\u001b[0m in \u001b[0;36m__init__\u001b[1;34m(self, args, bufsize, executable, stdin, stdout, stderr, preexec_fn, close_fds, shell, cwd, env, universal_newlines, startupinfo, creationflags, restore_signals, start_new_session, pass_fds, user, group, extra_groups, encoding, errors, text, umask)\u001b[0m\n\u001b[0;32m    949\u001b[0m                             encoding=encoding, errors=errors)\n\u001b[0;32m    950\u001b[0m \u001b[1;33m\u001b[0m\u001b[0m\n\u001b[1;32m--> 951\u001b[1;33m             self._execute_child(args, executable, preexec_fn, close_fds,\n\u001b[0m\u001b[0;32m    952\u001b[0m                                 \u001b[0mpass_fds\u001b[0m\u001b[1;33m,\u001b[0m \u001b[0mcwd\u001b[0m\u001b[1;33m,\u001b[0m \u001b[0menv\u001b[0m\u001b[1;33m,\u001b[0m\u001b[1;33m\u001b[0m\u001b[1;33m\u001b[0m\u001b[0m\n\u001b[0;32m    953\u001b[0m                                 \u001b[0mstartupinfo\u001b[0m\u001b[1;33m,\u001b[0m \u001b[0mcreationflags\u001b[0m\u001b[1;33m,\u001b[0m \u001b[0mshell\u001b[0m\u001b[1;33m,\u001b[0m\u001b[1;33m\u001b[0m\u001b[1;33m\u001b[0m\u001b[0m\n",
      "\u001b[1;32m~\\anaconda3\\envs\\BackDec2022\\lib\\subprocess.py\u001b[0m in \u001b[0;36m_execute_child\u001b[1;34m(self, args, executable, preexec_fn, close_fds, pass_fds, cwd, env, startupinfo, creationflags, shell, p2cread, p2cwrite, c2pread, c2pwrite, errread, errwrite, unused_restore_signals, unused_gid, unused_gids, unused_uid, unused_umask, unused_start_new_session)\u001b[0m\n\u001b[0;32m   1418\u001b[0m             \u001b[1;31m# Start the process\u001b[0m\u001b[1;33m\u001b[0m\u001b[1;33m\u001b[0m\u001b[0m\n\u001b[0;32m   1419\u001b[0m             \u001b[1;32mtry\u001b[0m\u001b[1;33m:\u001b[0m\u001b[1;33m\u001b[0m\u001b[1;33m\u001b[0m\u001b[0m\n\u001b[1;32m-> 1420\u001b[1;33m                 hp, ht, pid, tid = _winapi.CreateProcess(executable, args,\n\u001b[0m\u001b[0;32m   1421\u001b[0m                                          \u001b[1;31m# no special security\u001b[0m\u001b[1;33m\u001b[0m\u001b[1;33m\u001b[0m\u001b[0m\n\u001b[0;32m   1422\u001b[0m                                          \u001b[1;32mNone\u001b[0m\u001b[1;33m,\u001b[0m \u001b[1;32mNone\u001b[0m\u001b[1;33m,\u001b[0m\u001b[1;33m\u001b[0m\u001b[1;33m\u001b[0m\u001b[0m\n",
      "\u001b[1;31mFileNotFoundError\u001b[0m: [WinError 2] The system cannot find the file specified"
     ]
    }
   ],
   "source": [
    "# Use causal discovery to get causal models\n",
    "# PC algorithm\n",
    "model_pc = cdt.causality.graph.PC()\n",
    "graph_pc = model_pc.predict(dfc, skeleton)\n",
    "\n",
    "# visualize network\n",
    "fig=plt.figure(figsize=(15,10))\n",
    "nx.draw_networkx(graph_pc, font_size=18, font_color='r')"
   ]
  }
 ],
 "metadata": {
  "kernelspec": {
   "display_name": "Python 3 (ipykernel)",
   "language": "python",
   "name": "python3"
  },
  "language_info": {
   "codemirror_mode": {
    "name": "ipython",
    "version": 3
   },
   "file_extension": ".py",
   "mimetype": "text/x-python",
   "name": "python",
   "nbconvert_exporter": "python",
   "pygments_lexer": "ipython3",
   "version": "3.9.7"
  }
 },
 "nbformat": 4,
 "nbformat_minor": 5
}
